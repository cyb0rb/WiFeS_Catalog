{
 "cells": [
  {
   "cell_type": "markdown",
   "metadata": {},
   "source": [
    "# Generating catalogs with SkyCatalog\n",
    "\n",
    "This is a demonstration of using the `SkyCatalog` class to generate catalogs of sky positions over parts of the sky\n",
    "\n",
    "## Overview\n",
    "\n",
    "The `SkyCatalogue` class generates a list of RA / DEC coordinates of \"dark sky\" positions greater than some distance (20 arcsec default) away from any objects brighter than 21 magnitude, using object data from the [Legacy Survey Data Release 10](https://www.legacysurvey.org/dr10/description/) Tractor catalog through querying the [NOIRLAb Astro Data Lab](https://datalab.noirlab.edu/index.php)."
   ]
  },
  {
   "cell_type": "markdown",
   "metadata": {},
   "source": [
    "## Imports and dependencies\n",
    "\n",
    "The SkyCatalog class uses functionality from Astropy, Numpy, Pandas, sklearn, matplotlib, and the NOIRLab Astro Data Lab. \n",
    "\n",
    "Because of dependency requirements for the Astro Data Lab, it's recommended to use Numpy version 1.26.3 specifically. "
   ]
  },
  {
   "cell_type": "code",
   "execution_count": 1,
   "metadata": {},
   "outputs": [
    {
     "name": "stderr",
     "output_type": "stream",
     "text": [
      "/Users/vernica/Library/Python/3.9/lib/python/site-packages/urllib3/__init__.py:35: NotOpenSSLWarning: urllib3 v2 only supports OpenSSL 1.1.1+, currently the 'ssl' module is compiled with 'LibreSSL 2.8.3'. See: https://github.com/urllib3/urllib3/issues/3020\n",
      "  warnings.warn(\n"
     ]
    }
   ],
   "source": [
    "# the jupyter kernel needs to be reset if changes are made to the class\n",
    "%load_ext autoreload\n",
    "%autoreload 2\n",
    "\n",
    "from catalog_class import SkyCatalogue\n",
    "\n",
    "# these are only necessary for display purposes in this notebook\n",
    "import matplotlib.pyplot as plt\n",
    "import numpy as np"
   ]
  },
  {
   "cell_type": "markdown",
   "metadata": {},
   "source": [
    "## Initialization\n",
    "\n",
    "First, initialize the object with arguments to describe the properties of the resulting dark sky catalogue:\n",
    "\n",
    "`bands` *(default = 'g', 'r', 'i','z')*: List of LSDR10 filters used to determine object magnitudes. Possible options include any combination of 'g', 'r', 'i', and 'z'. Note that some objects in the catalog are only detected in certain filters, especially the \"reddest\" filters, so the combination of filters used can heavily affect the number of dark sky positions generated. These bands can be changed later as keyword arguments into the individual methods as well as needed.\n",
    "\n",
    "`mag_limit` *(default = 21)*: The limiting magnitude to use when querying the LSDR10 catalog. This must be greater than 16, because objects brighter than 16 magnitude are handled with external mask data that contains no information about the original object magnitude instead of queried tractor data.\n",
    "\n",
    "`map_dist` *(default = 1 degree)*: The size of one side of the unit-square level analysis during the dark sky identification algorithm. One degree or less is recommended.\n",
    "\n",
    "`mask_radius` *(default = 20 arcseconds)*: Minimum distance from an object that a \"dark sky position\" is allowed to occur at. All objects will have masks with a radius of at least `mask_value`.\n",
    "\n",
    "`fov` *(default = 45 arcseconds)*: Spacing of the grid used to calculate dark positions within the `map_dist` scale analysis, so this is also the minimum spacing between dark sky position coordinates.\n",
    "\n",
    "This initialization often takes over a minute due to the size of the KDTree object needed for fast distance calculations later on."
   ]
  },
  {
   "cell_type": "code",
   "execution_count": 2,
   "metadata": {},
   "outputs": [
    {
     "name": "stdout",
     "output_type": "stream",
     "text": [
      "Initialising...\n",
      "Loading masked star data....\n",
      "Defining grid lines...\n",
      "Creating KDTree for distance calculations...\n",
      "KDTree created!\n",
      "Initialisation complete!\n"
     ]
    }
   ],
   "source": [
    "catalog = SkyCatalogue(verbose=True)\n",
    "\n",
    "# for ease of comparison\n",
    "ra = 3\n",
    "dec = -4"
   ]
  },
  {
   "cell_type": "markdown",
   "metadata": {},
   "source": [
    "### Mask data\n",
    "\n",
    "The files in `mask_data_files/` contain stripped-down versions of the same external mask catalog data used for masking bright/medium stars\n",
    "(brighter than ABmag 16), galaxies, and clusters in the [legacypipe](https://www.legacysurvey.org/dr10/external/) pipeline for LSDR10. Optionally, the `generate_mask_files.ipynb` notebook can be used to generate mask files yourself, though it requires downloading several GB of the original mask data to do so."
   ]
  },
  {
   "cell_type": "markdown",
   "metadata": {},
   "source": [
    "## Generating Dark Sky Positions\n",
    "\n",
    "For a given starting RA / DEC, there are multiple ways to obtain a catalogue of dark sky positions with `SkyCatalogue`, depending on the desired area of coverage. However, all of the methods follow the same general process:\n",
    "- Query the Astro Data Lab for objects above `mag_limit` within the area of coverage\n",
    "- Calculate masking radii for all queried objects based on their brightest magnitude, and combine with the external catalog mask radii.\n",
    "- Generate a pixel-based segmentation map of the masked objects in a unit square to mark out what areas (pixels) are allowed or forbidden as dark areas.\n",
    "- Split the segmentation map further into a grid with pre-defined spacing, where the centers of each grid square correspond to an allowed dark sky position if no pixels of a masked object are present within it. The coordinate centers of allowed dark sky positions are then returned as a \"catalog\" for that square.\n",
    "\n",
    "### Unit Squares: `SkyCatalogue.create_degree_square()`\n",
    "The smallest scale of dark sky calculation is with `SkyCatalogue.create_degree_square()`, which is a method only runs the processes described above for a square with a side length of `map_size` defined on initialisation. This method is the smallest and fastest, but may potentially fail to account for nearby bright or extended objects with masks that may overlap into the boundaries of this region of the sky. \n",
    "\n",
    "This method can also plot the segmentation map of the associated square of the sky that was queried (`plot_image=True`), and requires the `add_query` flag if ran in isolation."
   ]
  },
  {
   "cell_type": "code",
   "execution_count": 6,
   "metadata": {},
   "outputs": [
    {
     "ename": "AttributeError",
     "evalue": "'SkyCatalogue' object has no attribute 'mag_limit'",
     "output_type": "error",
     "traceback": [
      "\u001b[0;31m---------------------------------------------------------------------------\u001b[0m",
      "\u001b[0;31mAttributeError\u001b[0m                            Traceback (most recent call last)",
      "Cell \u001b[0;32mIn[6], line 1\u001b[0m\n\u001b[0;32m----> 1\u001b[0m single_degree_corner, overlap \u001b[38;5;241m=\u001b[39m \u001b[43mcatalog\u001b[49m\u001b[38;5;241;43m.\u001b[39;49m\u001b[43mcreate_degree_square\u001b[49m\u001b[43m(\u001b[49m\u001b[43mra\u001b[49m\u001b[43m,\u001b[49m\u001b[43m \u001b[49m\u001b[43mdec\u001b[49m\u001b[43m,\u001b[49m\u001b[43m \u001b[49m\u001b[43mplot_image\u001b[49m\u001b[38;5;241;43m=\u001b[39;49m\u001b[38;5;28;43;01mTrue\u001b[39;49;00m\u001b[43m,\u001b[49m\u001b[43m \u001b[49m\u001b[43madd_query\u001b[49m\u001b[38;5;241;43m=\u001b[39;49m\u001b[38;5;28;43;01mTrue\u001b[39;49;00m\u001b[43m)\u001b[49m\n\u001b[1;32m      2\u001b[0m \u001b[38;5;28mprint\u001b[39m(\u001b[38;5;124mf\u001b[39m\u001b[38;5;124m\"\u001b[39m\u001b[38;5;124mPositions found: \u001b[39m\u001b[38;5;132;01m{\u001b[39;00msingle_degree_corner\u001b[38;5;241m.\u001b[39msize\u001b[38;5;132;01m}\u001b[39;00m\u001b[38;5;124m\"\u001b[39m)\n",
      "File \u001b[0;32m~/WiFeS_Catalog/catalog_class.py:501\u001b[0m, in \u001b[0;36mSkyCatalogue.create_degree_square\u001b[0;34m(self, ra, dec, catalog_df, plot_image, add_query, mode, **kwargs)\u001b[0m\n\u001b[1;32m    499\u001b[0m \u001b[38;5;28;01mif\u001b[39;00m add_query:\n\u001b[1;32m    500\u001b[0m     \u001b[38;5;28mself\u001b[39m\u001b[38;5;241m.\u001b[39mverboseprint(\u001b[38;5;124mf\u001b[39m\u001b[38;5;124m\"\u001b[39m\u001b[38;5;124m>> Querying the tractor catalog for stars from RA/DEC(\u001b[39m\u001b[38;5;132;01m{\u001b[39;00mcoords[\u001b[38;5;241m0\u001b[39m]\u001b[38;5;132;01m}\u001b[39;00m\u001b[38;5;124m, \u001b[39m\u001b[38;5;132;01m{\u001b[39;00mcoords[\u001b[38;5;241m2\u001b[39m]\u001b[38;5;132;01m}\u001b[39;00m\u001b[38;5;124m) to (\u001b[39m\u001b[38;5;132;01m{\u001b[39;00mcoords[\u001b[38;5;241m1\u001b[39m]\u001b[38;5;132;01m}\u001b[39;00m\u001b[38;5;124m, \u001b[39m\u001b[38;5;132;01m{\u001b[39;00mcoords[\u001b[38;5;241m3\u001b[39m]\u001b[38;5;132;01m}\u001b[39;00m\u001b[38;5;124m)...\u001b[39m\u001b[38;5;124m\"\u001b[39m)\n\u001b[0;32m--> 501\u001b[0m     catalog_df \u001b[38;5;241m=\u001b[39m \u001b[38;5;28;43mself\u001b[39;49m\u001b[38;5;241;43m.\u001b[39;49m\u001b[43mquery_tractor\u001b[49m\u001b[43m(\u001b[49m\u001b[43mra\u001b[49m\u001b[43m,\u001b[49m\u001b[43m \u001b[49m\u001b[43mdec\u001b[49m\u001b[43m,\u001b[49m\u001b[43m \u001b[49m\u001b[43mdist\u001b[49m\u001b[38;5;241;43m=\u001b[39;49m\u001b[38;5;28;43mself\u001b[39;49m\u001b[38;5;241;43m.\u001b[39;49m\u001b[43mmap_dist\u001b[49m\u001b[43m,\u001b[49m\u001b[43m \u001b[49m\u001b[43mmode\u001b[49m\u001b[38;5;241;43m=\u001b[39;49m\u001b[43mmode\u001b[49m\u001b[43m)\u001b[49m\n\u001b[1;32m    502\u001b[0m \u001b[38;5;66;03m# print(\">>>> Generating dark sky positions of 1-degree square...\")\u001b[39;00m\n\u001b[1;32m    503\u001b[0m \u001b[38;5;28mself\u001b[39m\u001b[38;5;241m.\u001b[39mverboseprint(\u001b[38;5;124m\"\u001b[39m\u001b[38;5;124m>>>> Combining mask and queried stars...\u001b[39m\u001b[38;5;124m\"\u001b[39m)\n",
      "File \u001b[0;32m~/WiFeS_Catalog/catalog_class.py:164\u001b[0m, in \u001b[0;36mSkyCatalogue.query_tractor\u001b[0;34m(self, ra, dec, dist, mode, **kwargs)\u001b[0m\n\u001b[1;32m    162\u001b[0m \u001b[38;5;66;03m# run query based on user input\u001b[39;00m\n\u001b[1;32m    163\u001b[0m mags \u001b[38;5;241m=\u001b[39m [\u001b[38;5;124mf\u001b[39m\u001b[38;5;124m\"\u001b[39m\u001b[38;5;124mmag_\u001b[39m\u001b[38;5;132;01m{\u001b[39;00mb\u001b[38;5;132;01m}\u001b[39;00m\u001b[38;5;124m\"\u001b[39m \u001b[38;5;28;01mfor\u001b[39;00m b \u001b[38;5;129;01min\u001b[39;00m \u001b[38;5;28mself\u001b[39m\u001b[38;5;241m.\u001b[39mbands]\n\u001b[0;32m--> 164\u001b[0m conditions \u001b[38;5;241m=\u001b[39m [\u001b[38;5;124mf\u001b[39m\u001b[38;5;124m\"\u001b[39m\u001b[38;5;124m(\u001b[39m\u001b[38;5;132;01m{\u001b[39;00mmag\u001b[38;5;132;01m}\u001b[39;00m\u001b[38;5;124m<=\u001b[39m\u001b[38;5;132;01m{\u001b[39;00m\u001b[38;5;28mself\u001b[39m\u001b[38;5;241m.\u001b[39mmag_limit\u001b[38;5;132;01m}\u001b[39;00m\u001b[38;5;124m AND \u001b[39m\u001b[38;5;132;01m{\u001b[39;00mmag\u001b[38;5;132;01m}\u001b[39;00m\u001b[38;5;124m>=16)\u001b[39m\u001b[38;5;124m\"\u001b[39m \u001b[38;5;28;01mfor\u001b[39;00m mag \u001b[38;5;129;01min\u001b[39;00m mags]\n\u001b[1;32m    166\u001b[0m query \u001b[38;5;241m=\u001b[39m \u001b[38;5;124mf\u001b[39m\u001b[38;5;124m\"\"\"\u001b[39m\n\u001b[1;32m    167\u001b[0m \u001b[38;5;124m    SELECT ra, dec, \u001b[39m\u001b[38;5;132;01m{\u001b[39;00m\u001b[38;5;124m\"\u001b[39m\u001b[38;5;124m, \u001b[39m\u001b[38;5;124m\"\u001b[39m\u001b[38;5;241m.\u001b[39mjoin(mags)\u001b[38;5;132;01m}\u001b[39;00m\n\u001b[1;32m    168\u001b[0m \u001b[38;5;124m    FROM ls_dr10.tractor_s\u001b[39m\n\u001b[0;32m   (...)\u001b[0m\n\u001b[1;32m    171\u001b[0m \u001b[38;5;124m    AND (\u001b[39m\u001b[38;5;132;01m{\u001b[39;00m\u001b[38;5;124m\"\u001b[39m\u001b[38;5;124m OR \u001b[39m\u001b[38;5;124m\"\u001b[39m\u001b[38;5;241m.\u001b[39mjoin(conditions)\u001b[38;5;132;01m}\u001b[39;00m\u001b[38;5;124m)\u001b[39m\n\u001b[1;32m    172\u001b[0m \u001b[38;5;124m    \u001b[39m\u001b[38;5;124m\"\"\"\u001b[39m\n\u001b[1;32m    174\u001b[0m \u001b[38;5;66;03m# check if this completes successfuly\u001b[39;00m\n",
      "File \u001b[0;32m~/WiFeS_Catalog/catalog_class.py:164\u001b[0m, in \u001b[0;36m<listcomp>\u001b[0;34m(.0)\u001b[0m\n\u001b[1;32m    162\u001b[0m \u001b[38;5;66;03m# run query based on user input\u001b[39;00m\n\u001b[1;32m    163\u001b[0m mags \u001b[38;5;241m=\u001b[39m [\u001b[38;5;124mf\u001b[39m\u001b[38;5;124m\"\u001b[39m\u001b[38;5;124mmag_\u001b[39m\u001b[38;5;132;01m{\u001b[39;00mb\u001b[38;5;132;01m}\u001b[39;00m\u001b[38;5;124m\"\u001b[39m \u001b[38;5;28;01mfor\u001b[39;00m b \u001b[38;5;129;01min\u001b[39;00m \u001b[38;5;28mself\u001b[39m\u001b[38;5;241m.\u001b[39mbands]\n\u001b[0;32m--> 164\u001b[0m conditions \u001b[38;5;241m=\u001b[39m [\u001b[38;5;124mf\u001b[39m\u001b[38;5;124m\"\u001b[39m\u001b[38;5;124m(\u001b[39m\u001b[38;5;132;01m{\u001b[39;00mmag\u001b[38;5;132;01m}\u001b[39;00m\u001b[38;5;124m<=\u001b[39m\u001b[38;5;132;01m{\u001b[39;00m\u001b[38;5;28;43mself\u001b[39;49m\u001b[38;5;241;43m.\u001b[39;49m\u001b[43mmag_limit\u001b[49m\u001b[38;5;132;01m}\u001b[39;00m\u001b[38;5;124m AND \u001b[39m\u001b[38;5;132;01m{\u001b[39;00mmag\u001b[38;5;132;01m}\u001b[39;00m\u001b[38;5;124m>=16)\u001b[39m\u001b[38;5;124m\"\u001b[39m \u001b[38;5;28;01mfor\u001b[39;00m mag \u001b[38;5;129;01min\u001b[39;00m mags]\n\u001b[1;32m    166\u001b[0m query \u001b[38;5;241m=\u001b[39m \u001b[38;5;124mf\u001b[39m\u001b[38;5;124m\"\"\"\u001b[39m\n\u001b[1;32m    167\u001b[0m \u001b[38;5;124m    SELECT ra, dec, \u001b[39m\u001b[38;5;132;01m{\u001b[39;00m\u001b[38;5;124m\"\u001b[39m\u001b[38;5;124m, \u001b[39m\u001b[38;5;124m\"\u001b[39m\u001b[38;5;241m.\u001b[39mjoin(mags)\u001b[38;5;132;01m}\u001b[39;00m\n\u001b[1;32m    168\u001b[0m \u001b[38;5;124m    FROM ls_dr10.tractor_s\u001b[39m\n\u001b[0;32m   (...)\u001b[0m\n\u001b[1;32m    171\u001b[0m \u001b[38;5;124m    AND (\u001b[39m\u001b[38;5;132;01m{\u001b[39;00m\u001b[38;5;124m\"\u001b[39m\u001b[38;5;124m OR \u001b[39m\u001b[38;5;124m\"\u001b[39m\u001b[38;5;241m.\u001b[39mjoin(conditions)\u001b[38;5;132;01m}\u001b[39;00m\u001b[38;5;124m)\u001b[39m\n\u001b[1;32m    172\u001b[0m \u001b[38;5;124m    \u001b[39m\u001b[38;5;124m\"\"\"\u001b[39m\n\u001b[1;32m    174\u001b[0m \u001b[38;5;66;03m# check if this completes successfuly\u001b[39;00m\n",
      "\u001b[0;31mAttributeError\u001b[0m: 'SkyCatalogue' object has no attribute 'mag_limit'"
     ]
    }
   ],
   "source": [
    "single_degree_corner, overlap = catalog.create_degree_square(ra, dec, plot_image=True, add_query=True)\n",
    "print(f\"Positions found: {single_degree_corner.size}\")"
   ]
  },
  {
   "cell_type": "markdown",
   "metadata": {},
   "source": [
    "The `mode` parameter controls whether the `ra` and `dec` refer to the bottom left corner of the unit square, or to the center. All of the methods in `SkyCatalogue` use the `corner` mode by default (and when stitching multiple squares across the sky), but the `centre` option is available when desired."
   ]
  },
  {
   "cell_type": "code",
   "execution_count": null,
   "metadata": {},
   "outputs": [],
   "source": [
    "single_degree_centre, overlap = catalog.create_degree_square(ra, dec, plot_image=True, add_query=True, mode='centre')\n",
    "print(f\"Positions found: {single_degree_centre.size}\")"
   ]
  },
  {
   "cell_type": "markdown",
   "metadata": {},
   "source": [
    "Sky positions can be generated on multiple different levels:\n",
    "- Single degree (1 x 1) squares using an externally provided dataframe of star ra/dec and mask radius to work from\n",
    "- Single query (n x n degree) square split up into single-degree chunks\n",
    "- \"Full sky\" split up into (n x n degree) square queries, with each of those also split into single-degree chunks"
   ]
  },
  {
   "cell_type": "markdown",
   "metadata": {},
   "source": [
    "### Single-query squares: `SkyCatalogue.create_catalogue()`\n",
    "\n",
    "For areas of the sky greater than `map_size`, the `create_catalogue()` method queries for objects in the entire area, then calculates positions from multiple unit-square segementation maps within that larger area. Object masks that overlap the unit-square boundaries are used to remove any sky positions in bordering unit-squares that fall between the square's border and the greatest extent of the overlapped masks. \n",
    "\n",
    "Sky squares with a `query_dist` > 5 are not recommended, unless you are willing to be patient."
   ]
  },
  {
   "cell_type": "code",
   "execution_count": null,
   "metadata": {},
   "outputs": [],
   "source": [
    "# multiple degrees\n",
    "# 2x2 degree query square with all bands (griz) = 73.34 s\n",
    "# this finds 218 dark sky positions in that area\n",
    "positions_allbands = catalog.create_catalogue(ra, dec, 2, bands=('g', 'r', 'i', 'z'))\n",
    "print(f\"Positions found: {positions_allbands.size}\")"
   ]
  },
  {
   "cell_type": "markdown",
   "metadata": {},
   "source": [
    "### Full-sky squares: `SkyCatalogue.all_sky()`\n",
    "The `all_sky()` method is recommended for large areas of the sky. Similar to how the `create_catalogue()` method stitches together unit-degree squares and accounts for overlap, this method does the same on the query level. \n",
    "\n",
    "Large query distances are not recommended, and behavior at the boundaries of RA 0 and 360 / DEC -90 and 30 have not been tested in `centre` mode. \n",
    "\n"
   ]
  },
  {
   "cell_type": "code",
   "execution_count": null,
   "metadata": {},
   "outputs": [],
   "source": [
    "# generate sections of the whole sky\n",
    "positions_allsky_griband = catalog.all_sky(ra_allsky=3, dec_allsky=-4, sky_dist=4, query_dist=2.0, bands=('g', 'r', 'i'), mode='centre')"
   ]
  },
  {
   "cell_type": "code",
   "execution_count": null,
   "metadata": {},
   "outputs": [],
   "source": [
    "fig, ax = plt.subplots()\n",
    "ax.plot(positions_allsky_griband['ra'], positions_allsky_griband['dec'], 'g.')\n",
    "ax.set(title=f\"gri bands ({positions_allsky_griband.size} positions)\", xlabel=\"RA\", ylabel=\"DEC\")\n",
    "plt.tight_layout()\n",
    "plt.show()"
   ]
  },
  {
   "cell_type": "markdown",
   "metadata": {},
   "source": [
    "#### Complete sky coverage\n",
    "This method is (theoretically) capable of generating positions across the entire southern sky (from RA 0 to 360, and DEC -90 to 30) if `full_sky = True`, though this behaviour has not been tested so use at your own risk! Additionally, the functions that account for overlaps between sky regions have not been implemented on the crossover between RA 0 to 360. "
   ]
  },
  {
   "cell_type": "code",
   "execution_count": null,
   "metadata": {},
   "outputs": [],
   "source": [
    "# generate \"whole sky\"\n",
    "# positions_allsky = catalog.all_sky(query_dist=2.0, full_sky=True)"
   ]
  },
  {
   "cell_type": "markdown",
   "metadata": {},
   "source": [
    "## Quirks and other information\n",
    "\n",
    "### Band choices\n",
    "Due to the method of source extraction used to make the LSDR10 Tractor catalogue, using different combinations of filters with `SkyCatalogue` will result in drastic differences in sky coordinate density and coverage. The Tractor conducts source extraction from the reddest band first (z), and then progressively in shorter wavelengths with a 6$\\sigma$ detection limit that may not keep detections in the other filters [1](https://www.legacysurvey.org/dr10/description/#source-detection), so objects present in one band may not have measurements in another. \n",
    "\n",
    "Regardless of the bands chosen, `SkyCatalogue` will use an object's lowest magnitude observation from the available queried bands to calculate its masking radius. "
   ]
  },
  {
   "cell_type": "code",
   "execution_count": null,
   "metadata": {},
   "outputs": [],
   "source": [
    "# 2x2 degree query square with just g band = 37.66 s\n",
    "# this finds 9716 dark sky positions in that area\n",
    "positions_gband = catalog.create_catalogue(ra, dec, 2, bands=('g'))\n",
    "positions_grbands = catalog.create_catalogue(ra, dec, 2, bands=('g', 'r'))\n",
    "positions_gribands = catalog.create_catalogue(ra, dec, 2, bands=('g', 'r', 'i'))"
   ]
  },
  {
   "cell_type": "code",
   "execution_count": null,
   "metadata": {},
   "outputs": [],
   "source": [
    "# difference between griz and g band in the same area\n",
    "print(f\"Positions found (griz): {positions_allbands.size}\")\n",
    "print(f\"Positions found (gri): {positions_gribands.size}\")\n",
    "print(f\"Positions found (gr): {positions_grbands.size}\")\n",
    "print(f\"Positions found (g): {positions_gband.size}\")\n",
    "\n",
    "fig, ax = plt.subplots(2, 2, figsize=(10,10))\n",
    "\n",
    "ax[0,0].plot(positions_allbands['ra'], positions_allbands['dec'], 'k.')\n",
    "ax[0,0].set(title=f\"griz bands ({positions_allbands.size} positions)\", xlabel=\"RA\", ylabel=\"DEC\")\n",
    "\n",
    "ax[0,1].plot(positions_gribands['ra'], positions_gribands['dec'], 'b.')\n",
    "ax[0,1].set(title=f\"gri bands ({positions_gribands.size} positions)\", xlabel=\"RA\", ylabel=\"DEC\")\n",
    "\n",
    "ax[1,0].plot(positions_grbands['ra'], positions_grbands['dec'], 'r.')\n",
    "ax[1,0].set(title=f\"gr bands ({positions_grbands.size} positions)\", xlabel=\"RA\", ylabel=\"DEC\")\n",
    "\n",
    "ax[1,1].plot(positions_gband['ra'], positions_gband['dec'], 'g.')\n",
    "ax[1,1].set(title=f\"g bands ({positions_gband.size} positions)\", xlabel=\"RA\", ylabel=\"DEC\")\n",
    "\n",
    "fig.tight_layout()\n",
    "fig.suptitle(\"Comparison of Available Dark Sky Positions by Band\", fontsize='xx-large')\n",
    "fig.subplots_adjust(top=0.91)\n",
    "\n",
    "plt.show()"
   ]
  },
  {
   "cell_type": "markdown",
   "metadata": {},
   "source": [
    "#### Characteristic Distances\n",
    "Band choice causes a drastic difference in the density and number of available dark sky positions, but a Monte Carlo simulation of random positions within the desired range of the sky shows that even with all four filters, the average distance from any place in that square to any dark sky position is on the order of arcminutes. "
   ]
  },
  {
   "cell_type": "code",
   "execution_count": null,
   "metadata": {},
   "outputs": [],
   "source": [
    "from sklearn.neighbors import KDTree\n",
    "\n",
    "# generate random list of (ra, dec) positions within the bounds of that square\n",
    "random_ra = np.random.uniform(ra, ra+2, size=10000)\n",
    "random_dec = np.random.uniform(dec, dec+2, size=10000)\n",
    "\n",
    "# find closest point to that ra/dec pair\n",
    "points = np.asarray([random_ra, random_dec]).T\n",
    "griz_tree = KDTree(np.asarray([positions_allbands['ra'], positions_allbands['dec']]).T)\n",
    "gri_tree = KDTree(np.asarray([positions_gribands['ra'], positions_gribands['dec']]).T)\n",
    "gr_tree = KDTree(np.asarray([positions_grbands['ra'], positions_grbands['dec']]).T)\n",
    "g_tree = KDTree(np.asarray([positions_gband['ra'], positions_gband['dec']]).T)\n",
    "\n",
    "griz_dist, griz_nearest = griz_tree.query(points, 1, return_distance=True)\n",
    "gri_dist, gri_nearest = gri_tree.query(points, 1, return_distance=True)\n",
    "gr_dist, gr_nearest = gr_tree.query(points, 1, return_distance=True)\n",
    "g_dist, g_nearest = g_tree.query(points, 1, return_distance=True)"
   ]
  },
  {
   "cell_type": "code",
   "execution_count": null,
   "metadata": {},
   "outputs": [],
   "source": [
    "griz_avg = np.average(griz_dist)*60\n",
    "gri_avg = np.average(gri_dist)*60\n",
    "gr_avg = np.average(gr_dist)*60\n",
    "g_avg = np.average(g_dist)*60\n",
    "\n",
    "\n",
    "fig, ax = plt.subplots(2, 2, figsize=(10,10))\n",
    "\n",
    "ax[0,0].hist(griz_dist*60, bins=50, color='k')\n",
    "ax[0,0].vlines(griz_avg, ymin=0, ymax=50, color='y')\n",
    "ax[0,0].set(title=f\"griz distances (average={griz_avg:.2f} arcmin)\", xlabel=\"distance (arcmin)\", ylabel=\"count\")\n",
    "\n",
    "ax[0,1].hist(gri_dist*60, bins=50, color='b')\n",
    "ax[0,1].vlines(gri_avg, ymin=0, ymax=50, color='y')\n",
    "ax[0,1].set(title=f\"gri distances (average={gri_avg:.2f} arcmin)\", xlabel=\"distance (arcmin)\", ylabel=\"count\")\n",
    "\n",
    "ax[1,0].hist(gr_dist*60, bins=50, color='r')\n",
    "ax[1,0].vlines(gr_avg, ymin=0, ymax=50, color='y')\n",
    "ax[1,0].set(title=f\"gr distances (average={gr_avg:.2f} arcmin)\", xlabel=\"distance (arcmin)\", ylabel=\"count\")\n",
    "\n",
    "ax[1,1].hist(g_dist*60, bins=50, color='g')\n",
    "ax[1,1].vlines(g_avg, ymin=0, ymax=50, color='y')\n",
    "ax[1,1].set(title=f\"g distances (average={g_avg:.2f} arcmin)\", xlabel=\"distance (arcmin)\", ylabel=\"count\")\n",
    "\n",
    "fig.tight_layout()\n",
    "fig.suptitle(\"Average distance to closest sky position by band\", fontsize='xx-large')\n",
    "fig.subplots_adjust(top=0.91)\n",
    "plt.show()"
   ]
  },
  {
   "cell_type": "markdown",
   "metadata": {},
   "source": [
    "### Forbidden regions\n",
    "\n",
    "The LSDR10 catalogue excludes certain regions of the sky, most notably the Galactic plane (|b| < 18) and Magellanic Clouds [2](https://datalab.noirlab.edu/ls/ls.php). \n",
    "\n",
    "Similarly, `SkyCatalogue` will not analyze unit squares that intersect with the range |b| < 19 or rectangles of RA/DEC that fall within explicitly forbidden areas:\n",
    "- LMC: Between RA (76 to 86) and DEC (-76 to -64)\n",
    "- SMC: Between RA (11 to 16) and DEC (-76 to -70)\n",
    "- Gap in LS data near Galactic plane but outside |b| < 19: Between RA (43 to 75) and DEC (10 to 30)\n",
    "\n",
    "Due to the catalogue-based implementation, there is no guarantee that generated positions actually have dark sky behind them, as the `SkyCatalogue` cannot tell if the unmasked space is due to a gap in the source data. "
   ]
  },
  {
   "cell_type": "code",
   "execution_count": null,
   "metadata": {},
   "outputs": [],
   "source": [
    "# example of squares near b < 19\n",
    "near_mw = catalog.create_catalogue()"
   ]
  },
  {
   "cell_type": "markdown",
   "metadata": {},
   "source": [
    "### Memory and runtime\n",
    "\n",
    "Despite what's shown in this example notebook, it is not recommended to try running many instances of the `SkyCatalogue` class at once due to lack of proper optimization. Runtimes can be long depending on the choice of `map_size` initialization and `query_dist`, and Jupyter notebook kernel failures can be very common. "
   ]
  }
 ],
 "metadata": {
  "kernelspec": {
   "display_name": "Python 3",
   "language": "python",
   "name": "python3"
  },
  "language_info": {
   "codemirror_mode": {
    "name": "ipython",
    "version": 3
   },
   "file_extension": ".py",
   "mimetype": "text/x-python",
   "name": "python",
   "nbconvert_exporter": "python",
   "pygments_lexer": "ipython3",
   "version": "3.9.6"
  }
 },
 "nbformat": 4,
 "nbformat_minor": 2
}
