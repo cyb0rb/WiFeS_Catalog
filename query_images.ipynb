{
 "cells": [
  {
   "cell_type": "markdown",
   "metadata": {},
   "source": [
    "# DECam image querying\n",
    "\n",
    "This is currently just a test to see if image querying + fits file displaying works\n",
    "\n",
    "Primarily from the [NOIRLab API examples](https://github.com/NOAO/nat-nb/blob/master/sia.ipynb)"
   ]
  },
  {
   "cell_type": "code",
   "execution_count": 1,
   "metadata": {},
   "outputs": [],
   "source": [
    "import matplotlib.pyplot as plt\n",
    "from astropy.io import fits as fits\n",
    "from astropy.wcs import WCS\n",
    "from astropy.utils import data as data_utils\n",
    "from astropy.nddata import bitmask\n",
    "\n",
    "# version dependencies are currently an issue\n",
    "import pkg_resources\n",
    "pkg_resources.require(\"numpy==1.26.3\")\n",
    "import numpy as np\n",
    "\n",
    "# import json\n",
    "# import requests\n",
    "from dl import authClient as ac, queryClient as qc\n",
    "import pandas as pd"
   ]
  },
  {
   "cell_type": "markdown",
   "metadata": {},
   "source": [
    "## Downloading images from the Legacy Survey\n",
    "\n",
    "Files are accessed through the DR10 Web Access directories mentioned on the [Legacy Survey Website](https://www.legacysurvey.org/dr10/files/).\n",
    "\n",
    "\n",
    "TO DO:\n",
    "- error checking if the image at the given section and brick don't exist\n",
    "- figure out a method to find out which brick corresponds to a given RA/DEC"
   ]
  },
  {
   "cell_type": "code",
   "execution_count": 6,
   "metadata": {},
   "outputs": [],
   "source": [
    "def obtain_image(brick, filter=\"g\", reset_cache=True, return_bitmask=False):\n",
    "    \"\"\"Returns the header and data for a coadded FITS file queried from the Legacy Survey DR10 portal\n",
    "    \n",
    "    Files are accessed with a url pattern of `<section>/<brick>/legacysurvey-<brick>-image-<filter>.fits.fz`\n",
    "    as documented on the [Legacy Survey website](https://www.legacysurvey.org/dr10/files/#image-stacks-south-coadd).\n",
    "    Images can be deleted from cache after the header and data are extracted.\n",
    "    \n",
    "    Parameters\n",
    "    ----------\n",
    "    brick:  `str`\n",
    "        Brick name of image: RRRr(p/m)DDd\n",
    "    filter: `str`\n",
    "        Photographic filter of image to request (g, r, i, z)\n",
    "    reset_cache: `bool`, default `True`\n",
    "        Clears the downloaded image from the cache\n",
    "    return_bitmask: `bool`, default `True`\n",
    "        Downloads and returns corresponding bitmask associated with image stack\n",
    "        \n",
    "    Returns\n",
    "    -------\n",
    "    header: `CompImageHeader`\n",
    "        Astropy object of the FITS header data\n",
    "    data: `ndarray`\n",
    "        Numpy NDarray of FITS image data\n",
    "    bitmask_header: `CompImageHeader`\n",
    "        (Optional, `return_bitmask=True`) Astropy object of the bitmask header data\n",
    "    bitmask_data: `ndarray`\n",
    "        (Optional, `return_bitmask=True`) Numpy NDarray of bitmask data\n",
    "    \"\"\"\n",
    "    \n",
    "    url = \"https://portal.nersc.gov/cfs/cosmo/data/legacysurvey/dr10/south/coadd/\"\n",
    "    image_string = url + f\"{brick[0:3]}/{brick}/legacysurvey-{brick}-image-{filter}.fits.fz\"\n",
    "    bitmask_string = url + f\"{brick[0:3]}/{brick}/legacysurvey-{brick}-maskbits.fits.fz\"\n",
    "    \n",
    "    \n",
    "    print(f\"Downloading Image: {image_string}....\")\n",
    "\n",
    "    # assumes only one image, in the first non-primary header file\n",
    "    with fits.open(image_string) as hdu:\n",
    "        img_header = hdu[1].header\n",
    "        img_data = hdu[1].data\n",
    "    \n",
    "    # download corresponding MASKBITS bitmask as well\n",
    "    if return_bitmask:\n",
    "        print(f\"Downloading Bitmask: {bitmask_string}....\")\n",
    "        with fits.open(bitmask_string) as hdu:\n",
    "            # print(hdu.info())\n",
    "            # bitmask = hdu\n",
    "            bitmask_header = hdu[1].header\n",
    "            bitmask_data = hdu[1].data\n",
    "    \n",
    "    if reset_cache:\n",
    "        print(\"Clearing download cache...\")\n",
    "        data_utils.clear_download_cache(image_string)\n",
    "        data_utils.clear_download_cache(bitmask_string)\n",
    "    \n",
    "    if return_bitmask:\n",
    "        return img_header, img_data, bitmask_header, bitmask_data\n",
    "    \n",
    "    return img_header, img_data\n",
    "\n",
    "header, data = obtain_image(\"0001m002\", \"g\", reset_cache=False)"
   ]
  },
  {
   "cell_type": "code",
   "execution_count": 7,
   "metadata": {},
   "outputs": [],
   "source": [
    "def plot_image(header, data):\n",
    "    \"\"\"Plots the image based on header and image data\"\"\"\n",
    "    \n",
    "    wcs = WCS(header)\n",
    "\n",
    "    fig = plt.figure(figsize=(8,8))\n",
    "    ax = plt.subplot(111, projection=wcs)\n",
    "    lon = ax.coords['ra']\n",
    "    lat = ax.coords['dec']\n",
    "    ax.imshow(data, norm='linear')\n",
    "\n",
    "    plt.tight_layout()\n",
    "    \n",
    "# plot_image(header, data)"
   ]
  },
  {
   "cell_type": "markdown",
   "metadata": {},
   "source": [
    "## Querying the NOIRLab Astro Data Lab\n",
    "\n",
    "to get the images we need:\n",
    "- query the data lab for brick names in some RA/DEC region (ls_dr10.bricks)\n",
    "- iterate through the list of brick names\n",
    "- for each brick name:\n",
    "  - download the image associated with it\n",
    "  - extract header and image data\n",
    "  - send to source extraction etc..."
   ]
  },
  {
   "cell_type": "code",
   "execution_count": null,
   "metadata": {},
   "outputs": [],
   "source": [
    "# this function isn't actually necessary for the program but was a test to see how brick names worked\n",
    "def brick_identifier(ra, dec):\n",
    "    \"\"\"Creates a string corresponding to the brick name of the image at a given RA/DEC\n",
    "    in the format `RRRr(p/m)DDd`\n",
    "    \n",
    "    Example: (0.125, -0.25) -> 0001m002\n",
    "    \n",
    "    Parameters\n",
    "    ----------\n",
    "    ra: `float`\n",
    "        Right ascension (degrees)\n",
    "    dec: `float`\n",
    "        Declination (degrees)\n",
    "        \n",
    "    Returns\n",
    "    -------\n",
    "    brickname: `str`\n",
    "        Name of \"brick\" image\n",
    "    \"\"\"\n",
    "    # ra RRR.rrr -> RRRr\n",
    "    # dec (+/-)DD.ddd -> (p/m)DDd\n",
    "    \n",
    "    # whether declination is positive or negative\n",
    "    sign = \"p\"\n",
    "    if dec < 0:\n",
    "        sign = \"m\"\n",
    "    \n",
    "    # remove decimal and sign\n",
    "    mod_ra = round(ra*10)\n",
    "    mod_dec = abs(round(dec*10))\n",
    "    \n",
    "    brickname = f\"{mod_ra:04}{sign}{mod_dec:03}\"\n",
    "    print(f\"Brick name for RA={ra} and DEC={dec}: {brickname}\")\n",
    "    \n",
    "    return brickname\n",
    "    \n",
    "brickname = brick_identifier(0.125, -0.25)"
   ]
  },
  {
   "cell_type": "code",
   "execution_count": null,
   "metadata": {},
   "outputs": [],
   "source": [
    "def query_bricks(ra, dec, dist):\n",
    "    \"\"\"Queries the Astro Data Lab for brick names and associated RA/DEC based on the given RA/DEC\n",
    "    \n",
    "    dist is in degrees\n",
    "    \"\"\"\n",
    "    \n",
    "    # one RA/DEC pair, then some set range around that?\n",
    "    ra_max = ra + dist\n",
    "    ra_min = ra - dist\n",
    "    dec_max = dec + dist\n",
    "    dec_min = dec - dist\n",
    "\n",
    "    query = f\"\"\"\n",
    "    SELECT brickname, ra, ra1, ra2, dec, dec1, dec2\n",
    "    FROM ls_dr10.bricks_s\n",
    "    WHERE ra >= ({ra_min}) AND ra < ({ra_max})\n",
    "    AND dec >= ({dec_min}) AND dec < ({dec_max})\n",
    "    LIMIT 10\n",
    "    \"\"\"\n",
    "\n",
    "    print(query)\n",
    "    \n",
    "    print(\"Querying the Astro Data Lab...\")\n",
    "    # check if this completes successfuly\n",
    "    brick_info = qc.query(sql=query, fmt=\"pandas\")\n",
    "    \n",
    "    return brick_info\n",
    "\n",
    "brick_df = query_bricks(100, -25, 1.0)"
   ]
  },
  {
   "cell_type": "code",
   "execution_count": null,
   "metadata": {},
   "outputs": [],
   "source": [
    "# get all the brick names and ra/dec of every brick below a declination of 30\n",
    "# with at least 1 observation in the g filter\n",
    "# this takes about 15 seconds to get ~337k brick names\n",
    "\n",
    "query = f\"\"\"\n",
    "        SELECT brickname, ra, ra1, ra2, dec, dec1, dec2\n",
    "        FROM ls_dr10.bricks_s\n",
    "        WHERE dec <= 30 AND nexp_g >= 1\n",
    "        LIMIT 10\n",
    "        \"\"\"\n",
    "\n",
    "brick_df = qc.query(sql=query, fmt=\"pandas\")\n",
    "brick_df"
   ]
  },
  {
   "cell_type": "code",
   "execution_count": null,
   "metadata": {},
   "outputs": [],
   "source": [
    "query = f\"\"\"\n",
    "        SELECT brickname\n",
    "        FROM ls_dr10.bricks_s\n",
    "        WHERE ra > 0 AND ra < 10 AND dec < 0 AND dec > -10\n",
    "        \"\"\"\n",
    "        \n",
    "bricks_df = qc.query(sql=query, fmt=\"pandas\")\n",
    "bricks_df"
   ]
  },
  {
   "cell_type": "code",
   "execution_count": null,
   "metadata": {},
   "outputs": [],
   "source": [
    "query = f\"\"\"\n",
    "        SELECT brickname, type, COUNT(type)\n",
    "        FROM ls_dr10.tractor_s\n",
    "        WHERE ra > 0 AND ra < 5 AND dec < 0 AND dec > -5\n",
    "        AND mag_g <= 21\n",
    "        AND type!='PSF'\n",
    "        GROUP BY brickname, type\n",
    "        LIMIT 100\n",
    "        \"\"\"\n",
    "\n",
    "# masked_df = qc.query(sql=query, fmt=\"pandas\")\n",
    "# masked_df"
   ]
  },
  {
   "cell_type": "code",
   "execution_count": null,
   "metadata": {},
   "outputs": [],
   "source": [
    "# AND ((maskbits & 1 != 0) OR (maskbits & 11 != 0) OR (maskbits & 12 != 0) OR (maskbits & 13 != 0))\n",
    "query = f\"\"\"\n",
    "        SELECT brickname\n",
    "        FROM ls_dr10.tractor_s\n",
    "        WHERE ra > 0 AND ra < 10 AND dec < 0 AND dec > -10\n",
    "        AND (maskbits & 1 != 0)\n",
    "        GROUP BY brickname\n",
    "        LIMIT 1000\n",
    "        \"\"\"\n",
    "\n",
    "masked_df = qc.query(sql=query, fmt=\"pandas\")\n",
    "masked_df"
   ]
  },
  {
   "cell_type": "code",
   "execution_count": null,
   "metadata": {},
   "outputs": [],
   "source": [
    "masked_df.compare(bricks_df, align_axis=0)"
   ]
  },
  {
   "cell_type": "code",
   "execution_count": null,
   "metadata": {},
   "outputs": [],
   "source": [
    "# get all the brick names and ra/dec of every brick below a declination of 30\n",
    "# with NO observations in the g filter\n",
    "# ~5s for 16k bricks\n",
    "\n",
    "query = f\"\"\"\n",
    "        SELECT brickname, ra, ra1, ra2, dec, dec1, dec2, nexp_g, nexp_i, nexp_r, nexp_z, wise_nobs_1, wise_nobs_2, wise_nobs_3, wise_nobs_4\n",
    "        FROM ls_dr10.bricks_s\n",
    "        WHERE dec <= 30 AND nexp_g < 1\n",
    "        \"\"\"\n",
    "\n",
    "non_g_bricks = qc.query(sql=query, fmt=\"pandas\")\n",
    "non_g_bricks"
   ]
  },
  {
   "cell_type": "markdown",
   "metadata": {},
   "source": [
    "Almost all of the DR10 bricks have at least one g-band observation associated with them, and those that don't are mostly along the edge of the Milky Way plane and the Magellanic Clouds. Out of the ~16k bricks that aren't accounted for in the g-band, only about 2900 only have WISE (W1, W2, W3, W4) observations that would require different calibration and image processing to handle."
   ]
  },
  {
   "cell_type": "code",
   "execution_count": null,
   "metadata": {},
   "outputs": [],
   "source": [
    "# bricks with r band observations\n",
    "r_bricks = non_g_bricks[non_g_bricks['nexp_r']!=0]\n",
    "# no r band, but i band\n",
    "i_bricks = non_g_bricks[(non_g_bricks['nexp_r']==0) & (non_g_bricks['nexp_i']!=0)]\n",
    "# no r or i bands, but z band\n",
    "z_bricks = non_g_bricks[(non_g_bricks['nexp_r']==0) & (non_g_bricks['nexp_i']==0) & (non_g_bricks['nexp_z']!=0)]\n",
    "# no r, i, or z\n",
    "wise_only = non_g_bricks[(non_g_bricks['nexp_r']==0) & (non_g_bricks['nexp_i']==0) & (non_g_bricks['nexp_z']==0)]\n",
    "wise_only"
   ]
  },
  {
   "cell_type": "code",
   "execution_count": null,
   "metadata": {},
   "outputs": [],
   "source": [
    "fig, ax = plt.subplots(1,1)\n",
    "ax.plot(brick_df['ra'], brick_df['dec'], 'g.', label=\"g band\")\n",
    "# ax.plot(non_g_bricks['ra'], non_g_bricks['dec'], 'b.', label=\"non g band\")\n",
    "ax.plot(r_bricks['ra'], r_bricks['dec'], 'r.', label=\"r band\")\n",
    "ax.plot(i_bricks['ra'], i_bricks['dec'], 'm.', label=\"i band\")\n",
    "ax.plot(z_bricks['ra'], z_bricks['dec'], 'k.', label=\"z band\")\n",
    "ax.plot(wise_only['ra'], wise_only['dec'], 'b.', label=\"WISE only\")\n",
    "\n",
    "\n",
    "ax.set(title=\"LSDR10 Sky coverage by filter preference\", xlabel=\"RA\", ylabel=\"DEC\")\n",
    "ax.legend()\n",
    "plt.show()"
   ]
  },
  {
   "cell_type": "markdown",
   "metadata": {},
   "source": [
    "All bricks in the `brick_df` dataframe will have an associated g-band FITS image that can be downloaded from the DR10 website."
   ]
  },
  {
   "cell_type": "code",
   "execution_count": null,
   "metadata": {},
   "outputs": [],
   "source": [
    "arcturus = \"0001m002\"\n",
    "arc_head, arc_data, arc_bit_head, arc_bit_data = obtain_image(arcturus, \"g\", reset_cache=False, return_bitmask=True)\n",
    "# arc_head, arc_data = obtain_image(arcturus, \"g\", reset_cache=True)\n",
    "# plot_image(arc_head, arc_data)\n"
   ]
  },
  {
   "cell_type": "code",
   "execution_count": null,
   "metadata": {},
   "outputs": [],
   "source": [
    "def pix_to_mag(data):\n",
    "    return 22.5 - 2.5*np.log10(data)\n",
    "\n",
    "def mag_to_pix(data):\n",
    "    return 10**((22.5-data)/2.5)\n",
    "\n",
    "\n",
    "wcs = WCS(arc_head)\n",
    "arc_data_magnitude = pix_to_mag(arc_data)\n",
    "bright_data = np.zeros_like(arc_data_magnitude)\n",
    "\n",
    "for i, row in enumerate(arc_data_magnitude):\n",
    "    bright_data[i] = [pix if pix <= 21 else 0 for pix in row]\n",
    "\n",
    "# bright_data = bright_data & arc_data_magnitude <= 21\n",
    "\n",
    "fig = plt.figure(figsize=(10, 10))\n",
    "ax = plt.subplot(111, projection=wcs)\n",
    "lon = ax.coords['ra']\n",
    "lat = ax.coords['dec']\n",
    "lon.set_major_formatter('d.ddd')\n",
    "lat.set_major_formatter('d.ddd')\n",
    "# plt.imshow(arc_data_magnitude)\n",
    "plt.imshow(bright_data, cmap='gray_r')\n",
    "plt.colorbar(ax=ax)\n",
    "ax.set(title=\"All saturation in g/r/z\", xlabel=\"RA\", ylabel=\"DEC\")\n",
    "\n",
    "plt.tight_layout()\n",
    "\n",
    "plot_image(arc_head, arc_data)"
   ]
  },
  {
   "cell_type": "code",
   "execution_count": null,
   "metadata": {},
   "outputs": [],
   "source": [
    "def find_bad_pixels(bitmask_array, flags):\n",
    "    \"\"\"Returns an array of the same shape of the bitmask with 1's where 'bad pixels' are located\n",
    "    \n",
    "    Flags should be integers from 0 to 15. Relevant flags for LSDR10 from [MASKBITS](https://www.legacysurvey.org/dr10/bitmasks/):\n",
    "    0  = 'NPRIMARY'           / maskbits bit 0 (0x1): not primary brick area   \n",
    "    1  = 'BRIGHT  '           / maskbits bit 1 (0x2): bright star nearby       \n",
    "    2  = 'SATUR_G '           / maskbits bit 2 (0x4): g band saturated         \n",
    "    3  = 'SATUR_R '           / maskbits bit 3 (0x8): r band saturated         \n",
    "    4  = 'SATUR_Z '           / maskbits bit 4 (0x10): z band saturated        \n",
    "    5  = 'ALLMASK_G'          / maskbits bit 5 (0x20): any ALLMASK_G bit set   \n",
    "    6  = 'ALLMASK_R'          / maskbits bit 6 (0x40): any ALLMASK_R bit set   \n",
    "    7  = 'ALLMASK_Z'          / maskbits bit 7 (0x80): any ALLMASK_Z bit set   \n",
    "    8  = 'WISEM1  '           / maskbits bit 8 (0x100): WISE W1 (all masks)    \n",
    "    9  = 'WISEM2  '           / maskbits bit 9 (0x200): WISE W2 (all masks)    \n",
    "    10 = 'BAILOUT '           / maskbits bit 10 (0x400): Bailed out processing \n",
    "    11 = 'MEDIUM  '           / maskbits bit 11 (0x800): medium-bright star    \n",
    "    12 = 'GALAXY  '           / maskbits bit 12 (0x1000): SGA large galaxy     \n",
    "    13 = 'CLUSTER '           / maskbits bit 13 (0x2000): Globular cluster     \n",
    "    14 = 'SATUR_I '           / maskbits bit 14 (0x4000): i band saturated     \n",
    "    15 = 'ALLMASK_I'          / maskbits bit 15 (0x8000): any ALLMASK_I bit set\n",
    "    \"\"\"\n",
    "    \n",
    "    print(f\"Flags to mask: {flags}\")\n",
    "    ok_flags = 2**np.arange(0,16)\n",
    "    ok_flags = np.delete(ok_flags, flags)\n",
    "    \n",
    "    bad_pix = bitmask.bitfield_to_boolean_mask(bitmask_array, ignore_flags=ok_flags)\n",
    "    return bad_pix\n",
    "\n",
    "# masks pixels with saturation in g, r, z bands\n",
    "bad_pix_saturation = find_bad_pixels(arc_bit_data, [2,3,4])\n",
    "\n",
    "# masks pixels with any ALL_MASK_X bit in g, r, z bands\n",
    "bad_pix_allmasks = find_bad_pixels(arc_bit_data, [5, 6, 7])\n",
    "\n",
    "# masks pixels with g band saturation or ALL_MASK bits\n",
    "bad_pix_gband = find_bad_pixels(arc_bit_data, np.arange(0,16))"
   ]
  },
  {
   "cell_type": "code",
   "execution_count": null,
   "metadata": {},
   "outputs": [],
   "source": [
    "wcs = WCS(arc_head)\n",
    "\n",
    "fig = plt.figure(figsize=(10, 10))\n",
    "ax = plt.subplot(131, projection=wcs)\n",
    "ax2 = plt.subplot(132, projection=wcs)\n",
    "ax3 = plt.subplot(133, projection=wcs)\n",
    "lon = ax.coords['ra']\n",
    "lat = ax.coords['dec']\n",
    "\n",
    "ax.imshow(bad_pix_saturation)\n",
    "ax.set(title=\"All saturation in g/r/z\", xlabel=\"RA\", ylabel=\"DEC\")\n",
    "ax2.imshow(bad_pix_allmasks)\n",
    "ax2.set(title=\"Bright star\", xlabel=\"RA\", ylabel=\"DEC\")\n",
    "ax3.imshow(bad_pix_gband)\n",
    "ax3.set(title=\"Medium star\", xlabel=\"RA\", ylabel=\"DEC\")\n",
    "\n",
    "plt.tight_layout()"
   ]
  },
  {
   "cell_type": "markdown",
   "metadata": {},
   "source": [
    "## Dealing with All of the bricks"
   ]
  },
  {
   "cell_type": "code",
   "execution_count": null,
   "metadata": {},
   "outputs": [],
   "source": [
    "import astropy.units as u\n",
    "total_bricks = len(brick_df) + len(non_g_bricks)\n",
    "\n",
    "optimistic_estimate = total_bricks * u.s\n",
    "pessimistic_estimate = total_bricks * 5 * u.s\n",
    "\n",
    "print(f\"For {total_bricks} bricks:\")\n",
    "print(f\"Optimistic (1 sec per brick): {optimistic_estimate.to(u.hour):.2f} ({optimistic_estimate.to(u.day):.2f})\")\n",
    "print(f\"Pessimistic (5 sec per brick): {pessimistic_estimate.to(u.hour):.2f} ({pessimistic_estimate.to(u.day):.2f})\")"
   ]
  },
  {
   "cell_type": "code",
   "execution_count": null,
   "metadata": {},
   "outputs": [],
   "source": [
    "def iterate_bricks(brick_df):\n",
    "    \"\"\"Iterate through a dataframe of brick names and generate the images from them\n",
    "    \"\"\"\n",
    "    \n",
    "    image_array = []\n",
    "    \n",
    "    for brick in brick_df['brickname']:\n",
    "        print(brick)\n",
    "        head, data = obtain_image(brick, \"g\")\n",
    "        image_array.append((head, data))  \n",
    "    \n",
    "    return image_array\n",
    "        \n",
    "image_array = iterate_bricks(brick_df[0:6])"
   ]
  },
  {
   "cell_type": "code",
   "execution_count": null,
   "metadata": {},
   "outputs": [],
   "source": [
    "for image in image_array:\n",
    "    plot_image(image[0], image[1])"
   ]
  },
  {
   "cell_type": "markdown",
   "metadata": {},
   "source": [
    "## Using the mask summary"
   ]
  },
  {
   "cell_type": "code",
   "execution_count": 12,
   "metadata": {},
   "outputs": [
    {
     "name": "stdout",
     "output_type": "stream",
     "text": [
      "Loading file...\n",
      "File loaded. Assigning header and data...\n",
      "Checking for bright/medium stars in DESI footprint...\n",
      "Dropping unneeded columns...(Retaining ra, dec, radius)\n",
      "Removing stars above DEC = 30\n",
      "Data cleaned!\n"
     ]
    }
   ],
   "source": [
    "# WARNING this takes a long time (~4 min)\n",
    "\n",
    "def generate_masked_stars(dec=30):\n",
    "    \"\"\"Generates a numpy file object of the masked stars\n",
    "    \n",
    "    DO NOT run this function unless absolutely necessary!!!!\n",
    "    It takes ~4 minutes on its own excluding the amount of time needed to download\n",
    "    the mask fits file.\n",
    "    \n",
    "    Parameters\n",
    "    ----------\n",
    "    dec: `float`\n",
    "        Maximum declination to cut off the catalog at (default = 30)\n",
    "    \"\"\"\n",
    "    \n",
    "    mask_string = \"/mnt/c/Users/creat/Downloads/gaia-mask-dr10.fits.gz\"\n",
    "    # mask_string = \"https://portal.nersc.gov/cfs/cosmo/data/legacysurvey/dr10/masking/gaia-mask-dr10.fits.gz\"\n",
    "    print(\"Loading file...\")\n",
    "    hdu = fits.open(mask_string, memmap=True)\n",
    "    \n",
    "    # hdu.info()\n",
    "    print(\"File loaded. Assigning header and data...\")\n",
    "    mask_header = hdu[1].header\n",
    "    mask_data = hdu[1].data\n",
    "\n",
    "    # check if sources in desi and isbright / is medium\n",
    "    print(\"Checking for bright/medium stars in DESI footprint...\")\n",
    "    mask_data_cut = mask_data[(mask_data['in_desi']) & (mask_data['isbright'] | mask_data['ismedium'])]\n",
    "\n",
    "    # drop unneeded columns first\n",
    "    print(\"Dropping unneeded columns...(Retaining ra, dec, radius)\")\n",
    "    drop_fields = mask_data_cut.names\n",
    "    allowed_fields = ['ra', 'dec', 'radius']\n",
    "    drop_fields = [field for field in drop_fields if field not in allowed_fields]\n",
    "    mask_data_cut = np.lib.recfunctions.rec_drop_fields(mask_data_cut, drop_fields)\n",
    "    \n",
    "    # Cut out all stars at declinations above DEC\n",
    "    print(f\"Removing stars above DEC = {dec}\")\n",
    "    mask_data_cut = mask_data_cut[mask_data_cut['dec'] < dec]\n",
    "\n",
    "    # close everything\n",
    "    print(\"Data cleaned!\")\n",
    "    hdu.close()\n",
    "    del hdu\n",
    "    \n",
    "    return mask_data_cut\n",
    "\n",
    "mask_data_cut = generate_masked_stars()"
   ]
  },
  {
   "cell_type": "code",
   "execution_count": 5,
   "metadata": {},
   "outputs": [
    {
     "data": {
      "text/plain": [
       "5380387"
      ]
     },
     "execution_count": 5,
     "metadata": {},
     "output_type": "execute_result"
    }
   ],
   "source": [
    "# only consider stuff below a declination of 30\n",
    "\n",
    "len(mask_data_cut)"
   ]
  },
  {
   "cell_type": "code",
   "execution_count": 13,
   "metadata": {},
   "outputs": [],
   "source": [
    "np.savez_compressed('mask_data_full', mask_data_cut)\n",
    "# print(mask_data_cut.nbytes)"
   ]
  },
  {
   "cell_type": "code",
   "execution_count": null,
   "metadata": {},
   "outputs": [],
   "source": [
    "ra_1 = 0.255965935903178\n",
    "dec_1 = -0.380962387829748\n",
    "ra_2 = 359.994034064097\n",
    "dec_2 = -0.119036306008142\n",
    "\n",
    "ra_range = (mask_data_cut['ra'] < ra_1) | (mask_data_cut['ra'] > ra_2)\n",
    "dec_range = (mask_data_cut['dec'] > dec_1) & (mask_data_cut['dec'] < dec_2)\n",
    "# box_range = (mask_data_cut['ra'] < ra_1) & (mask_data_cut['ra'] > ra_2) & (mask_data_cut['dec'] > dec_1) & (mask_data_cut['dec'] < dec_2)\n",
    "\n",
    "mask_data_box = mask_data_cut[dec_range & ra_range]\n",
    "mask_data_box\n",
    "# print(np.min(mask_data_box['ra']))"
   ]
  },
  {
   "cell_type": "code",
   "execution_count": 44,
   "metadata": {},
   "outputs": [],
   "source": [
    "mask_data_box.dtype.names\n",
    "np.savetxt(\"mask_data.txt\", mask_data_box, header=' '.join(mask_data_box.dtype.names))"
   ]
  },
  {
   "cell_type": "code",
   "execution_count": null,
   "metadata": {},
   "outputs": [],
   "source": [
    "fig, ax = plt.subplots()\n",
    "ax.scatter(mask_data_box['ra'], mask_data_box['dec'], s=mask_data_box['radius']*10000)\n",
    "ax.set(xlim=(0, ra_1), ylim=(dec_1, dec_2))\n",
    "plt.show()"
   ]
  }
 ],
 "metadata": {
  "kernelspec": {
   "display_name": "venv",
   "language": "python",
   "name": "python3"
  },
  "language_info": {
   "codemirror_mode": {
    "name": "ipython",
    "version": 3
   },
   "file_extension": ".py",
   "mimetype": "text/x-python",
   "name": "python",
   "nbconvert_exporter": "python",
   "pygments_lexer": "ipython3",
   "version": "3.10.12"
  }
 },
 "nbformat": 4,
 "nbformat_minor": 2
}
