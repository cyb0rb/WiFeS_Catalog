{
 "cells": [
  {
   "cell_type": "markdown",
   "metadata": {},
   "source": [
    "# DECam image querying\n",
    "\n",
    "This is currently just a test to see if image querying + fits file displaying works\n",
    "\n",
    "Primarily from the [NOIRLab API examples](https://github.com/NOAO/nat-nb/blob/master/sia.ipynb)"
   ]
  },
  {
   "cell_type": "code",
   "execution_count": 21,
   "metadata": {},
   "outputs": [],
   "source": [
    "import matplotlib.pyplot as plt\n",
    "from astropy.io import fits as fits\n",
    "from astropy.wcs import WCS\n",
    "from astropy.utils import data as data_utils\n",
    "\n",
    "# version dependencies are currently an issue\n",
    "import pkg_resources\n",
    "pkg_resources.require(\"numpy==1.26.3\")\n",
    "import numpy as np\n",
    "\n",
    "# import json\n",
    "# import requests\n",
    "from dl import authClient as ac, queryClient as qc\n",
    "import pandas as pd"
   ]
  },
  {
   "cell_type": "markdown",
   "metadata": {},
   "source": [
    "## Downloading images from the Legacy Survey\n",
    "\n",
    "Files are accessed through the DR10 Web Access directories mentioned on the [Legacy Survey Website](https://www.legacysurvey.org/dr10/files/).\n",
    "\n",
    "\n",
    "TO DO:\n",
    "- error checking if the image at the given section and brick don't exist\n",
    "- figure out a method to find out which brick corresponds to a given RA/DEC"
   ]
  },
  {
   "cell_type": "code",
   "execution_count": 2,
   "metadata": {},
   "outputs": [
    {
     "name": "stdout",
     "output_type": "stream",
     "text": [
      "Downloading https://portal.nersc.gov/cfs/cosmo/data/legacysurvey/dr10/south/coadd/000/0001m002/legacysurvey-0001m002-image-g.fits.fz....\n"
     ]
    }
   ],
   "source": [
    "def obtain_image(brick, filter, reset_cache=True):\n",
    "    \"\"\"Returns the header and data for a coadded FITS file queried from the Legacy Survey DR10 portal\n",
    "    \n",
    "    Files are accessed with a url pattern of `<section>/<brick>/legacysurvey-<brick>-image-<filter>.fits.fz`\n",
    "    as documented on the [Legacy Survey website](https://www.legacysurvey.org/dr10/files/#image-stacks-south-coadd).\n",
    "    Images can be deleted from cache after the header and data are extracted.\n",
    "    \n",
    "    Parameters\n",
    "    ----------\n",
    "    brick:  `str`\n",
    "        Brick name of image: RRRr(p/m)DDd\n",
    "    filter: `str`\n",
    "        Photographic filter of image to request (g, r, i, z)\n",
    "    reset_cache: `bool`, default `True`\n",
    "        Clears the downloaded image from the cache\n",
    "        \n",
    "    Returns\n",
    "    -------\n",
    "    header: `CompImageHeader`\n",
    "        Astropy object of the FITS header data\n",
    "    data: `ndarray`\n",
    "        Numpy NDarray of FITS image data\n",
    "    \"\"\"\n",
    "    \n",
    "    url = \"https://portal.nersc.gov/cfs/cosmo/data/legacysurvey/dr10/south/coadd/\"\n",
    "    image_string = url + f\"{brick[0:3]}/{brick}/legacysurvey-{brick}-image-{filter}.fits.fz\"\n",
    "    \n",
    "    print(f\"Downloading {image_string}....\")\n",
    "\n",
    "    # assumes only one image, in the first non-primary header file\n",
    "    with fits.open(image_string) as hdu:\n",
    "        header = hdu[1].header\n",
    "        data = hdu[1].data\n",
    "    \n",
    "    if reset_cache:\n",
    "        print(\"Clearing download cache...\")\n",
    "        data_utils.clear_download_cache(image_string)\n",
    "    \n",
    "    return header, data\n",
    "\n",
    "header, data = obtain_image(\"0001m002\", \"g\", reset_cache=False)"
   ]
  },
  {
   "cell_type": "code",
   "execution_count": 3,
   "metadata": {},
   "outputs": [
    {
     "data": {
      "image/png": "[encoded data removed]",
      "text/plain": [
       "<Figure size 800x800 with 1 Axes>"
      ]
     },
     "metadata": {},
     "output_type": "display_data"
    }
   ],
   "source": [
    "def plot_image(header, data):\n",
    "    \"\"\"Plots the image based on header and image data\"\"\"\n",
    "    \n",
    "    wcs = WCS(header)\n",
    "\n",
    "    fig = plt.figure(figsize=(8,8))\n",
    "    ax = plt.subplot(111, projection=wcs)\n",
    "    lon = ax.coords['ra']\n",
    "    lat = ax.coords['dec']\n",
    "    ax.imshow(data, norm='linear')\n",
    "\n",
    "    plt.tight_layout()\n",
    "    \n",
    "plot_image(header, data)"
   ]
  },
  {
   "cell_type": "markdown",
   "metadata": {},
   "source": [
    "## Querying the NOIRLab Astro Data Lab\n",
    "\n",
    "to get the images we need:\n",
    "- query the data lab for brick names in some RA/DEC region (ls_dr10.bricks)\n",
    "- iterate through the list of brick names\n",
    "- for each brick name:\n",
    "  - download the image associated with it\n",
    "  - extract header and image data\n",
    "  - send to source extraction etc..."
   ]
  },
  {
   "cell_type": "code",
   "execution_count": 4,
   "metadata": {},
   "outputs": [
    {
     "name": "stdout",
     "output_type": "stream",
     "text": [
      "Brick name for RA=0.125 and DEC=-0.25: 0001m002\n"
     ]
    }
   ],
   "source": [
    "# this function isn't actually necessary...\n",
    "def brick_identifier(ra, dec):\n",
    "    \"\"\"Creates a string corresponding to the brick name of the image at a given RA/DEC\n",
    "    in the format `RRRr(p/m)DDd`\n",
    "    \n",
    "    Example: (0.125, -0.25) -> 0001m002\n",
    "    \n",
    "    Parameters\n",
    "    ----------\n",
    "    ra: `float`\n",
    "        Right ascension (degrees)\n",
    "    dec: `float`\n",
    "        Declination (degrees)\n",
    "        \n",
    "    Returns\n",
    "    -------\n",
    "    brickname: `str`\n",
    "        Name of \"brick\" image\n",
    "    \"\"\"\n",
    "    # ra RRR.rrr -> RRRr\n",
    "    # dec (+/-)DD.ddd -> (p/m)DDd\n",
    "    \n",
    "    # whether declination is positive or negative\n",
    "    sign = \"p\"\n",
    "    if dec < 0:\n",
    "        sign = \"m\"\n",
    "    \n",
    "    # remove decimal and sign\n",
    "    mod_ra = round(ra*10)\n",
    "    mod_dec = abs(round(dec*10))\n",
    "    \n",
    "    brickname = f\"{mod_ra:04}{sign}{mod_dec:03}\"\n",
    "    print(f\"Brick name for RA={ra} and DEC={dec}: {brickname}\")\n",
    "    \n",
    "    return brickname\n",
    "    \n",
    "brickname = brick_identifier(0.125, -0.25)"
   ]
  },
  {
   "cell_type": "code",
   "execution_count": 16,
   "metadata": {},
   "outputs": [
    {
     "name": "stdout",
     "output_type": "stream",
     "text": [
      "\n",
      "Schema: ls_dr10\n",
      " Table: bricks\n",
      "\n",
      "     Column Name   Description\n",
      "     -----------   -----------\n",
      "       brickname   Name of the brick\n",
      "         brickid   A unique integer with 1-to-1 mapping to brickname\n",
      "          brickq   A \"priority\" factor used for processing\n",
      "        brickrow   Dec row number\n",
      "        brickcol   Number of the brick within a Dec row\n",
      "              ra   RA of the center of the brick\n",
      "             dec   Dec of the center of the brick\n",
      "             ra1   Lower RA boundary\n",
      "             ra2   Upper RA boundary\n",
      "            dec1   Lower Dec boundary\n",
      "            dec2   Upper Dec boundary\n",
      "\n"
     ]
    }
   ],
   "source": [
    "print(qc.schema(\"ls_dr10.bricks\"))"
   ]
  },
  {
   "cell_type": "code",
   "execution_count": null,
   "metadata": {},
   "outputs": [
    {
     "name": "stdout",
     "output_type": "stream",
     "text": [
      "\n",
      "    SELECT brickname, ra, ra1, ra2, dec, dec1, dec2\n",
      "    FROM ls_dr10.bricks\n",
      "    WHERE ra > (99.5) AND ra < (100.5)\n",
      "    AND dec > (14.5) AND dec < (15.5)\n",
      "    LIMIT 10\n",
      "    \n",
      "Querying the Astro Data Lab...\n"
     ]
    }
   ],
   "source": [
    "def query_bricks(ra, dec, dist):\n",
    "    \"\"\"Queries the Astro Data Lab for brick names and associated RA/DEC based on the given RA/DEC\n",
    "    \n",
    "    dist is in degrees\n",
    "    \"\"\"\n",
    "    \n",
    "    # one RA/DEC pair, then some set range around that?\n",
    "    ra_max = ra + dist\n",
    "    ra_min = ra - dist\n",
    "    dec_max = dec + dist\n",
    "    dec_min = dec - dist\n",
    "    \n",
    "    # bounded RA/DEC region?\n",
    "    \n",
    "    # centers or corners of bricks?\n",
    "\n",
    "    query = f\"\"\"\n",
    "    SELECT brickname, ra, ra1, ra2, dec, dec1, dec2\n",
    "    FROM ls_dr10.bricks\n",
    "    WHERE ra >= ({ra_min}) AND ra < ({ra_max})\n",
    "    AND dec >= ({dec_min}) AND dec < ({dec_max})\n",
    "    LIMIT 10\n",
    "    \"\"\"\n",
    "    \n",
    "    print(query)\n",
    "    \n",
    "    print(\"Querying the Astro Data Lab...\")\n",
    "    # check if this completes successfuly\n",
    "    brick_info = qc.query(sql=query, fmt=\"pandas\")\n",
    "    \n",
    "    return brick_info\n",
    "\n",
    "brick_df = query_bricks(100, 15, 0.5)"
   ]
  },
  {
   "cell_type": "code",
   "execution_count": 30,
   "metadata": {},
   "outputs": [
    {
     "data": {
      "text/html": [
       "<div>\n",
       "<style scoped>\n",
       "    .dataframe tbody tr th:only-of-type {\n",
       "        vertical-align: middle;\n",
       "    }\n",
       "\n",
       "    .dataframe tbody tr th {\n",
       "        vertical-align: top;\n",
       "    }\n",
       "\n",
       "    .dataframe thead th {\n",
       "        text-align: right;\n",
       "    }\n",
       "</style>\n",
       "<table border=\"1\" class=\"dataframe\">\n",
       "  <thead>\n",
       "    <tr style=\"text-align: right;\">\n",
       "      <th></th>\n",
       "      <th>brickname</th>\n",
       "      <th>ra</th>\n",
       "      <th>ra1</th>\n",
       "      <th>ra2</th>\n",
       "      <th>dec</th>\n",
       "      <th>dec1</th>\n",
       "      <th>dec2</th>\n",
       "    </tr>\n",
       "  </thead>\n",
       "  <tbody>\n",
       "    <tr>\n",
       "      <th>0</th>\n",
       "      <td>0996p150</td>\n",
       "      <td>99.698276</td>\n",
       "      <td>99.568966</td>\n",
       "      <td>99.827586</td>\n",
       "      <td>15.00</td>\n",
       "      <td>14.875</td>\n",
       "      <td>15.125</td>\n",
       "    </tr>\n",
       "    <tr>\n",
       "      <th>1</th>\n",
       "      <td>0999p150</td>\n",
       "      <td>99.956897</td>\n",
       "      <td>99.827586</td>\n",
       "      <td>100.086207</td>\n",
       "      <td>15.00</td>\n",
       "      <td>14.875</td>\n",
       "      <td>15.125</td>\n",
       "    </tr>\n",
       "    <tr>\n",
       "      <th>2</th>\n",
       "      <td>1002p150</td>\n",
       "      <td>100.215517</td>\n",
       "      <td>100.086207</td>\n",
       "      <td>100.344828</td>\n",
       "      <td>15.00</td>\n",
       "      <td>14.875</td>\n",
       "      <td>15.125</td>\n",
       "    </tr>\n",
       "    <tr>\n",
       "      <th>3</th>\n",
       "      <td>1004p150</td>\n",
       "      <td>100.474138</td>\n",
       "      <td>100.344828</td>\n",
       "      <td>100.603448</td>\n",
       "      <td>15.00</td>\n",
       "      <td>14.875</td>\n",
       "      <td>15.125</td>\n",
       "    </tr>\n",
       "    <tr>\n",
       "      <th>4</th>\n",
       "      <td>0996p152</td>\n",
       "      <td>99.698276</td>\n",
       "      <td>99.568966</td>\n",
       "      <td>99.827586</td>\n",
       "      <td>15.25</td>\n",
       "      <td>15.125</td>\n",
       "      <td>15.375</td>\n",
       "    </tr>\n",
       "    <tr>\n",
       "      <th>5</th>\n",
       "      <td>0999p152</td>\n",
       "      <td>99.956897</td>\n",
       "      <td>99.827586</td>\n",
       "      <td>100.086207</td>\n",
       "      <td>15.25</td>\n",
       "      <td>15.125</td>\n",
       "      <td>15.375</td>\n",
       "    </tr>\n",
       "    <tr>\n",
       "      <th>6</th>\n",
       "      <td>1002p152</td>\n",
       "      <td>100.215517</td>\n",
       "      <td>100.086207</td>\n",
       "      <td>100.344828</td>\n",
       "      <td>15.25</td>\n",
       "      <td>15.125</td>\n",
       "      <td>15.375</td>\n",
       "    </tr>\n",
       "    <tr>\n",
       "      <th>7</th>\n",
       "      <td>1004p152</td>\n",
       "      <td>100.474138</td>\n",
       "      <td>100.344828</td>\n",
       "      <td>100.603448</td>\n",
       "      <td>15.25</td>\n",
       "      <td>15.125</td>\n",
       "      <td>15.375</td>\n",
       "    </tr>\n",
       "    <tr>\n",
       "      <th>8</th>\n",
       "      <td>0995p147</td>\n",
       "      <td>99.555237</td>\n",
       "      <td>99.426112</td>\n",
       "      <td>99.684362</td>\n",
       "      <td>14.75</td>\n",
       "      <td>14.625</td>\n",
       "      <td>14.875</td>\n",
       "    </tr>\n",
       "    <tr>\n",
       "      <th>9</th>\n",
       "      <td>0998p147</td>\n",
       "      <td>99.813486</td>\n",
       "      <td>99.684362</td>\n",
       "      <td>99.942611</td>\n",
       "      <td>14.75</td>\n",
       "      <td>14.625</td>\n",
       "      <td>14.875</td>\n",
       "    </tr>\n",
       "  </tbody>\n",
       "</table>\n",
       "</div>"
      ],
      "text/plain": [
       "  brickname          ra         ra1         ra2    dec    dec1    dec2\n",
       "0  0996p150   99.698276   99.568966   99.827586  15.00  14.875  15.125\n",
       "1  0999p150   99.956897   99.827586  100.086207  15.00  14.875  15.125\n",
       "2  1002p150  100.215517  100.086207  100.344828  15.00  14.875  15.125\n",
       "3  1004p150  100.474138  100.344828  100.603448  15.00  14.875  15.125\n",
       "4  0996p152   99.698276   99.568966   99.827586  15.25  15.125  15.375\n",
       "5  0999p152   99.956897   99.827586  100.086207  15.25  15.125  15.375\n",
       "6  1002p152  100.215517  100.086207  100.344828  15.25  15.125  15.375\n",
       "7  1004p152  100.474138  100.344828  100.603448  15.25  15.125  15.375\n",
       "8  0995p147   99.555237   99.426112   99.684362  14.75  14.625  14.875\n",
       "9  0998p147   99.813486   99.684362   99.942611  14.75  14.625  14.875"
      ]
     },
     "execution_count": 30,
     "metadata": {},
     "output_type": "execute_result"
    }
   ],
   "source": [
    "brick_df"
   ]
  },
  {
   "cell_type": "code",
   "execution_count": 34,
   "metadata": {},
   "outputs": [
    {
     "name": "stdout",
     "output_type": "stream",
     "text": [
      "0996p150\n",
      "0999p150\n",
      "1002p150\n",
      "1004p150\n",
      "0996p152\n",
      "0999p152\n",
      "1002p152\n",
      "1004p152\n",
      "0995p147\n",
      "0998p147\n"
     ]
    }
   ],
   "source": [
    "def iterate_bricks(brick_df):\n",
    "    \"\"\"Iterate through a dataframe of brick names and generate the images from them\n",
    "    \"\"\"\n",
    "    \n",
    "    # image_array = []\n",
    "    \n",
    "    for brick in brick_df['brickname']:\n",
    "        print(brick)\n",
    "        \n",
    "iterate_bricks(brick_df)"
   ]
  }
 ],
 "metadata": {
  "kernelspec": {
   "display_name": "venv",
   "language": "python",
   "name": "python3"
  },
  "language_info": {
   "codemirror_mode": {
    "name": "ipython",
    "version": 3
   },
   "file_extension": ".py",
   "mimetype": "text/x-python",
   "name": "python",
   "nbconvert_exporter": "python",
   "pygments_lexer": "ipython3",
   "version": "3.10.12"
  }
 },
 "nbformat": 4,
 "nbformat_minor": 2
}
