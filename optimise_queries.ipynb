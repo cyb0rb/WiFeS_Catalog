{
 "cells": [
  {
   "cell_type": "markdown",
   "metadata": {},
   "source": [
    "# Dark Sky Positions direct from Catalogue"
   ]
  },
  {
   "cell_type": "code",
   "execution_count": 55,
   "metadata": {},
   "outputs": [],
   "source": [
    "import matplotlib.pyplot as plt\n",
    "from astropy.io import fits as fits\n",
    "from astropy.coordinates import SkyCoord\n",
    "\n",
    "import pkg_resources\n",
    "pkg_resources.require(\"numpy==1.26.3\")\n",
    "import numpy as np\n",
    "from scipy.spatial import distance_matrix\n",
    "\n",
    "from dl import queryClient as qc\n",
    "import pandas as pd"
   ]
  },
  {
   "cell_type": "code",
   "execution_count": 8,
   "metadata": {},
   "outputs": [],
   "source": [
    "# timer function\n",
    "import functools\n",
    "import time\n",
    "\n",
    "def timer(func):\n",
    "    @functools.wraps(func)\n",
    "    def wrapper_timer(*args, **kwargs):\n",
    "        tic = time.perf_counter()\n",
    "        value = func(*args, **kwargs)\n",
    "        toc = time.perf_counter()\n",
    "        elapsed_time = toc - tic\n",
    "        print(elapsed_time)\n",
    "        return value\n",
    "    return wrapper_timer\n"
   ]
  },
  {
   "cell_type": "markdown",
   "metadata": {},
   "source": [
    "## Querying tractor catalogue for one degree squares"
   ]
  },
  {
   "cell_type": "code",
   "execution_count": null,
   "metadata": {},
   "outputs": [],
   "source": [
    "@timer\n",
    "def query_tractor(ra, dec, query_dist=1.0):\n",
    "    \"\"\"Queries the Astro Data Lab for the ra, dec and mag_g of the objects within a square of side length (dist).     \n",
    "    dist is in degrees\n",
    "    \"\"\"\n",
    "    # Bounds of the square we are querying objects for\n",
    "    ra_min=ra\n",
    "    ra_max = ra + query_dist\n",
    "    dec_min=dec\n",
    "    dec_max = dec + query_dist\n",
    "\n",
    "    query = f\"\"\"\n",
    "    SELECT ra, dec, mag_g,mag_r,mag_i,mag_z\n",
    "    FROM ls_dr10.tractor_s\n",
    "    WHERE ra >= ({ra_min}) AND ra < ({ra_max})\n",
    "    AND dec >= ({dec_min}) AND dec < ({dec_max})\n",
    "    AND (mag_g<=21 AND mag_g>=16\n",
    "        OR mag_r<=21 AND mag_r>=16\n",
    "        OR mag_i<=21 AND mag_i>=16\n",
    "        OR mag_z<=21 AND mag_z>=16)       \n",
    "    \"\"\"\n",
    "    \n",
    "    # check if this completes successfuly\n",
    "    brick_info = qc.query(sql=query, fmt=\"pandas\")\n",
    "    return brick_info"
   ]
  },
  {
   "cell_type": "code",
   "execution_count": 6,
   "metadata": {},
   "outputs": [
    {
     "data": {
      "text/plain": [
       "[<matplotlib.lines.Line2D at 0x303bff610>]"
      ]
     },
     "execution_count": 6,
     "metadata": {},
     "output_type": "execute_result"
    },
    {
     "data": {
      "image/png": "[encoded data removed]",
      "text/plain": [
       "<Figure size 640x480 with 1 Axes>"
      ]
     },
     "metadata": {},
     "output_type": "display_data"
    }
   ],
   "source": [
    "x = [1, 4, 9, 16, 25, 36, 49, 64, 81, 100, 121, 144, 169, 196, 225, 256, 289, 324, 361, 400, 625, 900, 1600]\n",
    "y = [1.2789743749999616, 7.527789000000041/4, 14.455102375000024/9, 21.94977908300001/16, 72.33531233299993/25, 83.05894341699991/36, 85.35484112500001/49, 100.86192695799991/64, 107.4080237500001/81, 113.01894195800003/100, 122.56287062500019/121, 138.68802762500013/144, 139.764082208/169, 155.17113345799999/196, 157.64259362500002/225, 169.22000945800005/256, 178.27083341599996/289, 179.95430566699997/324, 168.81875749999972/361, 172.9240558749998/400, 239.27568062499995/625, 236.5007538750001/900, 393.484322875/1600]\n",
    "\n",
    "plt.plot(x,y)"
   ]
  },
  {
   "cell_type": "code",
   "execution_count": 53,
   "metadata": {},
   "outputs": [
    {
     "name": "stdout",
     "output_type": "stream",
     "text": [
      "9.08773149999979\n"
     ]
    },
    {
     "data": {
      "text/html": [
       "<div>\n",
       "<style scoped>\n",
       "    .dataframe tbody tr th:only-of-type {\n",
       "        vertical-align: middle;\n",
       "    }\n",
       "\n",
       "    .dataframe tbody tr th {\n",
       "        vertical-align: top;\n",
       "    }\n",
       "\n",
       "    .dataframe thead th {\n",
       "        text-align: right;\n",
       "    }\n",
       "</style>\n",
       "<table border=\"1\" class=\"dataframe\">\n",
       "  <thead>\n",
       "    <tr style=\"text-align: right;\">\n",
       "      <th></th>\n",
       "      <th>ra</th>\n",
       "      <th>dec</th>\n",
       "      <th>mag_g</th>\n",
       "      <th>mag_r</th>\n",
       "      <th>mag_i</th>\n",
       "      <th>mag_z</th>\n",
       "    </tr>\n",
       "  </thead>\n",
       "  <tbody>\n",
       "    <tr>\n",
       "      <th>0</th>\n",
       "      <td>0.052292</td>\n",
       "      <td>-29.990549</td>\n",
       "      <td>20.576283</td>\n",
       "      <td>19.208673</td>\n",
       "      <td>NaN</td>\n",
       "      <td>17.813751</td>\n",
       "    </tr>\n",
       "    <tr>\n",
       "      <th>1</th>\n",
       "      <td>0.171944</td>\n",
       "      <td>-29.967732</td>\n",
       "      <td>18.637722</td>\n",
       "      <td>17.318207</td>\n",
       "      <td>NaN</td>\n",
       "      <td>16.467838</td>\n",
       "    </tr>\n",
       "    <tr>\n",
       "      <th>2</th>\n",
       "      <td>0.096170</td>\n",
       "      <td>-29.888849</td>\n",
       "      <td>20.537535</td>\n",
       "      <td>19.192518</td>\n",
       "      <td>NaN</td>\n",
       "      <td>18.333267</td>\n",
       "    </tr>\n",
       "    <tr>\n",
       "      <th>3</th>\n",
       "      <td>0.346783</td>\n",
       "      <td>-29.956512</td>\n",
       "      <td>21.044132</td>\n",
       "      <td>20.560936</td>\n",
       "      <td>NaN</td>\n",
       "      <td>20.398497</td>\n",
       "    </tr>\n",
       "    <tr>\n",
       "      <th>4</th>\n",
       "      <td>0.365366</td>\n",
       "      <td>-29.930078</td>\n",
       "      <td>NaN</td>\n",
       "      <td>20.946877</td>\n",
       "      <td>NaN</td>\n",
       "      <td>19.677614</td>\n",
       "    </tr>\n",
       "    <tr>\n",
       "      <th>...</th>\n",
       "      <td>...</td>\n",
       "      <td>...</td>\n",
       "      <td>...</td>\n",
       "      <td>...</td>\n",
       "      <td>...</td>\n",
       "      <td>...</td>\n",
       "    </tr>\n",
       "    <tr>\n",
       "      <th>10947</th>\n",
       "      <td>0.969404</td>\n",
       "      <td>-29.008780</td>\n",
       "      <td>17.161829</td>\n",
       "      <td>15.722761</td>\n",
       "      <td>14.829044</td>\n",
       "      <td>14.476010</td>\n",
       "    </tr>\n",
       "    <tr>\n",
       "      <th>10948</th>\n",
       "      <td>0.979443</td>\n",
       "      <td>-29.004978</td>\n",
       "      <td>16.859154</td>\n",
       "      <td>15.720628</td>\n",
       "      <td>15.118659</td>\n",
       "      <td>15.057508</td>\n",
       "    </tr>\n",
       "    <tr>\n",
       "      <th>10949</th>\n",
       "      <td>0.992405</td>\n",
       "      <td>-29.006339</td>\n",
       "      <td>23.777336</td>\n",
       "      <td>22.017569</td>\n",
       "      <td>21.284472</td>\n",
       "      <td>20.954126</td>\n",
       "    </tr>\n",
       "    <tr>\n",
       "      <th>10950</th>\n",
       "      <td>0.987958</td>\n",
       "      <td>-29.003183</td>\n",
       "      <td>19.775280</td>\n",
       "      <td>19.486214</td>\n",
       "      <td>19.301092</td>\n",
       "      <td>19.267748</td>\n",
       "    </tr>\n",
       "    <tr>\n",
       "      <th>10951</th>\n",
       "      <td>0.999154</td>\n",
       "      <td>-29.000438</td>\n",
       "      <td>20.332340</td>\n",
       "      <td>19.853199</td>\n",
       "      <td>19.717085</td>\n",
       "      <td>19.665882</td>\n",
       "    </tr>\n",
       "  </tbody>\n",
       "</table>\n",
       "<p>10952 rows × 6 columns</p>\n",
       "</div>"
      ],
      "text/plain": [
       "             ra        dec      mag_g      mag_r      mag_i      mag_z\n",
       "0      0.052292 -29.990549  20.576283  19.208673        NaN  17.813751\n",
       "1      0.171944 -29.967732  18.637722  17.318207        NaN  16.467838\n",
       "2      0.096170 -29.888849  20.537535  19.192518        NaN  18.333267\n",
       "3      0.346783 -29.956512  21.044132  20.560936        NaN  20.398497\n",
       "4      0.365366 -29.930078        NaN  20.946877        NaN  19.677614\n",
       "...         ...        ...        ...        ...        ...        ...\n",
       "10947  0.969404 -29.008780  17.161829  15.722761  14.829044  14.476010\n",
       "10948  0.979443 -29.004978  16.859154  15.720628  15.118659  15.057508\n",
       "10949  0.992405 -29.006339  23.777336  22.017569  21.284472  20.954126\n",
       "10950  0.987958 -29.003183  19.775280  19.486214  19.301092  19.267748\n",
       "10951  0.999154 -29.000438  20.332340  19.853199  19.717085  19.665882\n",
       "\n",
       "[10952 rows x 6 columns]"
      ]
     },
     "execution_count": 53,
     "metadata": {},
     "output_type": "execute_result"
    }
   ],
   "source": [
    "brick_info = query_tractor(0,-30,1)\n",
    "brick_info"
   ]
  },
  {
   "cell_type": "code",
   "execution_count": 54,
   "metadata": {},
   "outputs": [
    {
     "name": "stdout",
     "output_type": "stream",
     "text": [
      "             ra        dec        mag passband\n",
      "0      0.052292 -29.990549  20.576283        g\n",
      "1      0.171944 -29.967732  18.637722        g\n",
      "2      0.096170 -29.888849  20.537535        g\n",
      "3      0.346783 -29.956512  21.044132        g\n",
      "4      0.365366 -29.930078  20.946877        r\n",
      "...         ...        ...        ...      ...\n",
      "10947  0.969404 -29.008780  17.161829        g\n",
      "10948  0.979443 -29.004978  16.859154        g\n",
      "10949  0.992405 -29.006339  23.777336        g\n",
      "10950  0.987958 -29.003183  19.775280        g\n",
      "10951  0.999154 -29.000438  20.332340        g\n",
      "\n",
      "[10952 rows x 4 columns]\n"
     ]
    }
   ],
   "source": [
    "mag = []\n",
    "passband = []\n",
    "brick_info = brick_info.replace([-np.inf], np.nan)\n",
    "\n",
    "for n in range(len(brick_info['mag_g'])):\n",
    "    if pd.notna(brick_info['mag_g'][n]):\n",
    "        mag.append(brick_info['mag_g'][n])\n",
    "        passband.append('g')\n",
    "    elif pd.notna(brick_info['mag_r'][n]):\n",
    "        mag.append(brick_info['mag_r'][n])\n",
    "        passband.append('r')\n",
    "    elif pd.notna(brick_info['mag_i'][n]):\n",
    "        mag.append(brick_info['mag_i'][n])\n",
    "        passband.append('i')\n",
    "    elif pd.notna(brick_info['mag_z'][n]):\n",
    "        mag.append(brick_info['mag_z'][n])\n",
    "        passband.append('z')\n",
    "    else:\n",
    "        brick_info = brick_info.drop(brick_info.iloc['mag'][n])\n",
    "\n",
    "brick_info = brick_info.drop(['mag_g','mag_r','mag_i','mag_z'], axis=1)\n",
    "brick_info['mag'] = mag\n",
    "brick_info['passband'] = passband\n",
    "\n",
    "print(brick_info)"
   ]
  },
  {
   "cell_type": "code",
   "execution_count": 49,
   "metadata": {},
   "outputs": [
    {
     "data": {
      "text/plain": [
       "numpy.bool_"
      ]
     },
     "execution_count": 49,
     "metadata": {},
     "output_type": "execute_result"
    }
   ],
   "source": [
    "type(brick_info['mag_g'][0].any())"
   ]
  },
  {
   "cell_type": "code",
   "execution_count": 120,
   "metadata": {},
   "outputs": [],
   "source": [
    "ra = 200\n",
    "dec = -60\n",
    "query_dist = 1\n",
    "\n",
    "def galactic_lmc_check(ra,dec,query_dist):\n",
    "\n",
    "    ra_min=ra\n",
    "    ra_max = ra + query_dist\n",
    "    dec_min=dec\n",
    "    dec_max = dec + query_dist\n",
    "\n",
    "    # check if in LMC\n",
    "    if (ra_min >=76) and (ra_max <= 86) and (dec_min >= -76) and (dec_max <= -64):\n",
    "        return False\n",
    "\n",
    "    # check if in SMC\n",
    "    if (ra_min >=11) and (ra_max <= 16) and (dec_min >= -76) and (dec_max <= -70):\n",
    "        return False    \n",
    "\n",
    "    # check if on the galactic plane\n",
    "    c_icrs_min = SkyCoord(ra=ra_min, dec=dec_min, frame='icrs', unit='degree')\n",
    "    c_icrs_max = SkyCoord(ra=ra_max, dec=dec_max, frame='icrs', unit='degree')\n",
    "\n",
    "    c_gal_min = c_icrs_min.galactic\n",
    "    c_gal_max = c_icrs_max.galactic\n",
    "\n",
    "    if abs(c_gal_min.b.value) <= 18 or abs(c_gal_max.b.value) <= 18:\n",
    "        return False\n",
    "\n",
    "    return True\n"
   ]
  },
  {
   "cell_type": "code",
   "execution_count": 119,
   "metadata": {},
   "outputs": [
    {
     "data": {
      "image/png": "[encoded data removed]",
      "text/plain": [
       "<Figure size 640x480 with 1 Axes>"
      ]
     },
     "metadata": {},
     "output_type": "display_data"
    }
   ],
   "source": [
    "from math import pi, cos, sin, degrees\n",
    "\n",
    "lmc_ra = SkyCoord.from_name('SMC').ra.value\n",
    "lmc_dec = SkyCoord.from_name('SMC').dec.value\n",
    "lmc_maj = 158.113 / 60\n",
    "lmc_min = 93.105 / 60\n",
    "lmc_rot = degrees(45)\n",
    "\n",
    "t = np.linspace(0, 2*pi, 100)\n",
    "Ell = np.array([lmc_maj*np.cos(t) , lmc_min*np.sin(t)])  \n",
    "     #u,v removed to keep the same center location\n",
    "R_rot = np.array([[cos(lmc_rot) , -sin(lmc_rot)],[sin(lmc_rot) , cos(lmc_rot)]])  \n",
    "     #2-D rotation matrix\n",
    "\n",
    "Ell_rot = np.zeros((2,Ell.shape[1]))\n",
    "for i in range(Ell.shape[1]):\n",
    "    Ell_rot[:,i] = np.dot(R_rot,Ell[:,i])\n",
    "\n",
    "#plt.plot( lmc_ra+Ell[0,:] , lmc_dec+Ell[1,:] )     #initial ellipse\n",
    "plt.plot( lmc_ra+Ell_rot[0,:] , lmc_dec+Ell_rot[1,:],'darkorange' )    #rotated ellipse\n",
    "plt.grid(color='lightgray',linestyle='--')\n",
    "plt.show()"
   ]
  },
  {
   "cell_type": "code",
   "execution_count": 248,
   "metadata": {},
   "outputs": [
    {
     "data": {
      "text/plain": [
       "<astropy.io.fits.hdu.table.BinTableHDU at 0x14e0bc220>"
      ]
     },
     "execution_count": 248,
     "metadata": {},
     "output_type": "execute_result"
    }
   ],
   "source": [
    "from pyongc import ongc\n",
    "\n",
    "with fits.open('NGC-star-clusters.fits') as hdu:\n",
    "    header = hdu[1].header\n",
    "    data = hdu[1].data\n",
    "\n",
    "clusters_df = pd.DataFrame(data)\n",
    "\n",
    "# vmags = []\n",
    "# for s in clusters_df['name']:\n",
    "#     try:\n",
    "#         m = ongc.Dso(s).magnitudes[1]\n",
    "#         vmags.append(m)\n",
    "#     except:\n",
    "#         print('No VMag for ', s)\n",
    "#         vmags.append(None)\\\n",
    "\n",
    "hdu[1]"
   ]
  },
  {
   "cell_type": "code",
   "execution_count": 223,
   "metadata": {},
   "outputs": [],
   "source": [
    "clusters_list = []\n",
    "for i in clusters_df['name']:\n",
    "    clusters_list.append(i)\n",
    "\n",
    "with open('clusters.fits', 'w') as file:\n",
    "    data = '\\n'.join(clusters_list)\n",
    "    file.write(data)"
   ]
  },
  {
   "cell_type": "code",
   "execution_count": 257,
   "metadata": {},
   "outputs": [
    {
     "data": {
      "text/html": [
       "<div>\n",
       "<style scoped>\n",
       "    .dataframe tbody tr th:only-of-type {\n",
       "        vertical-align: middle;\n",
       "    }\n",
       "\n",
       "    .dataframe tbody tr th {\n",
       "        vertical-align: top;\n",
       "    }\n",
       "\n",
       "    .dataframe thead th {\n",
       "        text-align: right;\n",
       "    }\n",
       "</style>\n",
       "<table border=\"1\" class=\"dataframe\">\n",
       "  <thead>\n",
       "    <tr style=\"text-align: right;\">\n",
       "      <th></th>\n",
       "      <th>name</th>\n",
       "      <th>alt_name</th>\n",
       "      <th>type</th>\n",
       "      <th>ra</th>\n",
       "      <th>dec</th>\n",
       "      <th>radius</th>\n",
       "      <th>pa</th>\n",
       "      <th>ba</th>\n",
       "    </tr>\n",
       "  </thead>\n",
       "  <tbody>\n",
       "    <tr>\n",
       "      <th>77</th>\n",
       "      <td>LMC</td>\n",
       "      <td></td>\n",
       "      <td>Dwrf</td>\n",
       "      <td>82.5</td>\n",
       "      <td>-69.0</td>\n",
       "      <td>7.0</td>\n",
       "      <td>184.9</td>\n",
       "      <td>0.81</td>\n",
       "    </tr>\n",
       "  </tbody>\n",
       "</table>\n",
       "</div>"
      ],
      "text/plain": [
       "   name alt_name  type    ra   dec  radius     pa    ba\n",
       "77  LMC           Dwrf  82.5 -69.0     7.0  184.9  0.81"
      ]
     },
     "execution_count": 257,
     "metadata": {},
     "output_type": "execute_result"
    }
   ],
   "source": [
    "clusters_df[77:78]"
   ]
  },
  {
   "cell_type": "code",
   "execution_count": null,
   "metadata": {},
   "outputs": [],
   "source": [
    " "
   ]
  }
 ],
 "metadata": {
  "kernelspec": {
   "display_name": "Python 3",
   "language": "python",
   "name": "python3"
  },
  "language_info": {
   "codemirror_mode": {
    "name": "ipython",
    "version": 3
   },
   "file_extension": ".py",
   "mimetype": "text/x-python",
   "name": "python",
   "nbconvert_exporter": "python",
   "pygments_lexer": "ipython3",
   "version": "3.9.6"
  }
 },
 "nbformat": 4,
 "nbformat_minor": 2
}
