{
 "cells": [
  {
   "cell_type": "markdown",
   "metadata": {},
   "source": [
    "# Dark Sky Positions direct from Catalogue"
   ]
  },
  {
   "cell_type": "code",
   "execution_count": 7,
   "metadata": {},
   "outputs": [],
   "source": [
    "import matplotlib.pyplot as plt\n",
    "from astropy.io import fits as fits\n",
    "\n",
    "import pkg_resources\n",
    "pkg_resources.require(\"numpy==1.26.3\")\n",
    "import numpy as np\n",
    "from scipy.spatial import distance_matrix\n",
    "\n",
    "from dl import queryClient as qc\n",
    "import pandas as pd"
   ]
  },
  {
   "cell_type": "code",
   "execution_count": 8,
   "metadata": {},
   "outputs": [],
   "source": [
    "# timer function\n",
    "import functools\n",
    "import time\n",
    "\n",
    "def timer(func):\n",
    "    @functools.wraps(func)\n",
    "    def wrapper_timer(*args, **kwargs):\n",
    "        tic = time.perf_counter()\n",
    "        value = func(*args, **kwargs)\n",
    "        toc = time.perf_counter()\n",
    "        elapsed_time = toc - tic\n",
    "        print(elapsed_time)\n",
    "        return value\n",
    "    return wrapper_timer\n"
   ]
  },
  {
   "cell_type": "markdown",
   "metadata": {},
   "source": [
    "## Querying tractor catalogue for one degree squares"
   ]
  },
  {
   "cell_type": "code",
   "execution_count": 9,
   "metadata": {},
   "outputs": [],
   "source": [
    "@timer\n",
    "def query_tractor(ra, dec, query_dist=1.0):\n",
    "    \"\"\"Queries the Astro Data Lab for the ra, dec and mag_g of the objects within a square of side length (dist).     \n",
    "    dist is in degrees\n",
    "    \"\"\"\n",
    "    # Bounds of the square we are querying objects for\n",
    "    ra_min=ra\n",
    "    ra_max = ra + query_dist\n",
    "    dec_min=dec\n",
    "    dec_max = dec + query_dist\n",
    "\n",
    "    query = f\"\"\"\n",
    "    SELECT ra, dec, mag_g,mag_r,mag_i,mag_z\n",
    "    FROM ls_dr10.tractor_s\n",
    "    WHERE ra >= ({ra_min}) AND ra < ({ra_max})\n",
    "    AND dec >= ({dec_min}) AND dec < ({dec_max})\n",
    "    AND (mag_g<=21 AND mag_g>=16\n",
    "        OR mag_r<=21 AND mag_r>=16\n",
    "        OR mag_i<=21 AND mag_i>=16\n",
    "        OR mag_z<=21 AND mag_z>=16)       \n",
    "    \"\"\"\n",
    "    \n",
    "    # check if this completes successfuly\n",
    "    brick_info = qc.query(sql=query, fmt=\"pandas\")\n",
    "    return brick_info"
   ]
  },
  {
   "cell_type": "code",
   "execution_count": 6,
   "metadata": {},
   "outputs": [
    {
     "data": {
      "text/plain": [
       "[<matplotlib.lines.Line2D at 0x303bff610>]"
      ]
     },
     "execution_count": 6,
     "metadata": {},
     "output_type": "execute_result"
    },
    {
     "data": {
      "image/png": "[encoded data removed]",
      "text/plain": [
       "<Figure size 640x480 with 1 Axes>"
      ]
     },
     "metadata": {},
     "output_type": "display_data"
    }
   ],
   "source": [
    "x = [1, 4, 9, 16, 25, 36, 49, 64, 81, 100, 121, 144, 169, 196, 225, 256, 289, 324, 361, 400, 625, 900, 1600]\n",
    "y = [1.2789743749999616, 7.527789000000041/4, 14.455102375000024/9, 21.94977908300001/16, 72.33531233299993/25, 83.05894341699991/36, 85.35484112500001/49, 100.86192695799991/64, 107.4080237500001/81, 113.01894195800003/100, 122.56287062500019/121, 138.68802762500013/144, 139.764082208/169, 155.17113345799999/196, 157.64259362500002/225, 169.22000945800005/256, 178.27083341599996/289, 179.95430566699997/324, 168.81875749999972/361, 172.9240558749998/400, 239.27568062499995/625, 236.5007538750001/900, 393.484322875/1600]\n",
    "\n",
    "plt.plot(x,y)"
   ]
  },
  {
   "cell_type": "code",
   "execution_count": 31,
   "metadata": {},
   "outputs": [
    {
     "name": "stdout",
     "output_type": "stream",
     "text": [
      "9.355487040999833\n"
     ]
    },
    {
     "data": {
      "text/html": [
       "<div>\n",
       "<style scoped>\n",
       "    .dataframe tbody tr th:only-of-type {\n",
       "        vertical-align: middle;\n",
       "    }\n",
       "\n",
       "    .dataframe tbody tr th {\n",
       "        vertical-align: top;\n",
       "    }\n",
       "\n",
       "    .dataframe thead th {\n",
       "        text-align: right;\n",
       "    }\n",
       "</style>\n",
       "<table border=\"1\" class=\"dataframe\">\n",
       "  <thead>\n",
       "    <tr style=\"text-align: right;\">\n",
       "      <th></th>\n",
       "      <th>ra</th>\n",
       "      <th>dec</th>\n",
       "      <th>mag_g</th>\n",
       "      <th>mag_r</th>\n",
       "      <th>mag_i</th>\n",
       "      <th>mag_z</th>\n",
       "    </tr>\n",
       "  </thead>\n",
       "  <tbody>\n",
       "    <tr>\n",
       "      <th>0</th>\n",
       "      <td>0.052292</td>\n",
       "      <td>-29.990549</td>\n",
       "      <td>20.576283</td>\n",
       "      <td>19.208673</td>\n",
       "      <td>inf</td>\n",
       "      <td>17.813751</td>\n",
       "    </tr>\n",
       "    <tr>\n",
       "      <th>1</th>\n",
       "      <td>0.171944</td>\n",
       "      <td>-29.967732</td>\n",
       "      <td>18.637722</td>\n",
       "      <td>17.318207</td>\n",
       "      <td>inf</td>\n",
       "      <td>16.467838</td>\n",
       "    </tr>\n",
       "    <tr>\n",
       "      <th>2</th>\n",
       "      <td>0.096170</td>\n",
       "      <td>-29.888849</td>\n",
       "      <td>20.537535</td>\n",
       "      <td>19.192518</td>\n",
       "      <td>inf</td>\n",
       "      <td>18.333267</td>\n",
       "    </tr>\n",
       "    <tr>\n",
       "      <th>3</th>\n",
       "      <td>0.346783</td>\n",
       "      <td>-29.956512</td>\n",
       "      <td>21.044132</td>\n",
       "      <td>20.560936</td>\n",
       "      <td>inf</td>\n",
       "      <td>20.398497</td>\n",
       "    </tr>\n",
       "    <tr>\n",
       "      <th>4</th>\n",
       "      <td>0.365366</td>\n",
       "      <td>-29.930078</td>\n",
       "      <td>inf</td>\n",
       "      <td>20.946877</td>\n",
       "      <td>inf</td>\n",
       "      <td>19.677614</td>\n",
       "    </tr>\n",
       "    <tr>\n",
       "      <th>...</th>\n",
       "      <td>...</td>\n",
       "      <td>...</td>\n",
       "      <td>...</td>\n",
       "      <td>...</td>\n",
       "      <td>...</td>\n",
       "      <td>...</td>\n",
       "    </tr>\n",
       "    <tr>\n",
       "      <th>10947</th>\n",
       "      <td>0.969404</td>\n",
       "      <td>-29.008780</td>\n",
       "      <td>17.161829</td>\n",
       "      <td>15.722761</td>\n",
       "      <td>14.829044</td>\n",
       "      <td>14.476010</td>\n",
       "    </tr>\n",
       "    <tr>\n",
       "      <th>10948</th>\n",
       "      <td>0.979443</td>\n",
       "      <td>-29.004978</td>\n",
       "      <td>16.859154</td>\n",
       "      <td>15.720628</td>\n",
       "      <td>15.118659</td>\n",
       "      <td>15.057508</td>\n",
       "    </tr>\n",
       "    <tr>\n",
       "      <th>10949</th>\n",
       "      <td>0.992405</td>\n",
       "      <td>-29.006339</td>\n",
       "      <td>23.777336</td>\n",
       "      <td>22.017569</td>\n",
       "      <td>21.284472</td>\n",
       "      <td>20.954126</td>\n",
       "    </tr>\n",
       "    <tr>\n",
       "      <th>10950</th>\n",
       "      <td>0.987958</td>\n",
       "      <td>-29.003183</td>\n",
       "      <td>19.775280</td>\n",
       "      <td>19.486214</td>\n",
       "      <td>19.301092</td>\n",
       "      <td>19.267748</td>\n",
       "    </tr>\n",
       "    <tr>\n",
       "      <th>10951</th>\n",
       "      <td>0.999154</td>\n",
       "      <td>-29.000438</td>\n",
       "      <td>20.332340</td>\n",
       "      <td>19.853199</td>\n",
       "      <td>19.717085</td>\n",
       "      <td>19.665882</td>\n",
       "    </tr>\n",
       "  </tbody>\n",
       "</table>\n",
       "<p>10952 rows × 6 columns</p>\n",
       "</div>"
      ],
      "text/plain": [
       "             ra        dec      mag_g      mag_r      mag_i      mag_z\n",
       "0      0.052292 -29.990549  20.576283  19.208673        inf  17.813751\n",
       "1      0.171944 -29.967732  18.637722  17.318207        inf  16.467838\n",
       "2      0.096170 -29.888849  20.537535  19.192518        inf  18.333267\n",
       "3      0.346783 -29.956512  21.044132  20.560936        inf  20.398497\n",
       "4      0.365366 -29.930078        inf  20.946877        inf  19.677614\n",
       "...         ...        ...        ...        ...        ...        ...\n",
       "10947  0.969404 -29.008780  17.161829  15.722761  14.829044  14.476010\n",
       "10948  0.979443 -29.004978  16.859154  15.720628  15.118659  15.057508\n",
       "10949  0.992405 -29.006339  23.777336  22.017569  21.284472  20.954126\n",
       "10950  0.987958 -29.003183  19.775280  19.486214  19.301092  19.267748\n",
       "10951  0.999154 -29.000438  20.332340  19.853199  19.717085  19.665882\n",
       "\n",
       "[10952 rows x 6 columns]"
      ]
     },
     "execution_count": 31,
     "metadata": {},
     "output_type": "execute_result"
    }
   ],
   "source": [
    "brick_info = query_tractor(0,-30,1)\n",
    "brick_info"
   ]
  },
  {
   "cell_type": "code",
   "execution_count": 32,
   "metadata": {},
   "outputs": [
    {
     "name": "stdout",
     "output_type": "stream",
     "text": [
      "             ra        dec        mag passband\n",
      "0      0.052292 -29.990549  20.576283        g\n",
      "1      0.171944 -29.967732  18.637722        g\n",
      "2      0.096170 -29.888849  20.537535        g\n",
      "3      0.346783 -29.956512  21.044132        g\n",
      "4      0.365366 -29.930078  20.946877        r\n",
      "...         ...        ...        ...      ...\n",
      "10947  0.969404 -29.008780  17.161829        g\n",
      "10948  0.979443 -29.004978  16.859154        g\n",
      "10949  0.992405 -29.006339  23.777336        g\n",
      "10950  0.987958 -29.003183  19.775280        g\n",
      "10951  0.999154 -29.000438  20.332340        g\n",
      "\n",
      "[10952 rows x 4 columns]\n"
     ]
    }
   ],
   "source": [
    "mag = []\n",
    "passband = []\n",
    "for n in range(len(brick_info['mag_g'])):\n",
    "    if brick_info['mag_g'][n] != np.inf:\n",
    "        mag.append(brick_info['mag_g'][n])\n",
    "        passband.append('g')\n",
    "    elif brick_info['mag_r'][n] != np.inf:\n",
    "        mag.append(brick_info['mag_r'][n])\n",
    "        passband.append('r')\n",
    "    elif brick_info['mag_i'][n] != np.inf:\n",
    "        mag.append(brick_info['mag_i'][n])\n",
    "        passband.append('i')\n",
    "    elif brick_info['mag_z'][n] != np.inf:\n",
    "        mag.append(brick_info['mag_z'][n])\n",
    "        passband.append('z')\n",
    "    else:\n",
    "        brick_info = brick_info.drop(brick_info.iloc['mag'][n])\n",
    "\n",
    "brick_info = brick_info.drop(['mag_g','mag_r','mag_i','mag_z'], axis=1)\n",
    "brick_info['mag'] = mag\n",
    "brick_info['passband'] = passband\n",
    "\n",
    "print(brick_info)"
   ]
  },
  {
   "cell_type": "code",
   "execution_count": null,
   "metadata": {},
   "outputs": [],
   "source": []
  }
 ],
 "metadata": {
  "kernelspec": {
   "display_name": "Python 3",
   "language": "python",
   "name": "python3"
  },
  "language_info": {
   "codemirror_mode": {
    "name": "ipython",
    "version": 3
   },
   "file_extension": ".py",
   "mimetype": "text/x-python",
   "name": "python",
   "nbconvert_exporter": "python",
   "pygments_lexer": "ipython3",
   "version": "3.9.6"
  }
 },
 "nbformat": 4,
 "nbformat_minor": 2
}
