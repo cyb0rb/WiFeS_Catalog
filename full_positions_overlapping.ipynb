{
 "cells": [
  {
   "cell_type": "markdown",
   "metadata": {},
   "source": [
    "# Dark Sky Positions direct from Catalogue"
   ]
  },
  {
   "cell_type": "code",
   "execution_count": 1,
   "metadata": {},
   "outputs": [
    {
     "name": "stderr",
     "output_type": "stream",
     "text": [
      "/Users/vernica/Library/Python/3.9/lib/python/site-packages/urllib3/__init__.py:35: NotOpenSSLWarning: urllib3 v2 only supports OpenSSL 1.1.1+, currently the 'ssl' module is compiled with 'LibreSSL 2.8.3'. See: https://github.com/urllib3/urllib3/issues/3020\n",
      "  warnings.warn(\n"
     ]
    }
   ],
   "source": [
    "import matplotlib.pyplot as plt\n",
    "from astropy.io import fits as fits\n",
    "\n",
    "import pkg_resources\n",
    "pkg_resources.require(\"numpy==1.26.3\")\n",
    "import numpy as np\n",
    "\n",
    "from dl import queryClient as qc\n",
    "import pandas as pd"
   ]
  },
  {
   "cell_type": "code",
   "execution_count": 2,
   "metadata": {},
   "outputs": [],
   "source": [
    "# timer function\n",
    "import functools\n",
    "import time\n",
    "\n",
    "def timer(func):\n",
    "    @functools.wraps(func)\n",
    "    def wrapper_timer(*args, **kwargs):\n",
    "        tic = time.perf_counter()\n",
    "        value = func(*args, **kwargs)\n",
    "        toc = time.perf_counter()\n",
    "        elapsed_time = toc - tic\n",
    "        print(f\"Elapsed time: {elapsed_time:0.4f} seconds\")\n",
    "        return value\n",
    "    return wrapper_timer\n"
   ]
  },
  {
   "cell_type": "markdown",
   "metadata": {},
   "source": [
    "## Querying tractor catalogue for one degree squares"
   ]
  },
  {
   "cell_type": "code",
   "execution_count": null,
   "metadata": {},
   "outputs": [],
   "source": [
    "#@timer\n",
    "def query_tractor(ra, dec, query_dist=1.0):\n",
    "    \"\"\"Queries the Astro Data Lab for the ra, dec and mag_g of the objects within a square of side length (dist).     \n",
    "    dist is in degrees\n",
    "    \"\"\"\n",
    "    # Bounds of the square we are querying objects for\n",
    "    ra_min=ra\n",
    "    ra_max = ra + query_dist\n",
    "    dec_min=dec\n",
    "    dec_max = dec + query_dist\n",
    "\n",
    "    query = f\"\"\"\n",
    "    SELECT ra, dec, mag_g\n",
    "    FROM ls_dr10.tractor_s\n",
    "    WHERE ra >= ({ra_min}) AND ra < ({ra_max})\n",
    "    AND dec >= ({dec_min}) AND dec < ({dec_max})\n",
    "    AND mag_g <= 21 AND mag_g >= 16\n",
    "    \"\"\"\n",
    "    \n",
    "    # check if this completes successfuly\n",
    "    brick_info = qc.query(sql=query, fmt=\"pandas\")\n",
    "    return brick_info"
   ]
  },
  {
   "cell_type": "markdown",
   "metadata": {},
   "source": [
    "## Get bitmask info"
   ]
  },
  {
   "cell_type": "code",
   "execution_count": 4,
   "metadata": {},
   "outputs": [],
   "source": [
    "#@timer\n",
    "def load_mask_data(index=0, load_all=False):\n",
    "    \"\"\"Load a desired mask data file by index, or just download all five. \n",
    "    Returns a pandas Dataframe with columns 'ra', 'dec', 'radius'\n",
    "    \"\"\"\n",
    "    \n",
    "    # load all\n",
    "    if load_all:\n",
    "        all_masks = []\n",
    "        for i in range(5):\n",
    "            \n",
    "            with np.load(f\"mask_data_{i}.npz\", mmap_mode='r') as mask_data:\n",
    "                mask_array = mask_data['arr_0']\n",
    "                mask_array_byteswap = mask_array.byteswap().newbyteorder()\n",
    "                masked_stars = pd.DataFrame(mask_array_byteswap)\n",
    "                all_masks.append(masked_stars)\n",
    "        return pd.concat(all_masks, ignore_index=True)\n",
    "\n",
    "    # load single index\n",
    "    with np.load(f\"mask_data_{index}.npz\", mmap_mode='r') as mask_data:\n",
    "        mask_array = mask_data['arr_0']\n",
    "        mask_array_byteswap = mask_array.byteswap().newbyteorder()\n",
    "        masked_stars = pd.DataFrame(mask_array_byteswap)\n",
    "\n",
    "    return masked_stars\n",
    "    "
   ]
  },
  {
   "cell_type": "markdown",
   "metadata": {},
   "source": [
    "## Process mask and catalog data together"
   ]
  },
  {
   "cell_type": "code",
   "execution_count": null,
   "metadata": {},
   "outputs": [],
   "source": [
    "#@timer\n",
    "def mask_radius(mag_g, mask_minimum=20):\n",
    "    return (mask_minimum/3600) + 1630./3600. * 1.396**(-mag_g)"
   ]
  },
  {
   "cell_type": "code",
   "execution_count": null,
   "metadata": {},
   "outputs": [],
   "source": [
    "#@timer\n",
    "def combine_data(masked_stars, catalog_stars, mask_minimum=20):\n",
    "    \n",
    "    # cut masked stars to only use the same area as catalog_stars\n",
    "    masked_box = masked_stars.query('(@coords[0] < ra < @coords[1]) and (@coords[2] < dec < @coords[3])')\n",
    "    \n",
    "    # apply buffer radius to mask and star data\n",
    "    masked_box.loc[:, 'radius'] = masked_box['radius'] + (mask_minimum / 3600.)\n",
    "    catalog_stars['radius'] = mask_radius(catalog_stars['mag_g'], mask_minimum)\n",
    "    \n",
    "    # remove g mag\n",
    "    catalog_stars = catalog_stars.drop('mag_g', axis=1)\n",
    "    \n",
    "    # combine catalog + mask\n",
    "    all_stars = pd.concat([masked_box, catalog_stars]).reset_index(drop=True)\n",
    "    return all_stars"
   ]
  },
  {
   "cell_type": "code",
   "execution_count": null,
   "metadata": {},
   "outputs": [],
   "source": [
    "def create_pixel_columns(masked_stars, catalog_stars, coords, dim):\n",
    "    \"\"\"Creates columns for min and max ra and dec for all stars in the dataframe\"\"\"\n",
    "\n",
    "    all_stars = combine_data(masked_stars, catalog_stars, mask_minimum=20)\n",
    "\n",
    "    # find max and min ra/dec corresponding to the mask of star\n",
    "    all_stars['max_ra'] = all_stars['ra'] + all_stars['radius']\n",
    "    all_stars['min_ra'] = all_stars['ra'] - all_stars['radius']\n",
    "    all_stars['max_dec'] = all_stars['dec'] + all_stars['radius']\n",
    "    all_stars['min_dec'] = all_stars['dec'] - all_stars['radius']\n",
    "    \n",
    "    # boolean for radii that go above 1-degree integer RA/DEC bounds\n",
    "    expression = '(max_ra > ceil(ra)) | (min_ra < floor(ra)) | (max_dec > ceil(dec)) | (min_dec < floor(dec))'\n",
    "    all_stars['overlap'] = all_stars.eval(expression)\n",
    "    \n",
    "    # ra, dec, and radius in pixels\n",
    "    # TODO check if off by one is needed?\n",
    "    all_stars['ra_pix'] = np.round((all_stars['ra'] - coords[0]) * dim).astype(int) - 1\n",
    "    all_stars['dec_pix'] = np.round((all_stars['dec'] - coords[2]) * dim).astype(int) - 1\n",
    "    all_stars['rad_pix'] = np.ceil(all_stars['radius'] * dim).astype(int)\n",
    "    \n",
    "    all_stars['min_ra_pix'] = all_stars['ra_pix'] - all_stars['rad_pix']\n",
    "    all_stars['max_ra_pix'] = all_stars['ra_pix'] + all_stars['rad_pix']\n",
    "    all_stars['min_dec_pix'] = all_stars['dec_pix'] - all_stars['rad_pix']\n",
    "    all_stars['max_dec_pix'] = all_stars['dec_pix'] + all_stars['rad_pix']\n",
    "    \n",
    "    # set stars outside of map range to that value\n",
    "    all_stars.loc[all_stars['min_ra_pix'] < 0, 'min_ra_pix'] = 0\n",
    "    all_stars.loc[all_stars['max_ra_pix'] > dim, 'max_ra_pix'] = dim\n",
    "    all_stars.loc[all_stars['min_dec_pix'] < 0, 'min_dec_pix'] = 0\n",
    "    all_stars.loc[all_stars['max_dec_pix'] > dim, 'max_dec_pix'] = dim\n",
    "    \n",
    "    return all_stars"
   ]
  },
  {
   "cell_type": "markdown",
   "metadata": {},
   "source": [
    "## Segmentation map"
   ]
  },
  {
   "cell_type": "code",
   "execution_count": null,
   "metadata": {},
   "outputs": [],
   "source": [
    "#@timer\n",
    "def seg_map(df, dim):\n",
    "\n",
    "    array = np.zeros((dim, dim), dtype=int)\n",
    "\n",
    "    for y, x, r in zip(df['ra_pix'],df['dec_pix'],df['rad_pix']):\n",
    "        ra_max = x + r if x+r <= dim else dim\n",
    "        ra_min = x - r if x-r >= 0 else 0\n",
    "        dec_max = y + r if y+r <= dim else dim\n",
    "        dec_min = y - r if y-r >= 0 else 0\n",
    "\n",
    "        for i in range(ra_min,ra_max):\n",
    "            for j in range(dec_min,dec_max):\n",
    "                if ((i-x)**2 + (j-y)**2) <= r**2:\n",
    "                    array[i,j] = 1\n",
    "\n",
    "    return array"
   ]
  },
  {
   "cell_type": "code",
   "execution_count": 9,
   "metadata": {},
   "outputs": [],
   "source": [
    "#@timer\n",
    "def define_grid(dim, fov=45):\n",
    "    gridlines = np.arange(0, dim+1, (fov/3600 * dim))\n",
    "    return gridlines"
   ]
  },
  {
   "cell_type": "code",
   "execution_count": 10,
   "metadata": {},
   "outputs": [],
   "source": [
    "#@timer\n",
    "def find_dark_regions(array, gridlines):\n",
    "\n",
    "    # calculating and storing the centre of each dark coord\n",
    "    centers = []\n",
    "\n",
    "    for i in range(len(gridlines[:-1])):\n",
    "        centers.append(int((gridlines[i] + gridlines[i+1])/2 + 0.5))\n",
    "\n",
    "    x_cen, y_cen = np.meshgrid(centers, centers)\n",
    "\n",
    "    dark_regions = []\n",
    "\n",
    "    for i in range(len(gridlines) - 1):\n",
    "        for j in range(len(gridlines) - 1):\n",
    "            x_start, x_end = (gridlines[i]).astype(int), (gridlines[i + 1]).astype(int)\n",
    "            y_start, y_end = (gridlines[j]).astype(int), (gridlines[j + 1]).astype(int)\n",
    "            \n",
    "            if np.all(array[y_start:y_end, x_start:x_end] == 0):\n",
    "                dark_regions.append([x_cen[j, i], y_cen[j, i]])\n",
    "\n",
    "    dr_trans = np.array(dark_regions).transpose()\n",
    "\n",
    "    return dr_trans, dark_regions"
   ]
  },
  {
   "cell_type": "code",
   "execution_count": 11,
   "metadata": {},
   "outputs": [],
   "source": [
    "#@timer\n",
    "def create_plot(array, coords, pix_coords, gridlines, dim, dr_trans):\n",
    "\n",
    "    # Creating exclusion map with grid\n",
    "    fig = plt.figure(figsize=(8,8))\n",
    "    ax = fig.add_subplot(111)\n",
    "\n",
    "    plt.imshow(array, origin = 'lower', cmap='gray', vmin=0, vmax=1)\n",
    "\n",
    "    positions = np.linspace(0,dim,5)\n",
    "    x_labels = np.linspace(coords[0],coords[1],5)\n",
    "    y_labels = np.linspace(coords[2],coords[3],5)\n",
    "\n",
    "    ax.set_xticks(positions, x_labels)\n",
    "    ax.set_yticks(positions, y_labels)    \n",
    "\n",
    "    plt.vlines(gridlines, min(pix_coords[1]), max(pix_coords[1]), color='red', linewidth=1)\n",
    "    plt.hlines(gridlines, min(pix_coords[0]), max(pix_coords[0]), color= 'red', linewidth=1)\n",
    "\n",
    "    plt.plot(dr_trans[0], dr_trans[1], 'rx', markersize=10)\n",
    "\n",
    "    plt.tight_layout()\n",
    "    plt.margins(0)\n",
    "    plt.show()\n",
    "\n",
    "    return"
   ]
  },
  {
   "cell_type": "code",
   "execution_count": 12,
   "metadata": {},
   "outputs": [],
   "source": [
    "#@timer\n",
    "def create_data_frame(dark_regions, coords, dim):\n",
    "    dark_ra = []\n",
    "    dark_dec = []\n",
    "\n",
    "    for i in dark_regions:\n",
    "        ra = i[0] / (dim) + coords[0]\n",
    "        dec = i[1] / (dim) + coords[2]\n",
    "        dark_ra.append(ra)\n",
    "        dark_dec.append(dec)\n",
    "\n",
    "    dark_catalogue = pd.DataFrame({'ra':dark_ra, 'dec':dark_dec})\n",
    "    return dark_catalogue"
   ]
  },
  {
   "cell_type": "code",
   "execution_count": 13,
   "metadata": {},
   "outputs": [],
   "source": [
    "#@timer\n",
    "def find_overlapping_extent(ra, dec, all_stars):\n",
    "    # grab everything in a 1 degree square\n",
    "    print(f\"Finding everything within the square RA=({ra}, {ra+1}) and DEC=({dec}, {dec+1})\")\n",
    "    \n",
    "    degree_masks = all_stars.query(f'({ra} < ra < {ra+1}) & ({dec} < dec < {dec+1})')\n",
    "\n",
    "    min_ra = degree_masks['min_ra'].min()\n",
    "    min_dec = degree_masks['min_dec'].min()\n",
    "    max_ra = degree_masks['max_ra'].max()\n",
    "    max_dec = degree_masks['max_dec'].max()\n",
    "    \n",
    "    return min_ra, min_dec, max_ra, max_dec"
   ]
  },
  {
   "cell_type": "code",
   "execution_count": null,
   "metadata": {},
   "outputs": [],
   "source": [
    "@timer\n",
    "def generate_dark_sky_catalogue(ra, dec, query_dist=1.0, map_dist=1.0, mask_min_radius=20, fov=45):\n",
    "    \"\"\"Generates a dataframe of RA/DEC pairs corresponding to allowed dark positions\n",
    "    \n",
    "    Parameters\n",
    "    ----------\n",
    "    ra: `float`\n",
    "        starting right ascension to query/analyze from (degrees)\n",
    "    dec: `float`\n",
    "        starting declination to query/analyze from (degrees)\n",
    "    query_dist: `float`\n",
    "        length of one side of the queried square region of sky from starting ra/dec (degrees, default=1)\n",
    "    map_dist: `float`\n",
    "        length of one side of the analyzed square region of sky from starting ra/dec (degrees, default=1)\n",
    "    mask_min_radius: `float`\n",
    "        minimum masking radius for detected objects (arcseconds, default=20)\n",
    "    fov: `float`\n",
    "        minimum spacing between dark sky regions (arcseconds, default=45)\n",
    "    \"\"\"\n",
    "    \n",
    "    dim = int((3600*4) * map_dist)\n",
    "    \n",
    "    # load masked data\n",
    "    #print(\"Loading masked star data....\")\n",
    "    masked_stars = load_mask_data(load_all=True)\n",
    "    \n",
    "    #print(f\"Querying the tractor catalog for stars from RA({ra}, {ra+query_dist}) to DEC({dec}, {dec+query_dist})...\")\n",
    "    catalog_stars = query_tractor(ra, dec, query_dist)\n",
    "    \n",
    "    # concatenate data\n",
    "    #print(\"Combining mask and queried stars...\")\n",
    "    coords = [ra, ra+map_dist, dec, dec+map_dist]\n",
    "    all_stars = create_pixel_columns(masked_stars, catalog_stars, coords, dim)\n",
    "\n",
    "    #print(\"Creating segmentation map...\")\n",
    "    array = seg_map(all_stars, dim)\n",
    "\n",
    "    #print(\"Defining grid lines...\")\n",
    "    gridlines = define_grid(dim, fov)\n",
    "\n",
    "    #print(\"Finding dark regions...\")\n",
    "    dr_trans, dark_regions = find_dark_regions(array, gridlines)\n",
    "\n",
    "    #print(\"Plotting dark regions...\")\n",
    "    #pix_coords = [all_stars['ra_pix'], all_stars['dec_pix'], all_stars['rad_pix']]\n",
    "    #create_plot(array, coords, pix_coords, gridlines, dim, dr_trans)\n",
    "\n",
    "    #print(\"Converting dark regions to coordinates...\")\n",
    "    dark_catalogue = create_data_frame(dark_regions, coords, dim)\n",
    "\n",
    "    #print(\"Finding overlaps...\")\n",
    "    overlap = find_overlapping_extent(ra,dec,all_stars)\n",
    "    \n",
    "    #print(\"Done!\")\n",
    "\n",
    "    return dark_catalogue, overlap"
   ]
  },
  {
   "cell_type": "code",
   "execution_count": 15,
   "metadata": {},
   "outputs": [
    {
     "ename": "UnboundLocalError",
     "evalue": "local variable 'all_stars' referenced before assignment",
     "output_type": "error",
     "traceback": [
      "\u001b[0;31m---------------------------------------------------------------------------\u001b[0m",
      "\u001b[0;31mUnboundLocalError\u001b[0m                         Traceback (most recent call last)",
      "Cell \u001b[0;32mIn[15], line 10\u001b[0m\n\u001b[1;32m      8\u001b[0m \u001b[38;5;28;01mfor\u001b[39;00m ra \u001b[38;5;129;01min\u001b[39;00m ra_range:\n\u001b[1;32m      9\u001b[0m     \u001b[38;5;28;01mfor\u001b[39;00m dec \u001b[38;5;129;01min\u001b[39;00m dec_range:\n\u001b[0;32m---> 10\u001b[0m         cat, overlap \u001b[38;5;241m=\u001b[39m \u001b[43mgenerate_dark_sky_catalogue\u001b[49m\u001b[43m(\u001b[49m\u001b[43mra\u001b[49m\u001b[43m,\u001b[49m\u001b[43mdec\u001b[49m\u001b[43m)\u001b[49m\n\u001b[1;32m     11\u001b[0m         three_deg_cat \u001b[38;5;241m=\u001b[39m pd\u001b[38;5;241m.\u001b[39mconcat([three_deg_cat,cat],axis\u001b[38;5;241m=\u001b[39m\u001b[38;5;241m1\u001b[39m)\n\u001b[1;32m     12\u001b[0m         overlap_store\u001b[38;5;241m.\u001b[39mappend(overlap)\n",
      "Cell \u001b[0;32mIn[2], line 9\u001b[0m, in \u001b[0;36mtimer.<locals>.wrapper_timer\u001b[0;34m(*args, **kwargs)\u001b[0m\n\u001b[1;32m      6\u001b[0m \u001b[38;5;129m@functools\u001b[39m\u001b[38;5;241m.\u001b[39mwraps(func)\n\u001b[1;32m      7\u001b[0m \u001b[38;5;28;01mdef\u001b[39;00m \u001b[38;5;21mwrapper_timer\u001b[39m(\u001b[38;5;241m*\u001b[39margs, \u001b[38;5;241m*\u001b[39m\u001b[38;5;241m*\u001b[39mkwargs):\n\u001b[1;32m      8\u001b[0m     tic \u001b[38;5;241m=\u001b[39m time\u001b[38;5;241m.\u001b[39mperf_counter()\n\u001b[0;32m----> 9\u001b[0m     value \u001b[38;5;241m=\u001b[39m \u001b[43mfunc\u001b[49m\u001b[43m(\u001b[49m\u001b[38;5;241;43m*\u001b[39;49m\u001b[43margs\u001b[49m\u001b[43m,\u001b[49m\u001b[43m \u001b[49m\u001b[38;5;241;43m*\u001b[39;49m\u001b[38;5;241;43m*\u001b[39;49m\u001b[43mkwargs\u001b[49m\u001b[43m)\u001b[49m\n\u001b[1;32m     10\u001b[0m     toc \u001b[38;5;241m=\u001b[39m time\u001b[38;5;241m.\u001b[39mperf_counter()\n\u001b[1;32m     11\u001b[0m     elapsed_time \u001b[38;5;241m=\u001b[39m toc \u001b[38;5;241m-\u001b[39m tic\n",
      "Cell \u001b[0;32mIn[14], line 33\u001b[0m, in \u001b[0;36mgenerate_dark_sky_catalogue\u001b[0;34m(ra, dec, query_dist, map_dist, mask_min_radius, fov)\u001b[0m\n\u001b[1;32m     30\u001b[0m \u001b[38;5;66;03m# concatenate data\u001b[39;00m\n\u001b[1;32m     31\u001b[0m \u001b[38;5;66;03m#print(\"Combining mask and queried stars...\")\u001b[39;00m\n\u001b[1;32m     32\u001b[0m coords \u001b[38;5;241m=\u001b[39m [ra, ra\u001b[38;5;241m+\u001b[39mmap_dist, dec, dec\u001b[38;5;241m+\u001b[39mmap_dist]\n\u001b[0;32m---> 33\u001b[0m all_stars \u001b[38;5;241m=\u001b[39m create_pixel_columns(\u001b[43mall_stars\u001b[49m, coords, dim)\n\u001b[1;32m     35\u001b[0m \u001b[38;5;66;03m#print(\"Creating segmentation map...\")\u001b[39;00m\n\u001b[1;32m     36\u001b[0m array \u001b[38;5;241m=\u001b[39m seg_map(all_stars, dim, coords)\n",
      "\u001b[0;31mUnboundLocalError\u001b[0m: local variable 'all_stars' referenced before assignment"
     ]
    }
   ],
   "source": [
    "# 3 deg range\n",
    "ra_range = np.arange(0,3,1)\n",
    "dec_range = np.arange(0,3,1)\n",
    "\n",
    "three_deg_cat = pd.DataFrame(columns=['ra','dec'])\n",
    "overlap_store = []\n",
    "\n",
    "for ra in ra_range:\n",
    "    for dec in dec_range:\n",
    "        cat, overlap = generate_dark_sky_catalogue(ra,dec)\n",
    "        three_deg_cat = pd.concat([three_deg_cat,cat],axis=1)\n",
    "        overlap_store.append(overlap)\n",
    "        print('Added (' + ra + ', ' + dec + ') to catalogue')"
   ]
  },
  {
   "cell_type": "code",
   "execution_count": null,
   "metadata": {},
   "outputs": [
    {
     "data": {
      "text/plain": [
       "-2.958397070947133"
      ]
     },
     "execution_count": 35,
     "metadata": {},
     "output_type": "execute_result"
    }
   ],
   "source": [
    "dec = -3\n",
    "top = overlap[3]\n",
    "top"
   ]
  },
  {
   "cell_type": "code",
   "execution_count": null,
   "metadata": {},
   "outputs": [
    {
     "name": "stdout",
     "output_type": "stream",
     "text": [
      "           ra      dec\n",
      "0     3.00625 -2.94375\n",
      "1     3.00625 -2.79375\n",
      "2     3.00625 -2.78125\n",
      "3     3.00625 -2.76875\n",
      "4     3.00625 -2.75625\n",
      "...       ...      ...\n",
      "1271  3.99375 -2.34375\n",
      "1272  3.99375 -2.26875\n",
      "1273  3.99375 -2.25625\n",
      "1274  3.99375 -2.13125\n",
      "1275  3.99375 -2.11875\n",
      "\n",
      "[1276 rows x 2 columns]\n"
     ]
    },
    {
     "data": {
      "text/html": [
       "<div>\n",
       "<style scoped>\n",
       "    .dataframe tbody tr th:only-of-type {\n",
       "        vertical-align: middle;\n",
       "    }\n",
       "\n",
       "    .dataframe tbody tr th {\n",
       "        vertical-align: top;\n",
       "    }\n",
       "\n",
       "    .dataframe thead th {\n",
       "        text-align: right;\n",
       "    }\n",
       "</style>\n",
       "<table border=\"1\" class=\"dataframe\">\n",
       "  <thead>\n",
       "    <tr style=\"text-align: right;\">\n",
       "      <th></th>\n",
       "      <th>ra</th>\n",
       "      <th>dec</th>\n",
       "    </tr>\n",
       "  </thead>\n",
       "  <tbody>\n",
       "    <tr>\n",
       "      <th>0</th>\n",
       "      <td>3.00625</td>\n",
       "      <td>-2.94375</td>\n",
       "    </tr>\n",
       "    <tr>\n",
       "      <th>1</th>\n",
       "      <td>3.00625</td>\n",
       "      <td>-2.79375</td>\n",
       "    </tr>\n",
       "    <tr>\n",
       "      <th>2</th>\n",
       "      <td>3.00625</td>\n",
       "      <td>-2.78125</td>\n",
       "    </tr>\n",
       "    <tr>\n",
       "      <th>3</th>\n",
       "      <td>3.00625</td>\n",
       "      <td>-2.76875</td>\n",
       "    </tr>\n",
       "    <tr>\n",
       "      <th>4</th>\n",
       "      <td>3.00625</td>\n",
       "      <td>-2.75625</td>\n",
       "    </tr>\n",
       "    <tr>\n",
       "      <th>...</th>\n",
       "      <td>...</td>\n",
       "      <td>...</td>\n",
       "    </tr>\n",
       "    <tr>\n",
       "      <th>1271</th>\n",
       "      <td>3.99375</td>\n",
       "      <td>-2.34375</td>\n",
       "    </tr>\n",
       "    <tr>\n",
       "      <th>1272</th>\n",
       "      <td>3.99375</td>\n",
       "      <td>-2.26875</td>\n",
       "    </tr>\n",
       "    <tr>\n",
       "      <th>1273</th>\n",
       "      <td>3.99375</td>\n",
       "      <td>-2.25625</td>\n",
       "    </tr>\n",
       "    <tr>\n",
       "      <th>1274</th>\n",
       "      <td>3.99375</td>\n",
       "      <td>-2.13125</td>\n",
       "    </tr>\n",
       "    <tr>\n",
       "      <th>1275</th>\n",
       "      <td>3.99375</td>\n",
       "      <td>-2.11875</td>\n",
       "    </tr>\n",
       "  </tbody>\n",
       "</table>\n",
       "<p>1276 rows × 2 columns</p>\n",
       "</div>"
      ],
      "text/plain": [
       "           ra      dec\n",
       "0     3.00625 -2.94375\n",
       "1     3.00625 -2.79375\n",
       "2     3.00625 -2.78125\n",
       "3     3.00625 -2.76875\n",
       "4     3.00625 -2.75625\n",
       "...       ...      ...\n",
       "1271  3.99375 -2.34375\n",
       "1272  3.99375 -2.26875\n",
       "1273  3.99375 -2.25625\n",
       "1274  3.99375 -2.13125\n",
       "1275  3.99375 -2.11875\n",
       "\n",
       "[1276 rows x 2 columns]"
      ]
     },
     "execution_count": 37,
     "metadata": {},
     "output_type": "execute_result"
    }
   ],
   "source": [
    "for row, y in enumerate(sq2['dec']):\n",
    "    if y <= top:\n",
    "        sq2.drop(row,axis=0)\n",
    "\n",
    "sq2"
   ]
  },
  {
   "cell_type": "code",
   "execution_count": null,
   "metadata": {},
   "outputs": [
    {
     "ename": "NameError",
     "evalue": "name 'all_stars' is not defined",
     "output_type": "error",
     "traceback": [
      "\u001b[0;31m---------------------------------------------------------------------------\u001b[0m",
      "\u001b[0;31mNameError\u001b[0m                                 Traceback (most recent call last)",
      "Cell \u001b[0;32mIn[15], line 1\u001b[0m\n\u001b[0;32m----> 1\u001b[0m \u001b[43mall_stars\u001b[49m\n",
      "\u001b[0;31mNameError\u001b[0m: name 'all_stars' is not defined"
     ]
    }
   ],
   "source": [
    "all_stars"
   ]
  },
  {
   "cell_type": "code",
   "execution_count": null,
   "metadata": {},
   "outputs": [],
   "source": []
  }
 ],
 "metadata": {
  "kernelspec": {
   "display_name": "Python 3",
   "language": "python",
   "name": "python3"
  },
  "language_info": {
   "codemirror_mode": {
    "name": "ipython",
    "version": 3
   },
   "file_extension": ".py",
   "mimetype": "text/x-python",
   "name": "python",
   "nbconvert_exporter": "python",
   "pygments_lexer": "ipython3",
   "version": "3.9.6"
  }
 },
 "nbformat": 4,
 "nbformat_minor": 2
}
