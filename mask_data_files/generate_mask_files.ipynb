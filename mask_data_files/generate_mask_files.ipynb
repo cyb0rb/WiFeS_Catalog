{
 "cells": [
  {
   "cell_type": "markdown",
   "metadata": {},
   "source": [
    "# Generate mask data files"
   ]
  },
  {
   "cell_type": "markdown",
   "metadata": {},
   "source": [
    "To self-generate files containing mask data, download the following files for each mask type. Warning: these files are large and may take a while to download.\n",
    "\n",
    "- [\"BRIGHT\" and \"MEDIUM-bright\" stars](https://portal.nersc.gov/cfs/cosmo/data/legacysurvey/dr10/masking/gaia-mask-dr10.fits.gz) (2.68 GB)\n",
    "- [Globular Cluters and Planetary Nebulae](https://portal.nersc.gov/cfs/cosmo/data/legacysurvey/dr10/masking/NGC-star-clusters.fits) (33 KB)\n",
    "- [Large Galaxies](https://portal.nersc.gov/cfs/cosmo/data/legacysurvey/dr10/masking/SGA-ellipse-v3.0.kd.fits) (5.78 GB)"
   ]
  },
  {
   "cell_type": "markdown",
   "metadata": {},
   "source": [
    "Import required libraries."
   ]
  },
  {
   "cell_type": "code",
   "execution_count": null,
   "metadata": {},
   "outputs": [],
   "source": [
    "from astropy.coodinates import SkyCoord\n",
    "from astropy.io import fits as fits\n",
    "\n",
    "import numpy as np\n",
    "import pandas as pd\n",
    "import os"
   ]
  },
  {
   "cell_type": "markdown",
   "metadata": {},
   "source": [
    "## Mask Data File for Stars\n",
    "Load downloaded file into workspace. Clean data such that only ra, dec, and radius columns remain and all objects above a declination of 30 are removed. Warning: the below cell takes around ~4 mins to run due to large file size."
   ]
  },
  {
   "cell_type": "code",
   "execution_count": null,
   "metadata": {},
   "outputs": [],
   "source": [
    "path = os.path.abspath('gaia-mask-dr10.fits')\n",
    "\n",
    "print(\"Loading file...\")\n",
    "hdu = fits.open(path, memmap=True)\n",
    "\n",
    "print(\"File loaded. Assigning header and data...\")\n",
    "mask_header = hdu[1].header\n",
    "mask_data = hdu[1].data\n",
    "\n",
    "# check if sources in desi and isbright / is medium\n",
    "print(\"Checking for bright/medium stars in DESI footprint...\")\n",
    "mask_data_cut = mask_data[(mask_data['isbright'] | mask_data['ismedium'])]\n",
    "\n",
    "# drop unneeded columns first\n",
    "print(\"Dropping unneeded columns...(Retaining ra, dec, radius)\")\n",
    "drop_fields = mask_data.names\n",
    "allowed_fields = ['ra', 'dec', 'radius']\n",
    "drop_fields = [field for field in drop_fields if field not in allowed_fields]\n",
    "mask_data_cut = np.lib.recfunctions.rec_drop_fields(mask_data, drop_fields)\n",
    "\n",
    "# Cut out all stars at declinations above DEC\n",
    "dec = 30\n",
    "print(f\"Removing stars above DEC = {dec}\")\n",
    "mask_data_cut = mask_data_cut[mask_data_cut['dec'] < dec]\n",
    "\n",
    "# close everything\n",
    "print(\"Data cleaned!\")\n",
    "hdu.close()\n",
    "del hdu"
   ]
  },
  {
   "cell_type": "markdown",
   "metadata": {},
   "source": [
    "Divide the clean data into more manageable chunks by defining ra_divs and dec_divs for the number of divisions across the sky. We then save these chunks into separate compressed files to be combined and extracted from when generating the sky catalogue."
   ]
  },
  {
   "cell_type": "code",
   "execution_count": null,
   "metadata": {},
   "outputs": [],
   "source": [
    "ra_divs = 2\n",
    "dec_divs = 6\n",
    "\n",
    "ra_ranges = np.linspace(0, 360, ra_divs)\n",
    "dec_ranges = np.linspace(-90, 30, dec_divs)\n",
    "\n",
    "print(ra_ranges)\n",
    "print(dec_ranges)\n",
    "\n",
    "mask_box = []\n",
    "\n",
    "for ra in ra_ranges:\n",
    "    ra_bounds = (mask_data_cut['ra'] > ra) & (mask_data_cut['ra'] < ra+ra_divs)\n",
    "    \n",
    "    for dec in dec_ranges:\n",
    "        dec_bounds = (mask_data_cut['dec'] > dec) & (mask_data_cut['dec'] < dec+dec_divs)\n",
    "        \n",
    "        print(f\"RA: {ra}, DEC: {dec}\")\n",
    "        mask_box.append(mask_data_cut[ra_bounds & dec_bounds])\n",
    "        \n",
    "for i, box in enumerate(mask_box):\n",
    "    print(f\"Saving mask_data_{i}\")\n",
    "    np.savez_compressed(f'mask_data_{i}', box)\n",
    "    \n",
    "print(\"Done\")"
   ]
  },
  {
   "cell_type": "markdown",
   "metadata": {},
   "source": [
    "## Mask Data File for Large Galaxies\n",
    "Load downloaded file into workspace. Select objects with measured magntidues brighter than the 21 mag limit. Remove unneeded columns and convert galaxy major axis diameters to radii such such that only ra, dec, radius values remain in the dataframe. Save the resultant dataframe. Warning: the below cell takes a while to run due to large file size."
   ]
  },
  {
   "cell_type": "code",
   "execution_count": null,
   "metadata": {},
   "outputs": [],
   "source": [
    "path=  os.path.abspath('SGA-ellipse-v3.0.kd.fits')\n",
    "\n",
    "print(\"Loading file...\")\n",
    "hdu = fits.open(path, memmap=True)\n",
    "\n",
    "print(\"File loaded. Assigning header and data...\")\n",
    "mask_header = hdu[1].header\n",
    "mask_data = hdu[1].data\n",
    "\n",
    "# check for unmeasured g magnitude values and extract rows with magnitude brighter than 21\n",
    "print(\"Selecting rows with g magnitude < 21...\")\n",
    "array = mask_data['G_MAG_SB22']\n",
    "non_neg_one = []\n",
    "for i in range(0,len(array)):\n",
    "    if array[i] > -1:\n",
    "        non_neg_one.append(array[i])\n",
    "mask_data_cut = mask_data[(mask_data['G_MAG_SB22']<=21) & (mask_data['G_MAG_SB22']>=0)|(mask_data['R_MAG_SB22']<=21) & (mask_data['R_MAG_SB22']>=0)|(mask_data['Z_MAG_SB22']<=21) & (mask_data['Z_MAG_SB22']>=0)]\n",
    "\n",
    "print(\"Dropping unneeded columns...(Retaining ra, dec, diam)\")\n",
    "drop_fields = mask_data.names\n",
    "allowed_fields = ['RA', 'DEC', 'DIAM']\n",
    "drop_fields = [field for field in drop_fields if field not in allowed_fields]\n",
    "mask_data_cut = np.lib.recfunctions.rec_drop_fields(mask_data_cut, drop_fields)\n",
    "\n",
    "# Cut out all stars at declinations above dec = 30\n",
    "dec = 30\n",
    "print(f\"Removing galaxies above DEC = {dec}\")\n",
    "mask_data_cut = mask_data_cut[mask_data_cut['DEC'] < dec]\n",
    "\n",
    "# Halve the diameter values (in arcmin) to get the radius of the semi-major axis\n",
    "mask_data_cut['DIAM']=mask_data_cut['DIAM']/2\n",
    "\n",
    "# Change the name 'DIAM' to 'RADIUS'\n",
    "mask_data_cut.dtype.names='RADIUS', 'RA', 'DEC'\n",
    "\n",
    "# close everything\n",
    "print(\"Data cleaned!\")\n",
    "hdu.close()\n",
    "del hdu\n",
    "\n",
    "# Generate mask data file\n",
    "print(\"Saving mask_data_galaxies...\")\n",
    "np.savez_compressed(f'mask_data_galaxies', mask_data_cut)"
   ]
  },
  {
   "cell_type": "markdown",
   "metadata": {},
   "source": [
    "## Mask Data File for Globular Clusters and Planetary Nebulae\n",
    "Load downloaded file into the workspace. Do not conduct magnitude check, since all objects are brighter than 21 mag. Remove unneeded columns and retain only ra, dec, radius. Save the resultant dataframe."
   ]
  },
  {
   "cell_type": "code",
   "execution_count": null,
   "metadata": {},
   "outputs": [],
   "source": [
    "path=os.path.abspath('NGC-star-clusters.fits')\n",
    "\n",
    "print(\"Loading file...\")\n",
    "hdu = fits.open(path, memmap=True)\n",
    "\n",
    "print(\"File loaded. Assigning header and data...\")\n",
    "mask_header = hdu[1].header\n",
    "mask_data = hdu[1].data\n",
    "\n",
    "# drop unneeded columns\n",
    "print(\"Dropping unneeded columns...(Retaining ra, dec, radius)\")\n",
    "drop_fields = mask_data.names\n",
    "allowed_fields = ['ra', 'dec', 'radius']\n",
    "drop_fields = [field for field in drop_fields if field not in allowed_fields]\n",
    "mask_data_cut = np.lib.recfunctions.rec_drop_fields(mask_data, drop_fields)\n",
    "\n",
    "# Cut out all stars at declinations above DEC\n",
    "dec = 30\n",
    "print(f\"Removing stars above DEC = {dec}\")\n",
    "mask_data_cut = mask_data_cut[mask_data_cut['dec'] < dec]\n",
    "\n",
    "# close everything\n",
    "print(\"Data cleaned!\")\n",
    "hdu.close()\n",
    "del hdu\n",
    "\n",
    "# generate file\n",
    "print(\"Saving mask_data_clusters...\")\n",
    "np.savez(f'mask_data_clusters', mask_data_cut)"
   ]
  },
  {
   "cell_type": "markdown",
   "metadata": {},
   "source": [
    "To speed up the cataloguing process, proactively remove object masks that fall within the Galactic Plane, LMC, or SMC. These regions are automatically designated as forbidden in the catalogue pipeline."
   ]
  },
  {
   "cell_type": "code",
   "execution_count": null,
   "metadata": {},
   "outputs": [],
   "source": [
    "# reload clusters file and assign byte order\n",
    "cluster_masks = []\n",
    "with np.load(f\"mask_data_clusters.npz\", mmap_mode='r') as mask_data:\n",
    "    mask_array = mask_data['arr_0']\n",
    "    mask_array_byteswap = mask_array.byteswap().newbyteorder()\n",
    "    masked_stars = pd.DataFrame(mask_array_byteswap)\n",
    "    cluster_masks.append(masked_stars)\n",
    "\n",
    "# remove old cluster masks file\n",
    "print(\"Deleting mask_data_clusters...\")\n",
    "os.remove(\"mask_data_clusters.npz\")\n",
    "\n",
    "# create new dataframe to work with\n",
    "mask_df = pd.DataFrame(cluster_masks[0])\n",
    "\n",
    "# remove points in the magellanic clouds and galactic plane\n",
    "print(\"Removing objects in Galactic Plane...\")\n",
    "c_icrs = SkyCoord(ra=mask_df['ra'], dec=mask_df['dec'], frame='icrs', unit='degree')\n",
    "c_gal = c_icrs.galactic\n",
    "for row, b in enumerate(c_gal.b.value):\n",
    "    if abs(b) <= 19:\n",
    "        mask_df = mask_df.drop(row)\n",
    "mask_df = mask_df.reset_index(drop=True)\n",
    "\n",
    "print(\"Removing objects in LMC and SMC...\")\n",
    "for n in range(len(mask_df)):\n",
    "    if (mask_df['ra'][n] >= 76) and (mask_df['ra'][n] <= 86) and (mask_df['dec'][n] >= -76) and (mask_df['dec'][n] <= -64):\n",
    "        mask_df = mask_df.drop(index=n)\n",
    "    elif (mask_df['ra'][n] >= 11) and (mask_df['ra'][n] <= 16) and (mask_df['dec'][n] >= -76) and (mask_df['dec'][n] <= -70):\n",
    "        mask_df = mask_df.drop(index=n)\n",
    "mask_df = mask_df.reset_index(drop=True)\n",
    "\n",
    "# save new mask data file\n",
    "np.savez(f'mask_data_clusters', mask_df)"
   ]
  }
 ],
 "metadata": {
  "kernelspec": {
   "display_name": "Python 3",
   "language": "python",
   "name": "python3"
  },
  "language_info": {
   "codemirror_mode": {
    "name": "ipython",
    "version": 3
   },
   "file_extension": ".py",
   "mimetype": "text/x-python",
   "name": "python",
   "nbconvert_exporter": "python",
   "pygments_lexer": "ipython3",
   "version": "3.9.6"
  }
 },
 "nbformat": 4,
 "nbformat_minor": 2
}
