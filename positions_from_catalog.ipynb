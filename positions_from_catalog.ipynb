{
 "cells": [
  {
   "cell_type": "markdown",
   "metadata": {},
   "source": [
    "# Dark Sky Positions direct from Catalogue"
   ]
  },
  {
   "cell_type": "code",
   "execution_count": 13,
   "metadata": {},
   "outputs": [],
   "source": [
    "import matplotlib.pyplot as plt\n",
    "from astropy.io import fits as fits\n",
    "\n",
    "import pkg_resources\n",
    "pkg_resources.require(\"numpy==1.26.3\")\n",
    "import numpy as np\n",
    "\n",
    "from dl import queryClient as qc\n",
    "import pandas as pd"
   ]
  },
  {
   "cell_type": "markdown",
   "metadata": {},
   "source": [
    "## Querying tractor catalogue for one degree squares"
   ]
  },
  {
   "cell_type": "code",
   "execution_count": 14,
   "metadata": {},
   "outputs": [],
   "source": [
    "def query_tractor(ra, dec, dist=1.0):\n",
    "    \"\"\"Queries the Astro Data Lab for the ra, dec and mag_g of the objects within a square of side length (dist).     \n",
    "    dist is in degrees\n",
    "    \"\"\"\n",
    "    # Bounds of the square we are querying objects for\n",
    "    ra_min=ra\n",
    "    ra_max = ra + dist\n",
    "    dec_min=dec\n",
    "    dec_max = dec + dist\n",
    "\n",
    "    query = f\"\"\"\n",
    "    SELECT ra, dec, mag_g\n",
    "    FROM ls_dr10.tractor_s\n",
    "    WHERE ra >= ({ra_min}) AND ra < ({ra_max})\n",
    "    AND dec >= ({dec_min}) AND dec < ({dec_max})\n",
    "    AND mag_g <= 21 AND mag_g >= 16\n",
    "    \"\"\"\n",
    "    \n",
    "    # check if this completes successfuly\n",
    "    brick_info = qc.query(sql=query, fmt=\"pandas\")\n",
    "    return brick_info, [ra_min, ra_max, dec_min, dec_max]"
   ]
  },
  {
   "cell_type": "code",
   "execution_count": 15,
   "metadata": {},
   "outputs": [],
   "source": [
    "# masking for low magnitude objects\n",
    "\n",
    "def mask_radius(tractor_df, fov_radius=20):\n",
    "    radius = (fov_radius/3600) + 1630./3600. * 1.396**(-tractor_df['mag_g'])\n",
    "    tractor_df['radius'] = radius\n",
    "    return tractor_df"
   ]
  },
  {
   "cell_type": "markdown",
   "metadata": {},
   "source": [
    "## Get bitmask info"
   ]
  },
  {
   "cell_type": "code",
   "execution_count": 16,
   "metadata": {},
   "outputs": [],
   "source": [
    "def load_mask_data(index=0, load_all=False):\n",
    "    \"\"\"Load a desired mask data file by index, or just download all five. \n",
    "    Returns a pandas Dataframe with columns 'ra', 'dec', 'radius'\n",
    "    \"\"\"\n",
    "    \n",
    "    # load all\n",
    "    if load_all:\n",
    "        all_masks = []\n",
    "        for i in range(5):\n",
    "            \n",
    "            with np.load(f\"mask_data_{i}.npz\", mmap_mode='r') as mask_data:\n",
    "                mask_array = mask_data['arr_0']\n",
    "                mask_array_byteswap = mask_array.byteswap().newbyteorder()\n",
    "                masked_stars = pd.DataFrame(mask_array_byteswap)\n",
    "                all_masks.append(masked_stars)\n",
    "        return pd.concat(all_masks, ignore_index=True)\n",
    "\n",
    "    # load single index\n",
    "    with np.load(f\"mask_data_{index}.npz\", mmap_mode='r') as mask_data:\n",
    "        mask_array = mask_data['arr_0']\n",
    "        mask_array_byteswap = mask_array.byteswap().newbyteorder()\n",
    "        masked_stars = pd.DataFrame(mask_array_byteswap)\n",
    "\n",
    "    return masked_stars\n",
    "    "
   ]
  },
  {
   "cell_type": "markdown",
   "metadata": {},
   "source": [
    "## Segmentation map\n",
    "\n",
    "Start with OG seg map, without bitmask stuff yet"
   ]
  },
  {
   "cell_type": "code",
   "execution_count": 17,
   "metadata": {},
   "outputs": [],
   "source": [
    "def full_df(masked_stars, tractor_df, coords):\n",
    "    one_deg_sq = masked_stars.query(' (ra >' + str(coords[0]) + ') & (ra <' + str(coords[1]) + ') & (dec >' + str(coords[2]) + ') & (dec <' + str(coords[3]) + ')' )\n",
    "    df = pd.concat([tractor_df,one_deg_sq], axis=0)\n",
    "    df = df.drop('mag_g', axis=1)\n",
    "    return df"
   ]
  },
  {
   "cell_type": "markdown",
   "metadata": {},
   "source": [
    "## Segmentation map"
   ]
  },
  {
   "cell_type": "code",
   "execution_count": 18,
   "metadata": {},
   "outputs": [],
   "source": [
    "def seg_map(df, dim, coords):\n",
    "\n",
    "    array = np.zeros((dim, dim), dtype=int)\n",
    "\n",
    "    ra_pix = np.round((df['ra'] - coords[0]) * dim).astype(int) - 1\n",
    "    dec_pix = np.round((df['dec'] - coords[2]) * dim ).astype(int) - 1\n",
    "    rad_pix = np.ceil(df['radius']*dim).astype(int)\n",
    "\n",
    "    for y, x, r in zip(ra_pix,dec_pix,rad_pix):\n",
    "        ra_max = x + r if x+r <= dim else dim\n",
    "        ra_min = x - r if x-r >= 0 else 0\n",
    "        dec_max = y + r if y+r <= dim else dim\n",
    "        dec_min = y - r if y-r >= 0 else 0\n",
    "\n",
    "        for i in range(ra_min,ra_max):\n",
    "            for j in range(dec_min,dec_max):\n",
    "                if ((i-x)**2 + (j-y)**2) <= r**2:\n",
    "                    array[i,j] = 1\n",
    "\n",
    "    return array, [ra_pix, dec_pix, rad_pix]"
   ]
  },
  {
   "cell_type": "code",
   "execution_count": 19,
   "metadata": {},
   "outputs": [],
   "source": [
    "def define_grid(dim, fov=45):\n",
    "    gridlines = np.arange(0, dim+1, (fov/3600 * dim))\n",
    "    return gridlines"
   ]
  },
  {
   "cell_type": "code",
   "execution_count": 20,
   "metadata": {},
   "outputs": [],
   "source": [
    "def find_dark_regions(array, gridlines):\n",
    "\n",
    "    # calculating and storing the centre of each dark coord\n",
    "    centers = []\n",
    "\n",
    "    for i in range(len(gridlines[:-1])):\n",
    "        centers.append(int((gridlines[i] + gridlines[i+1])/2 + 0.5))\n",
    "\n",
    "    x_cen, y_cen = np.meshgrid(centers, centers)\n",
    "\n",
    "    dark_regions = []\n",
    "\n",
    "    for i in range(len(gridlines) - 1):\n",
    "        for j in range(len(gridlines) - 1):\n",
    "            x_start, x_end = (gridlines[i]).astype(int), (gridlines[i + 1]).astype(int)\n",
    "            y_start, y_end = (gridlines[j]).astype(int), (gridlines[j + 1]).astype(int)\n",
    "            \n",
    "            if np.all(array[y_start:y_end, x_start:x_end] == 0):\n",
    "                dark_regions.append([x_cen[j, i], y_cen[j, i]])\n",
    "\n",
    "    dr_trans = np.array(dark_regions).transpose()\n",
    "\n",
    "    return dr_trans, dark_regions"
   ]
  },
  {
   "cell_type": "code",
   "execution_count": 21,
   "metadata": {},
   "outputs": [],
   "source": [
    "def create_plot(array, coords, pix_coords, gridlines, dim, dr_trans):\n",
    "\n",
    "    # Creating exclusion map with grid\n",
    "    fig = plt.figure(figsize=(8,8))\n",
    "    ax = fig.add_subplot(111)\n",
    "\n",
    "    plt.imshow(array, origin = 'lower', cmap='gray', vmin=0, vmax=1)\n",
    "\n",
    "    positions = np.linspace(0,dim,5)\n",
    "    x_labels = np.linspace(coords[0],coords[1],5)\n",
    "    y_labels = np.linspace(coords[2],coords[3],5)\n",
    "\n",
    "    ax.set_xticks(positions, x_labels)\n",
    "    ax.set_yticks(positions, y_labels)    \n",
    "\n",
    "    plt.vlines(gridlines, min(pix_coords[1]), max(pix_coords[1]), color='red', linewidth=1)\n",
    "    plt.hlines(gridlines, min(pix_coords[0]), max(pix_coords[0]), color= 'red', linewidth=1)\n",
    "\n",
    "    plt.plot(dr_trans[0], dr_trans[1], 'rx', markersize=10)\n",
    "\n",
    "    plt.tight_layout()\n",
    "    plt.margins(0)\n",
    "    plt.show()\n",
    "\n",
    "    return"
   ]
  },
  {
   "cell_type": "code",
   "execution_count": 22,
   "metadata": {},
   "outputs": [],
   "source": [
    "def create_data_frame(dark_regions, coords, dim):\n",
    "    dark_ra = []\n",
    "    dark_dec = []\n",
    "\n",
    "    for i in dark_regions:\n",
    "        ra = i[0] / (dim) + coords[0]\n",
    "        dec = i[1] / (dim) + coords[2]\n",
    "        dark_ra.append(ra)\n",
    "        dark_dec.append(dec)\n",
    "\n",
    "    dark_catalogue = pd.DataFrame({'ra':dark_ra, 'dec':dark_dec})\n",
    "    return dark_catalogue"
   ]
  },
  {
   "cell_type": "code",
   "execution_count": 25,
   "metadata": {},
   "outputs": [],
   "source": [
    "def generate_dark_sky_catalogue(ra, dec, dist=1.0, fov_radius=20, masked_stars=load_mask_data(index=0,load_all=True), fov=45):\n",
    "    \n",
    "    dim = int((3600*4) * dist)\n",
    "    \n",
    "    tractor_df, coords = query_tractor(ra, dec, dist)\n",
    "\n",
    "    tractor_df = mask_radius(tractor_df, fov_radius)\n",
    "    \n",
    "    df = full_df(masked_stars, tractor_df, coords)\n",
    "\n",
    "    array, pix_coords = seg_map(df, dim, coords)\n",
    "\n",
    "    gridlines = define_grid(dim, fov)\n",
    "\n",
    "    dr_trans, dark_regions = find_dark_regions(array, gridlines)\n",
    "\n",
    "    #create_plot(array, coords, pix_coords, gridlines, dim, dr_trans)\n",
    "\n",
    "    dark_catalogue = create_data_frame(dark_regions, coords, dim)\n",
    "\n",
    "    return dark_catalogue"
   ]
  },
  {
   "cell_type": "code",
   "execution_count": 26,
   "metadata": {},
   "outputs": [
    {
     "data": {
      "text/html": [
       "<div>\n",
       "<style scoped>\n",
       "    .dataframe tbody tr th:only-of-type {\n",
       "        vertical-align: middle;\n",
       "    }\n",
       "\n",
       "    .dataframe tbody tr th {\n",
       "        vertical-align: top;\n",
       "    }\n",
       "\n",
       "    .dataframe thead th {\n",
       "        text-align: right;\n",
       "    }\n",
       "</style>\n",
       "<table border=\"1\" class=\"dataframe\">\n",
       "  <thead>\n",
       "    <tr style=\"text-align: right;\">\n",
       "      <th></th>\n",
       "      <th>ra</th>\n",
       "      <th>dec</th>\n",
       "    </tr>\n",
       "  </thead>\n",
       "  <tbody>\n",
       "    <tr>\n",
       "      <th>0</th>\n",
       "      <td>3.00625</td>\n",
       "      <td>-3.89375</td>\n",
       "    </tr>\n",
       "    <tr>\n",
       "      <th>1</th>\n",
       "      <td>3.00625</td>\n",
       "      <td>-3.85625</td>\n",
       "    </tr>\n",
       "    <tr>\n",
       "      <th>2</th>\n",
       "      <td>3.00625</td>\n",
       "      <td>-3.84375</td>\n",
       "    </tr>\n",
       "    <tr>\n",
       "      <th>3</th>\n",
       "      <td>3.00625</td>\n",
       "      <td>-3.83125</td>\n",
       "    </tr>\n",
       "    <tr>\n",
       "      <th>4</th>\n",
       "      <td>3.00625</td>\n",
       "      <td>-3.79375</td>\n",
       "    </tr>\n",
       "    <tr>\n",
       "      <th>...</th>\n",
       "      <td>...</td>\n",
       "      <td>...</td>\n",
       "    </tr>\n",
       "    <tr>\n",
       "      <th>1503</th>\n",
       "      <td>3.99375</td>\n",
       "      <td>-3.16875</td>\n",
       "    </tr>\n",
       "    <tr>\n",
       "      <th>1504</th>\n",
       "      <td>3.99375</td>\n",
       "      <td>-3.15625</td>\n",
       "    </tr>\n",
       "    <tr>\n",
       "      <th>1505</th>\n",
       "      <td>3.99375</td>\n",
       "      <td>-3.11875</td>\n",
       "    </tr>\n",
       "    <tr>\n",
       "      <th>1506</th>\n",
       "      <td>3.99375</td>\n",
       "      <td>-3.08125</td>\n",
       "    </tr>\n",
       "    <tr>\n",
       "      <th>1507</th>\n",
       "      <td>3.99375</td>\n",
       "      <td>-3.00625</td>\n",
       "    </tr>\n",
       "  </tbody>\n",
       "</table>\n",
       "<p>1508 rows × 2 columns</p>\n",
       "</div>"
      ],
      "text/plain": [
       "           ra      dec\n",
       "0     3.00625 -3.89375\n",
       "1     3.00625 -3.85625\n",
       "2     3.00625 -3.84375\n",
       "3     3.00625 -3.83125\n",
       "4     3.00625 -3.79375\n",
       "...       ...      ...\n",
       "1503  3.99375 -3.16875\n",
       "1504  3.99375 -3.15625\n",
       "1505  3.99375 -3.11875\n",
       "1506  3.99375 -3.08125\n",
       "1507  3.99375 -3.00625\n",
       "\n",
       "[1508 rows x 2 columns]"
      ]
     },
     "execution_count": 26,
     "metadata": {},
     "output_type": "execute_result"
    }
   ],
   "source": [
    "generate_dark_sky_catalogue(3,-4)"
   ]
  },
  {
   "cell_type": "code",
   "execution_count": null,
   "metadata": {},
   "outputs": [],
   "source": []
  }
 ],
 "metadata": {
  "kernelspec": {
   "display_name": "Python 3",
   "language": "python",
   "name": "python3"
  },
  "language_info": {
   "codemirror_mode": {
    "name": "ipython",
    "version": 3
   },
   "file_extension": ".py",
   "mimetype": "text/x-python",
   "name": "python",
   "nbconvert_exporter": "python",
   "pygments_lexer": "ipython3",
   "version": "3.9.6"
  }
 },
 "nbformat": 4,
 "nbformat_minor": 2
}
