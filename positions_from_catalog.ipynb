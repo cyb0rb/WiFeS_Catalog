{
 "cells": [
  {
   "cell_type": "markdown",
   "metadata": {},
   "source": [
    "# Using Tractor catalog for positions"
   ]
  },
  {
   "cell_type": "code",
   "execution_count": 1,
   "metadata": {},
   "outputs": [],
   "source": [
    "import matplotlib.pyplot as plt\n",
    "from astropy.io import fits as fits\n",
    "from astropy.wcs import WCS\n",
    "from astropy.utils import data as data_utils\n",
    "from astropy.nddata import bitmask\n",
    "\n",
    "# version dependencies are currently an issue\n",
    "import pkg_resources\n",
    "pkg_resources.require(\"numpy==1.26.3\")\n",
    "import numpy as np\n",
    "\n",
    "# import json\n",
    "# import requests\n",
    "from dl import authClient as ac, queryClient as qc\n",
    "import pandas as pd"
   ]
  },
  {
   "cell_type": "markdown",
   "metadata": {},
   "source": [
    "## Image query"
   ]
  },
  {
   "cell_type": "code",
   "execution_count": 10,
   "metadata": {},
   "outputs": [],
   "source": [
    "def query_tractor(ra_b, dec_b, dist):\n",
    "    \"\"\"Queries the Astro Data Lab for the ra, dec and mag_g of the objects within a square of side length (dist).     \n",
    "    dist is in degrees\n",
    "    \"\"\"\n",
    "    #Bounds of the square we are querying objects for\n",
    "    ra_min=ra_b\n",
    "    ra_max = ra_b + dist\n",
    "    dec_min=dec_b\n",
    "    dec_max = dec_b + dist\n",
    "\n",
    "    query = f\"\"\"\n",
    "    SELECT ra, dec, mag_g\n",
    "    FROM ls_dr10.tractor_s\n",
    "    WHERE ra >= ({ra_min}) AND ra < ({ra_max})\n",
    "    AND dec >= ({dec_min}) AND dec < ({dec_max})\n",
    "    LIMIT 10\n",
    "    \"\"\"\n",
    "\n",
    "    print(query)\n",
    "    \n",
    "    print(\"Querying the Astro Data Lab...\")\n",
    "    # check if this completes successfuly\n",
    "    brick_info = qc.query(sql=query, fmt=\"pandas\")\n",
    "    return brick_info\n",
    "\n",
    "#tractor_df = query_tractor(100, -25, 1.0)"
   ]
  },
  {
   "cell_type": "code",
   "execution_count": null,
   "metadata": {},
   "outputs": [
    {
     "name": "stdout",
     "output_type": "stream",
     "text": [
      "\n",
      "    SELECT ra, dec, mag_g\n",
      "    FROM ls_dr10.tractor_s\n",
      "    WHERE ra >= (0) AND ra < (1)\n",
      "    AND dec >= (-90) AND dec < (-89)\n",
      "    LIMIT 10\n",
      "    \n",
      "Querying the Astro Data Lab...\n",
      "\n",
      "    SELECT ra, dec, mag_g\n",
      "    FROM ls_dr10.tractor_s\n",
      "    WHERE ra >= (0) AND ra < (1)\n",
      "    AND dec >= (-89) AND dec < (-88)\n",
      "    LIMIT 10\n",
      "    \n",
      "Querying the Astro Data Lab...\n",
      "         ra        dec      mag_g\n",
      "0  0.363933 -88.993322  23.143320\n",
      "1  0.465381 -88.992656  24.622776\n",
      "2  0.366198 -88.992654  23.771152\n",
      "3  0.327409 -88.991996  23.469210\n",
      "4  0.607975 -88.991147  23.872120\n",
      "5  0.592594 -88.989329  24.037241\n",
      "6  0.075726 -88.988294  22.835636\n",
      "7  0.771528 -88.986968  22.760027\n",
      "8  0.849746 -88.986807  22.882387\n",
      "9  0.053733 -88.986357  24.651476\n",
      "\n",
      "    SELECT ra, dec, mag_g\n",
      "    FROM ls_dr10.tractor_s\n",
      "    WHERE ra >= (1) AND ra < (2)\n",
      "    AND dec >= (-90) AND dec < (-89)\n",
      "    LIMIT 10\n",
      "    \n",
      "Querying the Astro Data Lab...\n",
      "\n",
      "    SELECT ra, dec, mag_g\n",
      "    FROM ls_dr10.tractor_s\n",
      "    WHERE ra >= (1) AND ra < (2)\n",
      "    AND dec >= (-89) AND dec < (-88)\n",
      "    LIMIT 10\n",
      "    \n",
      "Querying the Astro Data Lab...\n",
      "         ra        dec      mag_g\n",
      "0  1.785199 -88.999801  23.921240\n",
      "1  1.330691 -88.999071  22.071417\n",
      "2  1.215123 -88.997510  16.268510\n",
      "3  1.827196 -88.997269  24.168251\n",
      "4  1.662213 -88.996768  24.855392\n",
      "5  1.531712 -88.995270  22.333128\n",
      "6  1.783637 -88.994912  24.347982\n",
      "7  1.698496 -88.994272  22.875538\n",
      "8  1.887395 -88.992984  23.544664\n",
      "9  1.302977 -88.992096  23.690006\n"
     ]
    }
   ],
   "source": [
    "for ra_b in [0,1]:\n",
    "    for dec_b in [-90,-89]:\n",
    "        info=query_tractor(ra_b,dec_b,dist=1)\n",
    "    print(info)"
   ]
  },
  {
   "cell_type": "markdown",
   "metadata": {},
   "source": [
    "## Get bitmask info"
   ]
  },
  {
   "cell_type": "code",
   "execution_count": null,
   "metadata": {},
   "outputs": [],
   "source": [
    "# there will be a text file to read from at some point lol"
   ]
  },
  {
   "cell_type": "markdown",
   "metadata": {},
   "source": [
    "## Segmentation map"
   ]
  }
 ],
 "metadata": {
  "kernelspec": {
   "display_name": "base",
   "language": "python",
   "name": "python3"
  },
  "language_info": {
   "codemirror_mode": {
    "name": "ipython",
    "version": 3
   },
   "file_extension": ".py",
   "mimetype": "text/x-python",
   "name": "python",
   "nbconvert_exporter": "python",
   "pygments_lexer": "ipython3",
   "version": "3.11.7"
  }
 },
 "nbformat": 4,
 "nbformat_minor": 2
}
