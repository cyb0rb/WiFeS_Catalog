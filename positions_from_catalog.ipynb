{
 "cells": [
  {
   "cell_type": "markdown",
   "metadata": {},
   "source": [
    "# Using Tractor catalog for positions"
   ]
  },
  {
   "cell_type": "code",
   "execution_count": 2,
   "metadata": {},
   "outputs": [],
   "source": [
    "import matplotlib.pyplot as plt\n",
    "from astropy.io import fits as fits\n",
    "from astropy.wcs import WCS\n",
    "from astropy.utils import data as data_utils\n",
    "from astropy.nddata import bitmask\n",
    "\n",
    "# version dependencies are currently an issue\n",
    "import pkg_resources\n",
    "pkg_resources.require(\"numpy==1.26.3\")\n",
    "import numpy as np\n",
    "\n",
    "# import json\n",
    "# import requests\n",
    "from dl import authClient as ac, queryClient as qc\n",
    "import pandas as pd"
   ]
  },
  {
   "cell_type": "markdown",
   "metadata": {},
   "source": [
    "## Image query"
   ]
  },
  {
   "cell_type": "code",
   "execution_count": 25,
   "metadata": {},
   "outputs": [],
   "source": [
    "def query_tractor(ra_b, dec_b, dist):\n",
    "    \"\"\"Queries the Astro Data Lab for the ra, dec and mag_g of the objects within a square of side length (dist).     \n",
    "    dist is in degrees\n",
    "    \"\"\"\n",
    "    #Bounds of the square we are querying objects for\n",
    "    ra_min=ra_b\n",
    "    ra_max = ra_b + dist\n",
    "    dec_min=dec_b\n",
    "    dec_max = dec_b + dist\n",
    "\n",
    "    query = f\"\"\"\n",
    "    SELECT ra, dec, mag_g\n",
    "    FROM ls_dr10.tractor_s\n",
    "    WHERE ra >= ({ra_min}) AND ra < ({ra_max})\n",
    "    AND dec >= ({dec_min}) AND dec < ({dec_max})\n",
    "    AND mag_g>=16 AND mag_g<=21\n",
    "    \"\"\"\n",
    "\n",
    "    print(query)\n",
    "    \n",
    "    print(\"Querying the Astro Data Lab...\")\n",
    "    # check if this completes successfuly\n",
    "    brick_info = qc.query(sql=query, fmt=\"pandas\")\n",
    "    return brick_info\n",
    "\n",
    "#tractor_df = query_tractor(100, -25, 1.0)"
   ]
  },
  {
   "cell_type": "code",
   "execution_count": 26,
   "metadata": {},
   "outputs": [
    {
     "name": "stdout",
     "output_type": "stream",
     "text": [
      "\n",
      "    SELECT ra, dec, mag_g\n",
      "    FROM ls_dr10.tractor_s\n",
      "    WHERE ra >= (0) AND ra < (1)\n",
      "    AND dec >= (-90) AND dec < (-89)\n",
      "    AND mag_g>=16 AND mag_g<=21\n",
      "    \n",
      "Querying the Astro Data Lab...\n",
      "          ra        dec      mag_g\n",
      "0   0.988276 -89.132644  20.988073\n",
      "1   0.222668 -89.305062  20.794958\n",
      "2   0.789421 -89.294624  20.364925\n",
      "3   0.495449 -89.290410  20.342780\n",
      "4   0.757246 -89.288594  18.739302\n",
      "5   0.695922 -89.287252  19.293839\n",
      "6   0.388128 -89.274055  19.988960\n",
      "7   0.206767 -89.269689  18.334524\n",
      "8   0.771046 -89.258430  18.900785\n",
      "9   0.846243 -89.257052  16.489193\n",
      "10  0.268254 -89.219230  17.323652\n",
      "11  0.610288 -89.214781  17.337160\n",
      "12  0.543179 -89.213696  20.522438\n",
      "13  0.533915 -89.195856  20.442114\n",
      "14  0.304003 -89.170935  20.236864\n",
      "15  0.460989 -89.167663  18.848656\n",
      "16  0.632125 -89.161085  19.964457\n",
      "17  0.488745 -89.157037  18.816286\n",
      "18  0.929419 -89.143405  20.007538\n",
      "19  0.900438 -89.141254  19.416662\n",
      "20  0.079836 -89.130658  17.743507\n",
      "21  0.063236 -89.130324  17.522781\n",
      "22  0.051557 -89.123692  20.775423\n",
      "23  0.641202 -89.120382  17.351534\n",
      "24  0.303104 -89.112318  20.081007\n",
      "25  0.629159 -89.116925  19.212572\n",
      "26  0.886655 -89.108244  19.517590\n",
      "27  0.923600 -89.108146  18.326965\n",
      "28  0.716128 -89.091083  18.300503\n",
      "29  0.594896 -89.088216  20.507484\n",
      "30  0.068507 -89.064925  20.450323\n",
      "31  0.726536 -89.056276  19.522180\n",
      "32  0.574689 -89.043871  20.898787\n",
      "33  0.072524 -89.038179  18.517584\n",
      "34  0.958283 -89.038228  19.178112\n",
      "35  0.093241 -89.032684  19.978725\n",
      "36  0.124618 -89.032242  16.974562\n",
      "37  0.374505 -89.028582  20.627398\n",
      "38  0.468731 -89.032271  20.182930\n",
      "39  0.856613 -89.029559  20.004864\n",
      "40  0.191303 -89.016117  18.424090\n",
      "41  0.214427 -89.008629  17.941298\n",
      "42  0.418467 -89.000039  20.434300\n",
      "43  0.954492 -89.006025  18.279716\n",
      "\n",
      "    SELECT ra, dec, mag_g\n",
      "    FROM ls_dr10.tractor_s\n",
      "    WHERE ra >= (0) AND ra < (1)\n",
      "    AND dec >= (-89) AND dec < (-88)\n",
      "    AND mag_g>=16 AND mag_g<=21\n",
      "    \n",
      "Querying the Astro Data Lab...\n",
      "           ra        dec      mag_g\n",
      "0    0.326406 -88.926474  17.789766\n",
      "1    0.249590 -88.982215  19.877392\n",
      "2    0.766587 -88.984983  18.432741\n",
      "3    0.411129 -88.977270  19.650400\n",
      "4    0.700604 -88.971401  20.347897\n",
      "..        ...        ...        ...\n",
      "267  0.983898 -88.024633  20.102957\n",
      "268  0.285121 -88.004801  18.339788\n",
      "269  0.802229 -88.011860  19.865467\n",
      "270  0.910046 -88.011914  20.174389\n",
      "271  0.912516 -88.007175  19.292212\n",
      "\n",
      "[272 rows x 3 columns]\n",
      "\n",
      "    SELECT ra, dec, mag_g\n",
      "    FROM ls_dr10.tractor_s\n",
      "    WHERE ra >= (1) AND ra < (2)\n",
      "    AND dec >= (-90) AND dec < (-89)\n",
      "    AND mag_g>=16 AND mag_g<=21\n",
      "    \n",
      "Querying the Astro Data Lab...\n",
      "          ra        dec      mag_g\n",
      "0   1.017650 -89.225947  18.338293\n",
      "1   1.103577 -89.175438  17.405489\n",
      "2   1.494844 -89.179873  19.658520\n",
      "3   1.042172 -89.164368  19.943600\n",
      "4   1.924529 -89.310909  18.337511\n",
      "5   1.977419 -89.275482  20.618324\n",
      "6   1.212371 -89.265164  20.496988\n",
      "7   1.928117 -89.254094  20.058878\n",
      "8   1.681235 -89.248088  20.683105\n",
      "9   1.388235 -89.233954  18.457504\n",
      "10  1.776951 -89.221132  19.230780\n",
      "11  1.781525 -89.198405  20.972414\n",
      "12  1.154146 -89.182163  19.570957\n",
      "13  1.193582 -89.179367  16.821644\n",
      "14  1.697992 -89.171798  19.933172\n",
      "15  1.044277 -89.160390  20.557991\n",
      "16  1.371937 -89.132889  20.999002\n",
      "17  1.675292 -89.115115  19.091908\n",
      "18  1.507572 -89.108943  20.657732\n",
      "19  1.468976 -89.048196  19.816105\n",
      "20  1.747822 -89.045347  20.138525\n",
      "21  1.750297 -89.035003  20.053211\n",
      "22  1.875781 -89.018937  16.512318\n",
      "23  1.399182 -89.103080  20.568686\n",
      "24  1.413494 -89.103081  20.871775\n",
      "25  1.407118 -89.066855  20.986948\n",
      "26  1.300463 -89.058761  20.767622\n",
      "27  1.002347 -89.052025  19.441515\n",
      "28  1.115470 -89.039803  19.614727\n",
      "29  1.386108 -89.033537  16.505718\n",
      "30  1.431920 -89.017351  20.705915\n",
      "31  1.307936 -89.015549  17.828032\n",
      "32  1.090221 -89.012269  18.669073\n",
      "33  1.576011 -89.005069  20.002972\n",
      "34  1.658723 -89.013871  20.793764\n",
      "\n",
      "    SELECT ra, dec, mag_g\n",
      "    FROM ls_dr10.tractor_s\n",
      "    WHERE ra >= (1) AND ra < (2)\n",
      "    AND dec >= (-89) AND dec < (-88)\n",
      "    AND mag_g>=16 AND mag_g<=21\n",
      "    \n",
      "Querying the Astro Data Lab...\n",
      "           ra        dec      mag_g\n",
      "0    1.914060 -88.698188  19.165491\n",
      "1    1.306723 -88.669088  18.795763\n",
      "2    1.215123 -88.997510  16.268510\n",
      "3    1.062180 -88.929135  16.290916\n",
      "4    1.093504 -88.928313  19.433914\n",
      "..        ...        ...        ...\n",
      "222  1.132503 -88.016245  19.899090\n",
      "223  1.538751 -88.021294  18.376642\n",
      "224  1.329747 -88.020613  19.664293\n",
      "225  1.843834 -88.035510  20.278822\n",
      "226  1.907639 -88.016099  19.782234\n",
      "\n",
      "[227 rows x 3 columns]\n"
     ]
    }
   ],
   "source": [
    "for ra_b in [0,1]:\n",
    "    for dec_b in [-90,-89]:\n",
    "        info=query_tractor(ra_b,dec_b,dist=1)\n",
    "        print(info)"
   ]
  },
  {
   "cell_type": "markdown",
   "metadata": {},
   "source": [
    "## Get bitmask info"
   ]
  },
  {
   "cell_type": "code",
   "execution_count": 6,
   "metadata": {},
   "outputs": [
    {
     "data": {
      "text/plain": [
       "array([0.04868477, 0.102481  , 0.11692324, 0.00341858, 0.04326776])"
      ]
     },
     "execution_count": 6,
     "metadata": {},
     "output_type": "execute_result"
    }
   ],
   "source": [
    "# there will be a text file to read from at some point lol\n",
    "masked_stars = np.genfromtxt(\"mask_data.txt\", delimiter=' ', names=True, dtype=None)\n",
    "masked_stars"
   ]
  },
  {
   "cell_type": "markdown",
   "metadata": {},
   "source": [
    "## Segmentation map"
   ]
  }
 ],
 "metadata": {
  "kernelspec": {
   "display_name": "venv",
   "language": "python",
   "name": "python3"
  },
  "language_info": {
   "codemirror_mode": {
    "name": "ipython",
    "version": 3
   },
   "file_extension": ".py",
   "mimetype": "text/x-python",
   "name": "python",
   "nbconvert_exporter": "python",
   "pygments_lexer": "ipython3",
   "version": "3.10.12"
  }
 },
 "nbformat": 4,
 "nbformat_minor": 2
}
