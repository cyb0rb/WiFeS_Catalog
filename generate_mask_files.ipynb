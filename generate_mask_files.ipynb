{
 "cells": [
  {
   "cell_type": "markdown",
   "metadata": {},
   "source": [
    "# Generate mask data files\n"
   ]
  },
  {
   "cell_type": "code",
   "execution_count": 1,
   "metadata": {},
   "outputs": [
    {
     "name": "stderr",
     "output_type": "stream",
     "text": [
      "/Users/vernica/Library/Python/3.9/lib/python/site-packages/urllib3/__init__.py:35: NotOpenSSLWarning: urllib3 v2 only supports OpenSSL 1.1.1+, currently the 'ssl' module is compiled with 'LibreSSL 2.8.3'. See: https://github.com/urllib3/urllib3/issues/3020\n",
      "  warnings.warn(\n"
     ]
    }
   ],
   "source": [
    "import matplotlib.pyplot as plt\n",
    "from astropy.io import fits as fits\n",
    "from astropy.wcs import WCS\n",
    "from astropy.utils import data as data_utils\n",
    "from astropy.nddata import bitmask\n",
    "\n",
    "# version dependencies are currently an issue\n",
    "import pkg_resources\n",
    "pkg_resources.require(\"numpy==1.26.3\")\n",
    "import numpy as np\n",
    "\n",
    "# import json\n",
    "# import requests\n",
    "from dl import authClient as ac, queryClient as qc\n",
    "import pandas as pd\n",
    "import os"
   ]
  },
  {
   "cell_type": "code",
   "execution_count": 2,
   "metadata": {},
   "outputs": [
    {
     "name": "stdout",
     "output_type": "stream",
     "text": [
      "\n",
      "/Users/vernica/Documents/GitHub/WiFeS_Catalog/NGC-star-clusters.fits\n"
     ]
    }
   ],
   "source": [
    "os.path.basename('NGC-star-clusters.fits')\n",
    "dir_name=os.path.dirname('NGC-star-clusters.fits')\n",
    "path=os.path.abspath('NGC-star-clusters.fits')\n",
    "print(dir_name)\n",
    "print(path)"
   ]
  },
  {
   "cell_type": "code",
   "execution_count": 3,
   "metadata": {},
   "outputs": [
    {
     "name": "stdout",
     "output_type": "stream",
     "text": [
      "Loading file...\n",
      "Filename: /Users/vernica/Documents/GitHub/WiFeS_Catalog/NGC-star-clusters.fits\n",
      "No.    Name      Ver    Type      Cards   Dimensions   Format\n",
      "  0  PRIMARY       1 PrimaryHDU       4   ()      \n",
      "  1                1 BinTableHDU     24   346R x 8C   [14A, 4A, 6A, D, D, D, D, D]   \n"
     ]
    }
   ],
   "source": [
    "# Escape backslashes by doubling them, explicitly indicating that they should be treated as literal characters.\n",
    "mask_string =\"/Users/vernica/Documents/GitHub/WiFeS_Catalog/NGC-star-clusters.fits\"\n",
    "# mask_string = \"https://portal.nersc.gov/cfs/cosmo/data/legacysurvey/dr10/masking/gaia-mask-dr10.fits.gz\"\n",
    "print(\"Loading file...\")\n",
    "hdu = fits.open(mask_string, memmap=True)\n",
    "hdu.info()"
   ]
  },
  {
   "cell_type": "code",
   "execution_count": 4,
   "metadata": {},
   "outputs": [
    {
     "name": "stdout",
     "output_type": "stream",
     "text": [
      "File loaded. Assigning header and data...\n"
     ]
    }
   ],
   "source": [
    "print(\"File loaded. Assigning header and data...\")\n",
    "mask_header = hdu[1].header\n",
    "mask_data = hdu[1].data\n"
   ]
  },
  {
   "cell_type": "code",
   "execution_count": null,
   "metadata": {},
   "outputs": [],
   "source": [
    "\n",
    "print(mask_header)\n",
    "print(mask_data['G_MAG_SB22'])\n",
    "print(mask_data['BA'])\n",
    "print(repr(mask_header))\n",
    "# print header info"
   ]
  },
  {
   "cell_type": "code",
   "execution_count": 95,
   "metadata": {},
   "outputs": [
    {
     "name": "stdout",
     "output_type": "stream",
     "text": [
      "(353531,)\n",
      "(255282,)\n"
     ]
    }
   ],
   "source": [
    "#Doing a check of the data array sizes at ech step\n",
    "mask_data_c=mask_data[(mask_data['G_MAG_SB22']<=21)&(mask_data['G_MAG_SB22']>=0)]\n",
    "print(mask_data_c.shape)\n",
    "mask_data_c = mask_data_c[mask_data_c['DEC'] < 30]\n",
    "print(mask_data_c.shape)"
   ]
  },
  {
   "cell_type": "code",
   "execution_count": null,
   "metadata": {},
   "outputs": [
    {
     "name": "stdout",
     "output_type": "stream",
     "text": [
      "8.865208\n",
      "50.59867\n"
     ]
    }
   ],
   "source": [
    "#check if any values that are not -1 are in the coloumn for G_MAG_SB22\n",
    "#mask_data_cut = mask_data[(mask_data['G_MAG_SB22']<=21)]\n",
    "with np.printoptions(threshold=2000, suppress=False, linewidth=75):\n",
    "    array=mask_data['G_MAG_SB22']\n",
    "    non_neg_one=[]\n",
    "    for i in range(0,len(array)):\n",
    "        if array[i]>-1:\n",
    "            non_neg_one.append(array[i])\n",
    "    print(min(non_neg_one))\n",
    "    print(max(non_neg_one))\n"
   ]
  },
  {
   "cell_type": "code",
   "execution_count": 88,
   "metadata": {},
   "outputs": [
    {
     "name": "stdout",
     "output_type": "stream",
     "text": [
      "G_Min is -1.0\n",
      "G_Max is 50.59867\n",
      "R_Min is -1.0\n",
      "R_Max is 22.71768\n",
      "Z_Min is -1.0\n",
      "Z_Max is 43.337307\n",
      "[17.526522 16.69055  19.417446 16.842518 17.15974  17.04892  17.018696\n",
      " 20.867655 18.596725 17.26564 ]\n",
      "[16.690638 15.660881 18.075287 15.811423 16.361364 16.120785 16.205322\n",
      " 20.074892 17.522785 16.236042]\n",
      "[16.026987  14.856083  16.899792  15.038198  15.6983385 15.418322\n",
      " 15.514487  19.51936   16.683441  15.443166 ]\n"
     ]
    }
   ],
   "source": [
    "#Only extract rows with values in the magnitude column that meet the requirements \n",
    "mask_data_cut = mask_data[(mask_data['G_MAG_SB22']<=21) & (mask_data['G_MAG_SB22']>=0)|(mask_data['R_MAG_SB22']<=21) & (mask_data['R_MAG_SB22']>=0)|(mask_data['Z_MAG_SB22']<=21) & (mask_data['Z_MAG_SB22']>=0)]\n",
    "#mask_data_cut = mask_data[(mask_data['G_MAG_SB22']<=21) & (mask_data['G_MAG_SB22']>=0)]\n",
    "print('G_Min is', min(mask_data_cut['G_MAG_SB22']))\n",
    "print('G_Max is',max(mask_data_cut['G_MAG_SB22']))\n",
    "print('R_Min is', min(mask_data_cut['R_MAG_SB22']))\n",
    "print('R_Max is',max(mask_data_cut['R_MAG_SB22']))\n",
    "print('Z_Min is', min(mask_data_cut['Z_MAG_SB22']))\n",
    "print('Z_Max is',max(mask_data_cut['Z_MAG_SB22']))\n",
    "print(mask_data_cut['G_MAG_SB22'][0:10])\n",
    "print(mask_data_cut['R_MAG_SB22'][0:10])\n",
    "print(mask_data_cut['Z_MAG_SB22'][0:10])"
   ]
  },
  {
   "cell_type": "code",
   "execution_count": 7,
   "metadata": {},
   "outputs": [
    {
     "name": "stdout",
     "output_type": "stream",
     "text": [
      "Dropping unneeded columns...(Retaining ra, dec, diam, ba, pa, g_mag_sb22, r_mag_sb22, z-mag_sb22)\n"
     ]
    }
   ],
   "source": [
    "print(\"Dropping unneeded columns...(Retaining ra, dec, diam, ba, pa, g_mag_sb22, r_mag_sb22, z-mag_sb22)\")\n",
    "drop_fields = mask_data.names\n",
    "allowed_fields = ['RA', 'DEC', 'RADIUS']\n",
    "drop_fields = [field for field in drop_fields if field not in allowed_fields]\n",
    "mask_data_cut = np.lib.recfunctions.rec_drop_fields(mask_data, drop_fields)\n"
   ]
  },
  {
   "cell_type": "code",
   "execution_count": null,
   "metadata": {},
   "outputs": [
    {
     "name": "stdout",
     "output_type": "stream",
     "text": [
      "Removing galaxies above DEC = 30\n",
      "(259311,)\n",
      "Data cleaned!\n",
      "22.2285\n"
     ]
    }
   ],
   "source": [
    "# Cut out all stars at declinations above DEC\n",
    "dec=30\n",
    "print(f\"Removing galaxies above DEC = {dec}\")\n",
    "mask_data_cut = mask_data_cut[mask_data_cut['DEC'] < dec]\n",
    "print(mask_data_cut.shape)\n",
    "\n",
    "# close everything\n",
    "print(\"Data cleaned!\")\n",
    "hdu.close()\n",
    "del hdu\n",
    "\n",
    "print(max(mask_data_cut['R_MAG_SB22']))\n"
   ]
  },
  {
   "cell_type": "code",
   "execution_count": 4,
   "metadata": {},
   "outputs": [],
   "source": [
    "np.savez_compressed(f'mask_data_clusters', mask_data_cut)"
   ]
  },
  {
   "cell_type": "code",
   "execution_count": 3,
   "metadata": {},
   "outputs": [
    {
     "name": "stdout",
     "output_type": "stream",
     "text": [
      "Loading file...\n",
      "File loaded. Assigning header and data...\n",
      "Checking for bright/medium stars in DESI footprint...\n",
      "Dropping unneeded columns...(Retaining ra, dec, radius)\n",
      "Removing stars above DEC = 30\n",
      "Data cleaned!\n"
     ]
    }
   ],
   "source": [
    "# WARNING this takes a long time (~4 min)\n",
    "\n",
    "def generate_masked_stars(dec=30):\n",
    "    \"\"\"Generates a numpy file object of the masked stars\n",
    "    \n",
    "    DO NOT run this function unless absolutely necessary!!!!\n",
    "    It takes ~4 minutes on its own excluding the amount of time needed to download\n",
    "    the mask fits file.\n",
    "    \n",
    "    Parameters\n",
    "    ----------\n",
    "    dec: `float`\n",
    "        Maximum declination to cut off the catalog at (default = 30)\n",
    "    \"\"\"\n",
    "    \n",
    "    mask_string = \"/Users/vernica/Documents/GitHub/WiFeS_Catalog/NGC-star-clusters.fits\"\n",
    "    # mask_string = \"https://portal.nersc.gov/cfs/cosmo/data/legacysurvey/dr10/masking/gaia-mask-dr10.fits.gz\"\n",
    "    print(\"Loading file...\")\n",
    "    hdu = fits.open(mask_string, memmap=True)\n",
    "    \n",
    "    # hdu.info()\n",
    "    print(\"File loaded. Assigning header and data...\")\n",
    "    mask_header = hdu[1].header\n",
    "    mask_data = hdu[1].data\n",
    "\n",
    "    # check if sources in desi and isbright / is medium\n",
    "    print(\"Checking for bright/medium stars in DESI footprint...\")\n",
    "    #mask_data_cut = mask_data[(mask_data['isbright'] | mask_data['ismedium'])]\n",
    "\n",
    "    # drop unneeded columns first\n",
    "    print(\"Dropping unneeded columns...(Retaining ra, dec, radius)\")\n",
    "    drop_fields = mask_data.names\n",
    "    allowed_fields = ['ra', 'dec', 'radius']\n",
    "    drop_fields = [field for field in drop_fields if field not in allowed_fields]\n",
    "    mask_data_cut = np.lib.recfunctions.rec_drop_fields(mask_data, drop_fields)\n",
    "    \n",
    "    # Cut out all stars at declinations above DEC\n",
    "    print(f\"Removing stars above DEC = {dec}\")\n",
    "    mask_data_cut = mask_data_cut[mask_data_cut['dec'] < dec]\n",
    "\n",
    "    # close everything\n",
    "    print(\"Data cleaned!\")\n",
    "    hdu.close()\n",
    "    del hdu\n",
    "    \n",
    "    return mask_data_cut\n",
    "\n",
    "mask_data_cut = generate_masked_stars()"
   ]
  },
  {
   "cell_type": "code",
   "execution_count": 15,
   "metadata": {},
   "outputs": [
    {
     "name": "stdout",
     "output_type": "stream",
     "text": [
      "[  0  70 140 210 280 350]\n",
      "[-90 -66 -42 -18   6]\n",
      "RA: 0, DEC: -90\n",
      "RA: 0, DEC: -66\n",
      "RA: 0, DEC: -42\n",
      "RA: 0, DEC: -18\n",
      "RA: 0, DEC: 6\n",
      "RA: 70, DEC: -90\n",
      "RA: 70, DEC: -66\n",
      "RA: 70, DEC: -42\n",
      "RA: 70, DEC: -18\n",
      "RA: 70, DEC: 6\n",
      "RA: 140, DEC: -90\n",
      "RA: 140, DEC: -66\n",
      "RA: 140, DEC: -42\n",
      "RA: 140, DEC: -18\n",
      "RA: 140, DEC: 6\n",
      "RA: 210, DEC: -90\n",
      "RA: 210, DEC: -66\n",
      "RA: 210, DEC: -42\n",
      "RA: 210, DEC: -18\n",
      "RA: 210, DEC: 6\n",
      "RA: 280, DEC: -90\n",
      "RA: 280, DEC: -66\n",
      "RA: 280, DEC: -42\n",
      "RA: 280, DEC: -18\n",
      "RA: 280, DEC: 6\n",
      "RA: 350, DEC: -90\n",
      "RA: 350, DEC: -66\n",
      "RA: 350, DEC: -42\n",
      "RA: 350, DEC: -18\n",
      "RA: 350, DEC: 6\n"
     ]
    }
   ],
   "source": [
    "# only consider stuff below a declination of 30\n",
    "\n",
    "def generate_boxes(ra_interval, dec_interval):\n",
    "    \n",
    "    \n",
    "    ra_ranges = np.arange(0, 360, ra_interval)\n",
    "    dec_ranges = np.arange(-90, 30, dec_interval)\n",
    "\n",
    "    print(ra_ranges)\n",
    "    print(dec_ranges)\n",
    "    \n",
    "    mask_box = []\n",
    "    \n",
    "    for ra in ra_ranges:\n",
    "        ra_bounds = (mask_data_cut['ra'] > ra) & (mask_data_cut['ra'] < ra+ra_interval)\n",
    "        \n",
    "        for dec in dec_ranges:\n",
    "            dec_bounds = (mask_data_cut['dec'] > dec) & (mask_data_cut['dec'] < dec+dec_interval)\n",
    "            \n",
    "            print(f\"RA: {ra}, DEC: {dec}\")\n",
    "            mask_box.append(mask_data_cut[ra_bounds & dec_bounds])\n",
    "        \n",
    "    return mask_box\n",
    "\n",
    "mask_box = generate_boxes(70, 24)"
   ]
  },
  {
   "cell_type": "code",
   "execution_count": 18,
   "metadata": {},
   "outputs": [
    {
     "name": "stdout",
     "output_type": "stream",
     "text": [
      "Saving mask_data_0\n",
      "Saving mask_data_1\n",
      "Saving mask_data_2\n",
      "Saving mask_data_3\n",
      "Saving mask_data_4\n",
      "Saving mask_data_5\n",
      "Saving mask_data_6\n",
      "Saving mask_data_7\n",
      "Saving mask_data_8\n",
      "Saving mask_data_9\n",
      "Saving mask_data_10\n",
      "Saving mask_data_11\n",
      "Saving mask_data_12\n",
      "Saving mask_data_13\n",
      "Saving mask_data_14\n",
      "Saving mask_data_15\n",
      "Saving mask_data_16\n",
      "Saving mask_data_17\n",
      "Saving mask_data_18\n",
      "Saving mask_data_19\n",
      "Saving mask_data_20\n",
      "Saving mask_data_21\n",
      "Saving mask_data_22\n",
      "Saving mask_data_23\n",
      "Saving mask_data_24\n",
      "Saving mask_data_25\n",
      "Saving mask_data_26\n",
      "Saving mask_data_27\n",
      "Saving mask_data_28\n",
      "Saving mask_data_29\n",
      "Done\n"
     ]
    }
   ],
   "source": [
    "for i, box in enumerate(mask_box):\n",
    "    print(f\"Saving mask_data_{i}\")\n",
    "    np.savez_compressed(f'mask_data_{i}', box)\n",
    "    \n",
    "print(\"Done\")"
   ]
  },
  {
   "cell_type": "code",
   "execution_count": 8,
   "metadata": {},
   "outputs": [
    {
     "data": {
      "image/png": "[encoded data removed]",
      "text/plain": [
       "<Figure size 640x480 with 1 Axes>"
      ]
     },
     "metadata": {},
     "output_type": "display_data"
    }
   ],
   "source": [
    "fig, ax = plt.subplots()\n",
    "# ax.plot(mask_data_cut['ra'], mask_data_cut['dec'])\n",
    "ax.plot(mask_data_cut['ra'],mask_data_cut['dec'],'.')\n",
    "# for box in mask_box:\n",
    "#     ax.plot(box['RA'], box['DEC'], '.')\n",
    "# ax.vlines(ra_ranges, ymin=-90, ymax=30, color='r')\n",
    "# ax.hlines(dec_ranges, xmin=0, xmax=360, color='r')\n",
    "plt.show()"
   ]
  },
  {
   "cell_type": "code",
   "execution_count": null,
   "metadata": {},
   "outputs": [],
   "source": [
    "cluster_masks = []\n",
    "\n",
    "with np.load(f\"mask_data_files/mask_data_clusters.npz\", mmap_mode='r') as mask_data:\n",
    "    mask_array = mask_data['arr_0']\n",
    "    mask_array_byteswap = mask_array.byteswap().newbyteorder()\n",
    "    masked_stars = pd.DataFrame(mask_array_byteswap)\n",
    "    cluster_masks.append(masked_stars)"
   ]
  },
  {
   "cell_type": "code",
   "execution_count": null,
   "metadata": {},
   "outputs": [
    {
     "data": {
      "text/plain": [
       "7.0"
      ]
     },
     "execution_count": 68,
     "metadata": {},
     "output_type": "execute_result"
    }
   ],
   "source": [
    "df = pd.DataFrame(cluster_masks[0])\n",
    "df = df.drop([5,77]).reset_index(drop=True)"
   ]
  },
  {
   "cell_type": "code",
   "execution_count": null,
   "metadata": {},
   "outputs": [],
   "source": []
  }
 ],
 "metadata": {
  "kernelspec": {
   "display_name": "Python 3",
   "language": "python",
   "name": "python3"
  },
  "language_info": {
   "codemirror_mode": {
    "name": "ipython",
    "version": 3
   },
   "file_extension": ".py",
   "mimetype": "text/x-python",
   "name": "python",
   "nbconvert_exporter": "python",
   "pygments_lexer": "ipython3",
   "version": "3.9.6"
  }
 },
 "nbformat": 4,
 "nbformat_minor": 2
}
