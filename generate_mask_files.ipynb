{
 "cells": [
  {
   "cell_type": "markdown",
   "metadata": {},
   "source": [
    "# Generate mask data files\n"
   ]
  },
  {
   "cell_type": "code",
   "execution_count": 1,
   "metadata": {},
   "outputs": [
    {
     "name": "stderr",
     "output_type": "stream",
     "text": [
      "/Users/vernica/Library/Python/3.9/lib/python/site-packages/urllib3/__init__.py:35: NotOpenSSLWarning: urllib3 v2 only supports OpenSSL 1.1.1+, currently the 'ssl' module is compiled with 'LibreSSL 2.8.3'. See: https://github.com/urllib3/urllib3/issues/3020\n",
      "  warnings.warn(\n"
     ]
    }
   ],
   "source": [
    "import matplotlib.pyplot as plt\n",
    "from astropy.io import fits as fits\n",
    "from astropy.wcs import WCS\n",
    "from astropy.utils import data as data_utils\n",
    "from astropy.nddata import bitmask\n",
    "\n",
    "# version dependencies are currently an issue\n",
    "import pkg_resources\n",
    "pkg_resources.require(\"numpy==1.26.3\")\n",
    "import numpy as np\n",
    "\n",
    "# import json\n",
    "# import requests\n",
    "from dl import authClient as ac, queryClient as qc\n",
    "import pandas as pd\n",
    "import os"
   ]
  },
  {
   "cell_type": "code",
   "execution_count": 2,
   "metadata": {},
   "outputs": [
    {
     "name": "stdout",
     "output_type": "stream",
     "text": [
      "\n",
      "/Users/vernica/Documents/GitHub/WiFeS_Catalog/NGC-star-clusters.fits\n"
     ]
    }
   ],
   "source": [
    "os.path.basename('NGC-star-clusters.fits')\n",
    "dir_name=os.path.dirname('NGC-star-clusters.fits')\n",
    "path=os.path.abspath('NGC-star-clusters.fits')\n",
    "print(dir_name)\n",
    "print(path)"
   ]
  },
  {
   "cell_type": "code",
   "execution_count": 3,
   "metadata": {},
   "outputs": [
    {
     "name": "stdout",
     "output_type": "stream",
     "text": [
      "Loading file...\n",
      "Filename: /Users/vernica/Documents/GitHub/WiFeS_Catalog/NGC-star-clusters.fits\n",
      "No.    Name      Ver    Type      Cards   Dimensions   Format\n",
      "  0  PRIMARY       1 PrimaryHDU       4   ()      \n",
      "  1                1 BinTableHDU     24   346R x 8C   [14A, 4A, 6A, D, D, D, D, D]   \n"
     ]
    }
   ],
   "source": [
    "# Escape backslashes by doubling them, explicitly indicating that they should be treated as literal characters.\n",
    "mask_string =\"/Users/vernica/Documents/GitHub/WiFeS_Catalog/NGC-star-clusters.fits\"\n",
    "# mask_string = \"https://portal.nersc.gov/cfs/cosmo/data/legacysurvey/dr10/masking/gaia-mask-dr10.fits.gz\"\n",
    "print(\"Loading file...\")\n",
    "hdu = fits.open(mask_string, memmap=True)\n",
    "hdu.info()"
   ]
  },
  {
   "cell_type": "code",
   "execution_count": 4,
   "metadata": {},
   "outputs": [
    {
     "name": "stdout",
     "output_type": "stream",
     "text": [
      "File loaded. Assigning header and data...\n"
     ]
    }
   ],
   "source": [
    "print(\"File loaded. Assigning header and data...\")\n",
    "mask_header = hdu[1].header\n",
    "mask_data = hdu[1].data\n"
   ]
  },
  {
   "cell_type": "code",
   "execution_count": null,
   "metadata": {},
   "outputs": [],
   "source": [
    "\n",
    "print(mask_header)\n",
    "print(mask_data['G_MAG_SB22'])\n",
    "print(mask_data['BA'])\n",
    "print(repr(mask_header))\n",
    "# print header info"
   ]
  },
  {
   "cell_type": "code",
   "execution_count": null,
   "metadata": {},
   "outputs": [],
   "source": [
    "#Doing a check of the data array sizes at ech step\n",
    "mask_data_c=mask_data[(mask_data['G_MAG_SB22']<=21)&(mask_data['G_MAG_SB22']>=0)]\n",
    "print(mask_data_c.shape)\n",
    "mask_data_c = mask_data_c[mask_data_c['DEC'] < 30]\n",
    "print(mask_data_c.shape)"
   ]
  },
  {
   "cell_type": "code",
   "execution_count": null,
   "metadata": {},
   "outputs": [],
   "source": [
    "#check if any values that are not -1 are in the coloumn for G_MAG_SB22\n",
    "#mask_data_cut = mask_data[(mask_data['G_MAG_SB22']<=21)]\n",
    "with np.printoptions(threshold=2000, suppress=False, linewidth=75):\n",
    "    array=mask_data['G_MAG_SB22']\n",
    "    non_neg_one=[]\n",
    "    for i in range(0,len(array)):\n",
    "        if array[i]>-1:\n",
    "            non_neg_one.append(array[i])\n",
    "    print(min(non_neg_one))\n",
    "    print(max(non_neg_one))\n"
   ]
  },
  {
   "cell_type": "code",
   "execution_count": null,
   "metadata": {},
   "outputs": [],
   "source": [
    "#Only extract rows with values in the magnitude column that meet the requirements \n",
    "mask_data_cut = mask_data[(mask_data['G_MAG_SB22']<=21) & (mask_data['G_MAG_SB22']>=0)|(mask_data['R_MAG_SB22']<=21) & (mask_data['R_MAG_SB22']>=0)|(mask_data['Z_MAG_SB22']<=21) & (mask_data['Z_MAG_SB22']>=0)]\n",
    "#mask_data_cut = mask_data[(mask_data['G_MAG_SB22']<=21) & (mask_data['G_MAG_SB22']>=0)]\n",
    "print('G_Min is', min(mask_data_cut['G_MAG_SB22']))\n",
    "print('G_Max is',max(mask_data_cut['G_MAG_SB22']))\n",
    "print('R_Min is', min(mask_data_cut['R_MAG_SB22']))\n",
    "print('R_Max is',max(mask_data_cut['R_MAG_SB22']))\n",
    "print('Z_Min is', min(mask_data_cut['Z_MAG_SB22']))\n",
    "print('Z_Max is',max(mask_data_cut['Z_MAG_SB22']))\n",
    "print(mask_data_cut['G_MAG_SB22'][0:10])\n",
    "print(mask_data_cut['R_MAG_SB22'][0:10])\n",
    "print(mask_data_cut['Z_MAG_SB22'][0:10])"
   ]
  },
  {
   "cell_type": "code",
   "execution_count": 30,
   "metadata": {},
   "outputs": [
    {
     "name": "stdout",
     "output_type": "stream",
     "text": [
      "Dropping unneeded columns...(Retaining ra, dec, diam, ba, pa, g_mag_sb22, r_mag_sb22, z-mag_sb22)\n"
     ]
    }
   ],
   "source": [
    "print(\"Dropping unneeded columns...(Retaining ra, dec, diam, ba, pa, g_mag_sb22, r_mag_sb22, z-mag_sb22)\")\n",
    "drop_fields = mask_data.names\n",
    "allowed_fields = ['RA', 'DEC', 'RADIUS']\n",
    "drop_fields = [field for field in drop_fields if field not in allowed_fields]\n",
    "mask_data_cut = np.lib.recfunctions.rec_drop_fields(mask_data, drop_fields)\n"
   ]
  },
  {
   "cell_type": "code",
   "execution_count": null,
   "metadata": {},
   "outputs": [],
   "source": [
    "# Cut out all stars at declinations above DEC\n",
    "dec=30\n",
    "print(f\"Removing galaxies above DEC = {dec}\")\n",
    "mask_data_cut = mask_data_cut[mask_data_cut['DEC'] < dec]\n",
    "print(mask_data_cut.shape)\n",
    "\n",
    "# close everything\n",
    "print(\"Data cleaned!\")\n",
    "hdu.close()\n",
    "del hdu\n",
    "\n",
    "print(max(mask_data_cut['R_MAG_SB22']))\n"
   ]
  },
  {
   "cell_type": "code",
   "execution_count": 6,
   "metadata": {},
   "outputs": [],
   "source": [
    "\n",
    "np.savez_compressed(f'mask_data_clusters', mask_data_cut)"
   ]
  },
  {
   "cell_type": "code",
   "execution_count": 5,
   "metadata": {},
   "outputs": [
    {
     "name": "stdout",
     "output_type": "stream",
     "text": [
      "Loading file...\n",
      "File loaded. Assigning header and data...\n",
      "Checking for bright/medium stars in DESI footprint...\n",
      "Dropping unneeded columns...(Retaining ra, dec, radius)\n",
      "Removing stars above DEC = 30\n",
      "Data cleaned!\n"
     ]
    }
   ],
   "source": [
    "# WARNING this takes a long time (~4 min)\n",
    "\n",
    "def generate_masked_stars(dec=30):\n",
    "    \"\"\"Generates a numpy file object of the masked stars\n",
    "    \n",
    "    DO NOT run this function unless absolutely necessary!!!!\n",
    "    It takes ~4 minutes on its own excluding the amount of time needed to download\n",
    "    the mask fits file.\n",
    "    \n",
    "    Parameters\n",
    "    ----------\n",
    "    dec: `float`\n",
    "        Maximum declination to cut off the catalog at (default = 30)\n",
    "    \"\"\"\n",
    "    \n",
    "    mask_string = \"/Users/vernica/Documents/GitHub/WiFeS_Catalog/NGC-star-clusters.fits\"\n",
    "    # mask_string = \"https://portal.nersc.gov/cfs/cosmo/data/legacysurvey/dr10/masking/gaia-mask-dr10.fits.gz\"\n",
    "    print(\"Loading file...\")\n",
    "    hdu = fits.open(mask_string, memmap=True)\n",
    "    \n",
    "    # hdu.info()\n",
    "    print(\"File loaded. Assigning header and data...\")\n",
    "    mask_header = hdu[1].header\n",
    "    mask_data = hdu[1].data\n",
    "\n",
    "    # check if sources in desi and isbright / is medium\n",
    "    print(\"Checking for bright/medium stars in DESI footprint...\")\n",
    "    #mask_data_cut = mask_data[(mask_data['isbright'] | mask_data['ismedium'])]\n",
    "\n",
    "    # drop unneeded columns first\n",
    "    print(\"Dropping unneeded columns...(Retaining ra, dec, radius)\")\n",
    "    drop_fields = mask_data.names\n",
    "    allowed_fields = ['ra', 'dec', 'radius']\n",
    "    drop_fields = [field for field in drop_fields if field not in allowed_fields]\n",
    "    mask_data_cut = np.lib.recfunctions.rec_drop_fields(mask_data, drop_fields)\n",
    "    \n",
    "    # Cut out all stars at declinations above DEC\n",
    "    print(f\"Removing stars above DEC = {dec}\")\n",
    "    mask_data_cut = mask_data_cut[mask_data_cut['dec'] < dec]\n",
    "\n",
    "    # close everything\n",
    "    print(\"Data cleaned!\")\n",
    "    hdu.close()\n",
    "    del hdu\n",
    "    \n",
    "    return mask_data_cut\n",
    "\n",
    "mask_data_cut = generate_masked_stars()"
   ]
  },
  {
   "cell_type": "code",
   "execution_count": null,
   "metadata": {},
   "outputs": [],
   "source": [
    "# only consider stuff below a declination of 30\n",
    "\n",
    "def generate_boxes(ra_interval, dec_interval):\n",
    "    \n",
    "    \n",
    "    ra_ranges = np.arange(0, 360, ra_interval)\n",
    "    dec_ranges = np.arange(-90, 30, dec_interval)\n",
    "\n",
    "    print(ra_ranges)\n",
    "    print(dec_ranges)\n",
    "    \n",
    "    mask_box = []\n",
    "    \n",
    "    for ra in ra_ranges:\n",
    "        ra_bounds = (mask_data_cut['ra'] > ra) & (mask_data_cut['ra'] < ra+ra_interval)\n",
    "        \n",
    "        for dec in dec_ranges:\n",
    "            dec_bounds = (mask_data_cut['dec'] > dec) & (mask_data_cut['dec'] < dec+dec_interval)\n",
    "            \n",
    "            print(f\"RA: {ra}, DEC: {dec}\")\n",
    "            mask_box.append(mask_data_cut[ra_bounds & dec_bounds])\n",
    "        \n",
    "    return mask_box\n",
    "\n",
    "mask_box = generate_boxes(70, 24)"
   ]
  },
  {
   "cell_type": "code",
   "execution_count": null,
   "metadata": {},
   "outputs": [],
   "source": [
    "for i, box in enumerate(mask_box):\n",
    "    print(f\"Saving mask_data_{i}\")\n",
    "    np.savez_compressed(f'mask_data_{i}', box)\n",
    "    \n",
    "print(\"Done\")"
   ]
  },
  {
   "cell_type": "code",
   "execution_count": null,
   "metadata": {},
   "outputs": [],
   "source": [
    "fig, ax = plt.subplots()\n",
    "# ax.plot(mask_data_cut['ra'], mask_data_cut['dec'])\n",
    "ax.plot(mask_data_cut['ra'],mask_data_cut['dec'],'.')\n",
    "# for box in mask_box:\n",
    "#     ax.plot(box['RA'], box['DEC'], '.')\n",
    "# ax.vlines(ra_ranges, ymin=-90, ymax=30, color='r')\n",
    "# ax.hlines(dec_ranges, xmin=0, xmax=360, color='r')\n",
    "plt.show()"
   ]
  },
  {
   "cell_type": "code",
   "execution_count": 54,
   "metadata": {},
   "outputs": [],
   "source": [
    "cluster_masks = []\n",
    "\n",
    "with np.load(f\"mask_data_clusters.npz\", mmap_mode='r') as mask_data:\n",
    "    mask_array = mask_data['arr_0']\n",
    "    mask_array_byteswap = mask_array.byteswap().newbyteorder()\n",
    "    masked_stars = pd.DataFrame(mask_array_byteswap)\n",
    "    cluster_masks.append(masked_stars)"
   ]
  },
  {
   "cell_type": "code",
   "execution_count": 61,
   "metadata": {},
   "outputs": [
    {
     "data": {
      "text/html": [
       "<div>\n",
       "<style scoped>\n",
       "    .dataframe tbody tr th:only-of-type {\n",
       "        vertical-align: middle;\n",
       "    }\n",
       "\n",
       "    .dataframe tbody tr th {\n",
       "        vertical-align: top;\n",
       "    }\n",
       "\n",
       "    .dataframe thead th {\n",
       "        text-align: right;\n",
       "    }\n",
       "</style>\n",
       "<table border=\"1\" class=\"dataframe\">\n",
       "  <thead>\n",
       "    <tr style=\"text-align: right;\">\n",
       "      <th></th>\n",
       "      <th>ra</th>\n",
       "      <th>dec</th>\n",
       "      <th>radius</th>\n",
       "    </tr>\n",
       "  </thead>\n",
       "  <tbody>\n",
       "    <tr>\n",
       "      <th>0</th>\n",
       "      <td>6.022333</td>\n",
       "      <td>-72.081444</td>\n",
       "      <td>0.530000</td>\n",
       "    </tr>\n",
       "    <tr>\n",
       "      <th>1</th>\n",
       "      <td>6.701042</td>\n",
       "      <td>-71.535667</td>\n",
       "      <td>0.063333</td>\n",
       "    </tr>\n",
       "    <tr>\n",
       "      <th>2</th>\n",
       "      <td>11.764000</td>\n",
       "      <td>-11.871944</td>\n",
       "      <td>0.068000</td>\n",
       "    </tr>\n",
       "    <tr>\n",
       "      <th>3</th>\n",
       "      <td>13.197708</td>\n",
       "      <td>-26.589889</td>\n",
       "      <td>0.160000</td>\n",
       "    </tr>\n",
       "    <tr>\n",
       "      <th>4</th>\n",
       "      <td>13.300000</td>\n",
       "      <td>-73.000000</td>\n",
       "      <td>2.800000</td>\n",
       "    </tr>\n",
       "    <tr>\n",
       "      <th>...</th>\n",
       "      <td>...</td>\n",
       "      <td>...</td>\n",
       "      <td>...</td>\n",
       "    </tr>\n",
       "    <tr>\n",
       "      <th>302</th>\n",
       "      <td>325.091750</td>\n",
       "      <td>-23.179083</td>\n",
       "      <td>0.150000</td>\n",
       "    </tr>\n",
       "    <tr>\n",
       "      <th>303</th>\n",
       "      <td>329.896667</td>\n",
       "      <td>-39.385833</td>\n",
       "      <td>0.031330</td>\n",
       "    </tr>\n",
       "    <tr>\n",
       "      <th>304</th>\n",
       "      <td>337.410708</td>\n",
       "      <td>-20.837333</td>\n",
       "      <td>0.272167</td>\n",
       "    </tr>\n",
       "    <tr>\n",
       "      <th>305</th>\n",
       "      <td>346.685000</td>\n",
       "      <td>12.771000</td>\n",
       "      <td>0.020000</td>\n",
       "    </tr>\n",
       "    <tr>\n",
       "      <th>306</th>\n",
       "      <td>347.111167</td>\n",
       "      <td>-15.611472</td>\n",
       "      <td>0.050000</td>\n",
       "    </tr>\n",
       "  </tbody>\n",
       "</table>\n",
       "<p>307 rows × 3 columns</p>\n",
       "</div>"
      ],
      "text/plain": [
       "             ra        dec    radius\n",
       "0      6.022333 -72.081444  0.530000\n",
       "1      6.701042 -71.535667  0.063333\n",
       "2     11.764000 -11.871944  0.068000\n",
       "3     13.197708 -26.589889  0.160000\n",
       "4     13.300000 -73.000000  2.800000\n",
       "..          ...        ...       ...\n",
       "302  325.091750 -23.179083  0.150000\n",
       "303  329.896667 -39.385833  0.031330\n",
       "304  337.410708 -20.837333  0.272167\n",
       "305  346.685000  12.771000  0.020000\n",
       "306  347.111167 -15.611472  0.050000\n",
       "\n",
       "[307 rows x 3 columns]"
      ]
     },
     "execution_count": 61,
     "metadata": {},
     "output_type": "execute_result"
    }
   ],
   "source": [
    "cluster_masks\n",
    "mask_df = pd.DataFrame(cluster_masks[0])\n",
    "mask_df"
   ]
  },
  {
   "cell_type": "code",
   "execution_count": 62,
   "metadata": {},
   "outputs": [],
   "source": [
    "# remove points in the magellanic clouds and galactic plane\n",
    "from astropy.coordinates import SkyCoord\n",
    "\n",
    "c_icrs = SkyCoord(ra=mask_df['ra'], dec=mask_df['dec'], frame='icrs', unit='degree')\n",
    "c_gal = c_icrs.galactic\n"
   ]
  },
  {
   "cell_type": "code",
   "execution_count": 63,
   "metadata": {},
   "outputs": [],
   "source": [
    "\n",
    "for row, b in enumerate(c_gal.b.value):\n",
    "    if abs(b) <= 19:\n",
    "        mask_df = mask_df.drop(row)\n",
    "        \n",
    "mask_df = mask_df.reset_index(drop=True)\n"
   ]
  },
  {
   "cell_type": "code",
   "execution_count": 64,
   "metadata": {},
   "outputs": [],
   "source": [
    "\n",
    "for n in range(len(mask_df)):\n",
    "    if (mask_df['ra'][n] >= 76) and (mask_df['ra'][n] <= 86) and (mask_df['dec'][n] >= -76) and (mask_df['dec'][n] <= -64):\n",
    "        mask_df = mask_df.drop(index=n)\n",
    "    elif (mask_df['ra'][n] >= 11) and (mask_df['ra'][n] <= 16) and (mask_df['dec'][n] >= -76) and (mask_df['dec'][n] <= -70):\n",
    "        mask_df = mask_df.drop(index=n)\n",
    "\n",
    "mask_df = mask_df.reset_index(drop=True)"
   ]
  },
  {
   "cell_type": "code",
   "execution_count": 67,
   "metadata": {},
   "outputs": [
    {
     "data": {
      "text/plain": [
       "0.553"
      ]
     },
     "execution_count": 67,
     "metadata": {},
     "output_type": "execute_result"
    }
   ],
   "source": [
    "max(mask_df['radius'])"
   ]
  },
  {
   "cell_type": "code",
   "execution_count": 66,
   "metadata": {},
   "outputs": [
    {
     "data": {
      "text/plain": [
       "[<matplotlib.lines.Line2D at 0x14750b310>]"
      ]
     },
     "execution_count": 66,
     "metadata": {},
     "output_type": "execute_result"
    },
    {
     "data": {
      "image/png": "[encoded data removed]",
      "text/plain": [
       "<Figure size 640x480 with 1 Axes>"
      ]
     },
     "metadata": {},
     "output_type": "display_data"
    }
   ],
   "source": [
    "plt.plot(mask_df['ra'],mask_df['dec'],'.')"
   ]
  },
  {
   "cell_type": "code",
   "execution_count": 68,
   "metadata": {},
   "outputs": [],
   "source": [
    "np.savez(f'mask_data_files/mask_data_clusters', mask_df)"
   ]
  },
  {
   "cell_type": "code",
   "execution_count": null,
   "metadata": {},
   "outputs": [],
   "source": []
  }
 ],
 "metadata": {
  "kernelspec": {
   "display_name": "Python 3",
   "language": "python",
   "name": "python3"
  },
  "language_info": {
   "codemirror_mode": {
    "name": "ipython",
    "version": 3
   },
   "file_extension": ".py",
   "mimetype": "text/x-python",
   "name": "python",
   "nbconvert_exporter": "python",
   "pygments_lexer": "ipython3",
   "version": "3.9.6"
  }
 },
 "nbformat": 4,
 "nbformat_minor": 2
}
