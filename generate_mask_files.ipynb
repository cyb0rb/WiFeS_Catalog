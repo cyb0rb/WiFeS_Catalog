{
 "cells": [
  {
   "cell_type": "markdown",
   "metadata": {},
   "source": [
    "# Generate mask data files\n"
   ]
  },
  {
   "cell_type": "code",
   "execution_count": null,
   "metadata": {},
   "outputs": [],
   "source": [
    "import matplotlib.pyplot as plt\n",
    "from astropy.io import fits as fits\n",
    "from astropy.wcs import WCS\n",
    "from astropy.utils import data as data_utils\n",
    "from astropy.nddata import bitmask\n",
    "\n",
    "# version dependencies are currently an issue\n",
    "import pkg_resources\n",
    "pkg_resources.require(\"numpy==1.26.3\")\n",
    "import numpy as np\n",
    "\n",
    "# import json\n",
    "# import requests\n",
    "from dl import authClient as ac, queryClient as qc\n",
    "import pandas as pd"
   ]
  },
  {
   "cell_type": "code",
   "execution_count": null,
   "metadata": {},
   "outputs": [],
   "source": [
    "mask_string = \"/mnt/c/Users/creat/Downloads/gaia-mask-dr10.fits.gz\"\n",
    "# mask_string = \"https://portal.nersc.gov/cfs/cosmo/data/legacysurvey/dr10/masking/gaia-mask-dr10.fits.gz\"\n",
    "print(\"Loading file...\")\n",
    "hdu = fits.open(mask_string, memmap=True)\n",
    "\n",
    "hdu.info()"
   ]
  },
  {
   "cell_type": "code",
   "execution_count": null,
   "metadata": {},
   "outputs": [],
   "source": [
    "print(\"File loaded. Assigning header and data...\")\n",
    "mask_header = hdu[1].header\n",
    "mask_data = hdu[1].data\n",
    "\n",
    "# print header info"
   ]
  },
  {
   "cell_type": "code",
   "execution_count": null,
   "metadata": {},
   "outputs": [],
   "source": [
    "# WARNING this takes a long time (~4 min)\n",
    "\n",
    "def generate_masked_stars(dec=30):\n",
    "    \"\"\"Generates a numpy file object of the masked stars\n",
    "    \n",
    "    DO NOT run this function unless absolutely necessary!!!!\n",
    "    It takes ~4 minutes on its own excluding the amount of time needed to download\n",
    "    the mask fits file.\n",
    "    \n",
    "    Parameters\n",
    "    ----------\n",
    "    dec: `float`\n",
    "        Maximum declination to cut off the catalog at (default = 30)\n",
    "    \"\"\"\n",
    "    \n",
    "    mask_string = \"/mnt/c/Users/creat/Downloads/gaia-mask-dr10.fits.gz\"\n",
    "    # mask_string = \"https://portal.nersc.gov/cfs/cosmo/data/legacysurvey/dr10/masking/gaia-mask-dr10.fits.gz\"\n",
    "    print(\"Loading file...\")\n",
    "    hdu = fits.open(mask_string, memmap=True)\n",
    "    \n",
    "    # hdu.info()\n",
    "    print(\"File loaded. Assigning header and data...\")\n",
    "    mask_header = hdu[1].header\n",
    "    mask_data = hdu[1].data\n",
    "\n",
    "    # check if sources in desi and isbright / is medium\n",
    "    print(\"Checking for bright/medium stars in DESI footprint...\")\n",
    "    mask_data_cut = mask_data[(mask_data['isbright'] | mask_data['ismedium'])]\n",
    "\n",
    "    # drop unneeded columns first\n",
    "    print(\"Dropping unneeded columns...(Retaining ra, dec, radius)\")\n",
    "    drop_fields = mask_data_cut.names\n",
    "    allowed_fields = ['ra', 'dec', 'radius']\n",
    "    drop_fields = [field for field in drop_fields if field not in allowed_fields]\n",
    "    mask_data_cut = np.lib.recfunctions.rec_drop_fields(mask_data_cut, drop_fields)\n",
    "    \n",
    "    # Cut out all stars at declinations above DEC\n",
    "    print(f\"Removing stars above DEC = {dec}\")\n",
    "    mask_data_cut = mask_data_cut[mask_data_cut['dec'] < dec]\n",
    "\n",
    "    # close everything\n",
    "    print(\"Data cleaned!\")\n",
    "    hdu.close()\n",
    "    del hdu\n",
    "    \n",
    "    return mask_data_cut\n",
    "\n",
    "mask_data_cut = generate_masked_stars()"
   ]
  },
  {
   "cell_type": "code",
   "execution_count": null,
   "metadata": {},
   "outputs": [],
   "source": [
    "# only consider stuff below a declination of 30\n",
    "\n",
    "def generate_boxes(ra_interval, dec_interval):\n",
    "    \n",
    "    \n",
    "    ra_ranges = np.arange(0, 360, ra_interval)\n",
    "    dec_ranges = np.arange(-90, 30, dec_interval)\n",
    "\n",
    "    print(ra_ranges)\n",
    "    print(dec_ranges)\n",
    "    \n",
    "    mask_box = []\n",
    "    \n",
    "    for ra in ra_ranges:\n",
    "        ra_bounds = (mask_data_cut['ra'] > ra) & (mask_data_cut['ra'] < ra+ra_interval)\n",
    "        \n",
    "        for dec in dec_ranges:\n",
    "            dec_bounds = (mask_data_cut['dec'] > dec) & (mask_data_cut['dec'] < dec+dec_interval)\n",
    "            \n",
    "            print(f\"RA: {ra}, DEC: {dec}\")\n",
    "            mask_box.append(mask_data_cut[ra_bounds & dec_bounds])\n",
    "        \n",
    "    return mask_box\n",
    "\n",
    "mask_box = generate_boxes(360, 24)"
   ]
  },
  {
   "cell_type": "code",
   "execution_count": null,
   "metadata": {},
   "outputs": [],
   "source": [
    "for i, box in enumerate(mask_box):\n",
    "    print(f\"Saving mask_data_{i}\")\n",
    "    np.savez_compressed(f'mask_data_{i}', box)\n",
    "    \n",
    "print(\"Done\")"
   ]
  },
  {
   "cell_type": "code",
   "execution_count": null,
   "metadata": {},
   "outputs": [],
   "source": [
    "fig, ax = plt.subplots()\n",
    "# ax.plot(mask_data_cut['ra'], mask_data_cut['dec'])\n",
    "for box in mask_box:\n",
    "    ax.plot(box['ra'], box['dec'], '.')\n",
    "# ax.vlines(ra_ranges, ymin=-90, ymax=30, color='r')\n",
    "# ax.hlines(dec_ranges, xmin=0, xmax=360, color='r')\n",
    "plt.show()"
   ]
  }
 ],
 "metadata": {
  "kernelspec": {
   "display_name": "venv",
   "language": "python",
   "name": "python3"
  },
  "language_info": {
   "name": "python",
   "version": "3.10.12"
  }
 },
 "nbformat": 4,
 "nbformat_minor": 2
}
