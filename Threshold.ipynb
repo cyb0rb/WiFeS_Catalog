{
 "cells": [
  {
   "cell_type": "markdown",
   "metadata": {},
   "source": [
    "Threshold Calculation"
   ]
  },
  {
   "cell_type": "markdown",
   "metadata": {},
   "source": [
    "Some Useful Definitions:  \n",
    "Maggie: Linear flux units. An object of AB magnitude of 0 has a flux of 1.0 maggie.  \n",
    "Nanomaggie: Linear flux units. An object with an AB magnitude of 22.5 has a flux of 1e-9 maggie or 1.0 nanomaggie"
   ]
  },
  {
   "cell_type": "code",
   "execution_count": 1,
   "metadata": {},
   "outputs": [],
   "source": [
    "import matplotlib.pyplot as plt\n",
    "import numpy as np\n",
    "from astropy.io import fits as fits\n",
    "from astropy.wcs import WCS\n",
    "import sep"
   ]
  },
  {
   "cell_type": "code",
   "execution_count": 2,
   "metadata": {},
   "outputs": [
    {
     "name": "stdout",
     "output_type": "stream",
     "text": [
      "https://portal.nersc.gov/cfs/cosmo/data/legacysurvey/dr10/south/coadd/000/0001m002/legacysurvey-0001m002-image-g.fits.fz\n",
      "Filename: /Users/vernica/.astropy/cache/download/url/7736deeead2f3b8f68d00b73d4a8bb97/contents\n",
      "No.    Name      Ver    Type      Cards   Dimensions   Format\n",
      "  0  PRIMARY       1 PrimaryHDU       6   ()      \n",
      "  1  COMPRESSED_IMAGE    1 CompImageHDU    142   (3600, 3600)   float32   \n",
      "None\n",
      "SIMPLE  =                    T / file does conform to FITS standard             \n",
      "BITPIX  =                  -32 / data type of original image                    \n",
      "NAXIS   =                    2 / dimension of original image                    \n",
      "NAXIS1  =                 3600 / length of original image axis                  \n",
      "NAXIS2  =                 3600 / length of original image axis                  \n",
      "ZDITHER0=                 6049 / dithering offset when quantizing floats        \n",
      "COMMENT Data product of the DESI Imaging Legacy Surveys                         \n",
      "COMMENT Full documentation at http://legacysurvey.org                           \n",
      "LEGPIPEV= 'DR10.0.1'           / legacypipe git version                         \n",
      "LSDIR   = '/global/project/projectdirs/cosmo/work/legacysurvey/dr10-rocfs' / $LE\n",
      "LSDR    = 'DR10    '           / Data release number                            \n",
      "RUNDATE = '2022-06-14T00:31:22.294200' / runbrick.py run time                   \n",
      "SURVEY  = 'DECaLS+BASS+MzLS'   / The LegacySurveys                              \n",
      "SURVEYID= 'DECaLS BASS MzLS'   / Survey names                                   \n",
      "DRVERSIO=                10000 / LegacySurveys Data Release number              \n",
      "OBSTYPE = 'object  '           / Observation type                               \n",
      "PROCTYPE= 'tile    '           / Processing type                                \n",
      "NODENAME= 'nid01259'           / Machine where script was run                   \n",
      "HOSTNAME= 'cori    '           / NERSC machine where script was run             \n",
      "JOB_ID  = '60142275'           / SLURM job id                                   \n",
      "ARRAY_ID= 'none    '           / SLURM job array id                             \n",
      "UNWISD1 = '/ro-cfs/cosmo/data/unwise/neo7/unwise-coadds/fulldepth'              \n",
      "UNWISD2 = '/ro-cfs/cosmo/data/unwise/allwise/unwise-coadds/fulldepth'           \n",
      "UNWISTD = '/ro-cfs/cosmo/work/wise/outputs/merge/neo7'                          \n",
      "UNWISSKY= '/ro-cfs/cosmo/data/unwise/neo7/unwise-catalog/mod'                   \n",
      "DEPNAM00= 'astrometry'                                                          \n",
      "DEPVER00= '0.90-8-g575ad17b'                                                    \n",
      "DEPNAM01= 'astropy '                                                            \n",
      "DEPVER01= '5.0.4   '                                                            \n",
      "DEPNAM02= 'fitsio  '                                                            \n",
      "DEPVER02= '1.1.6   '                                                            \n",
      "DEPNAM03= 'matplotlib'                                                          \n",
      "DEPVER03= '3.5.2   '                                                            \n",
      "DEPNAM04= 'mkl_fft '                                                            \n",
      "DEPVER04= '1.3.1   '                                                            \n",
      "DEPNAM05= 'numpy   '                                                            \n",
      "DEPVER05= '1.21.2  '                                                            \n",
      "DEPNAM06= 'photutils'                                                           \n",
      "DEPVER06= '1.4.0   '                                                            \n",
      "DEPNAM07= 'scipy   '                                                            \n",
      "DEPVER07= '1.6.3   '                                                            \n",
      "DEPNAM08= 'tractor '                                                            \n",
      "DEPVER08= 'dr10.1  '                                                            \n",
      "DEPNAM09= 'unwise_psf'                                                          \n",
      "DEPVER09= 'dr10.0  '                                                            \n",
      "DEPNAM10= 'LARGEGALAXIES_CAT'                                                   \n",
      "DEPVER10= '/ro-cfs/cosmo/staging/largegalaxies/v3.0/SGA-ellipse-v3.0.kd.fits'   \n",
      "DEPNAM11= 'LARGEGALAXIES_VER'                                                   \n",
      "DEPVER11= 'L3      '                                                            \n",
      "DEPNAM12= 'LARGEGALAXIES_PREBURN'                                               \n",
      "DEPVER12=                    T                                                  \n",
      "DEPNAM13= 'TYCHO2_KD'                                                           \n",
      "DEPVER13= '/ro-cfs/cosmo/staging/tycho2'                                        \n",
      "DEPNAM14= 'GAIA_CAT'                                                            \n",
      "DEPVER14= '/ro-cfs/cosmo/data/gaia/edr3/healpix'                                \n",
      "DEPNAM15= 'SKY_TEMPLATE'                                                        \n",
      "DEPVER15= '/ro-cfs/cosmo/work/legacysurvey/dr10/calib/sky_pattern'              \n",
      "DEPNAM16= 'unwise  '                                                            \n",
      "DEPVER16= '/ro-cfs/cosmo/data/unwise/neo7/unwise-coadds/fulldepth:/ro-cfs/cosm&'\n",
      "CONTINUE  'o/data/unwise/allwise/unwise-coadds/fulldepth'                       \n",
      "DEPNAM17= 'unwise_tr'                                                           \n",
      "DEPVER17= '/ro-cfs/cosmo/work/wise/outputs/merge/neo7'                          \n",
      "DEPNAM18= 'unwise_modelsky'                                                     \n",
      "DEPVER18= '/ro-cfs/cosmo/data/unwise/neo7/unwise-catalog/mod'                   \n",
      "CMDLINE = '/src/legacypipe/py/legacypipe/runbrick.py --brick 0001m002 --skip -&'\n",
      "CONTINUE  '-skip-calibs --threads 8 --stage writecat --write-stage srcs --writ&'\n",
      "CONTINUE  'e-stage tims --bands g,r,i,z --rgb-stretch 1.5 --nsatur 2 --survey-&'\n",
      "CONTINUE  'dir /global/project/projectdirs/cosmo/work/legacysurvey/dr10-rocfs &'\n",
      "CONTINUE  '--outdir /global/cscratch1/sd/mxhf/dr10c-test --checkpoint /global/&'\n",
      "CONTINUE  'cscratch1/sd/mxhf/dr10c-test/checkpoints/000/checkpoint-0001m002.pi&'\n",
      "CONTINUE  'ckle --checkpoint-period 120 --pickle /global/cscratch1/sd/mxhf/dr1&'\n",
      "CONTINUE  '0c-test/pickles/000/runbrick-%(brick)s-%%(stage)s.pickle --no-wise-&'\n",
      "CONTINUE  'ceres --release 10000 --cache-outliers --&'                          \n",
      "CONTINUE  'max-memory-gb 20'   / runbrick command-line                          \n",
      "BRICK   = '0001m002'           / LegacySurveys brick RRRr[pm]DDd                \n",
      "BRICKID =               328928 / LegacySurveys brick id                         \n",
      "RAMIN   =                   0. / Brick RA min (deg)                             \n",
      "RAMAX   =                 0.25 / Brick RA max (deg)                             \n",
      "DECMIN  =               -0.375 / Brick Dec min (deg)                            \n",
      "DECMAX  =               -0.125 / Brick Dec max (deg)                            \n",
      "RA      = '00:00:30.000'       / Brick center RA (hms)                          \n",
      "DEC     = '-00:15:00.000'      / Brick center DEC (dms)                         \n",
      "CENTRA  =                0.125 / Brick center RA (deg)                          \n",
      "CENTDEC =                -0.25 / Brick center Dec (deg)                         \n",
      "CORN1RA =    0.255965935903178 / Brick corner RA (deg)                          \n",
      "CORN1DEC=   -0.380962387829748 / Brick corner Dec (deg)                         \n",
      "CORN2RA =     359.994034064097 / Brick corner RA (deg)                          \n",
      "CORN2DEC=   -0.380962387829748 / Brick corner Dec (deg)                         \n",
      "CORN3RA =     359.994036676442 / Brick corner RA (deg)                          \n",
      "CORN3DEC=   -0.119036306008142 / Brick corner Dec (deg)                         \n",
      "CORN4RA =    0.255963323557502 / Brick corner RA (deg)                          \n",
      "CORN4DEC=   -0.119036306008142 / Brick corner Dec (deg)                         \n",
      "BRICK_G =                    T / Does band g touch this brick?                  \n",
      "CAMS_G  = 'decam   '           / Cameras contributing band g                    \n",
      "BRICK_R =                    T / Does band r touch this brick?                  \n",
      "CAMS_R  = 'decam   '           / Cameras contributing band r                    \n",
      "BRICK_I =                    T / Does band i touch this brick?                  \n",
      "CAMS_I  = 'decam   '           / Cameras contributing band i                    \n",
      "BRICK_Z =                    T / Does band z touch this brick?                  \n",
      "CAMS_Z  = 'decam   '           / Cameras contributing band z                    \n",
      "BANDS   = 'griz    '           / Bands touching this brick                      \n",
      "NBANDS  =                    4 / Number of bands in this catalog                \n",
      "BAND0   = 'g       '           / Band name in this catalog                      \n",
      "BAND1   = 'r       '           / Band name in this catalog                      \n",
      "BAND2   = 'i       '           / Band name in this catalog                      \n",
      "BAND3   = 'z       '           / Band name in this catalog                      \n",
      "VER_TIMS= 'DR10.0.1'                                                            \n",
      "VER_REFS= 'DR10.0.1'                                                            \n",
      "VER_OUTL= 'DR10.0.1'                                                            \n",
      "OUTLIER =                    T                                                  \n",
      "VER_HALO= 'DR10.0.1'                                                            \n",
      "VER_SRCS= 'DR10.0.1'                                                            \n",
      "VER_FITB= 'DR10.0.1'                                                            \n",
      "GALFRPSF=                    T                                                  \n",
      "LESSMASK=                    F                                                  \n",
      "COMMENT DCHISQ array model names                                                \n",
      "DCHISQ_0= 'PSF     '                                                            \n",
      "DCHISQ_1= 'REX     '                                                            \n",
      "DCHISQ_2= 'DEV     '                                                            \n",
      "DCHISQ_3= 'EXP     '                                                            \n",
      "DCHISQ_4= 'SER     '                                                            \n",
      "VER_COAD= 'DR10.0.1'                                                            \n",
      "CTYPE1  = 'RA---TAN'           / TANgent plane                                  \n",
      "CTYPE2  = 'DEC--TAN'           / TANgent plane                                  \n",
      "CRVAL1  =                0.125 / Reference RA                                   \n",
      "CRVAL2  =                -0.25 / Reference Dec                                  \n",
      "CRPIX1  =               1800.5 / Reference x                                    \n",
      "CRPIX2  =               1800.5 / Reference y                                    \n",
      "CD1_1   = -7.27777777777778E-05 / CD matrix                                     \n",
      "CD1_2   =                   0. / CD matrix                                      \n",
      "CD2_1   =                   0. / CD matrix                                      \n",
      "CD2_2   = 7.27777777777778E-05 / CD matrix                                      \n",
      "EQUINOX =                2000. / WCS epoch                                      \n",
      "OBSERVAT= 'CTIO    '           / Observatory name                               \n",
      "TELESCOP= 'CTIO 4.0-m telescope' / Telescope  name                              \n",
      "OBS-LAT =            -30.16606 / Latitude (deg)                                 \n",
      "OBS-LONG=             70.81489 / Longitude (deg)                                \n",
      "OBS-ELEV=                2215. / Elevation (m)                                  \n",
      "INSTRUME= 'DECam   '           / Instrument name                                \n",
      "FILTER  = 'g DECam SDSS c0001 4720.0 1520.0' / Filter name                      \n",
      "FILTERX = 'g       '           / Filter short name                              \n",
      "MJD_MIN =     56537.2579032026 / Earliest MJD in coadd (TAI)                    \n",
      "MJD_MAX =     59163.1508524407 / Latest MJD in coadd (TAI)                      \n",
      "MJD_MEAN=     57807.9951043032 / Mean MJD in coadd (TAI)                        \n",
      "DATEOBS1= '2013-09-02T06:10:47.837' / DATE-OBS for the first image in the stack \n",
      "DATEOBS2= '2020-11-10T03:36:36.651' / DATE-OBS for the last  image in the stack \n",
      "DATEOBS = '2017-02-23T23:52:20.012' / Mean DATE-OBS for the stack (UTC)         \n",
      "IMTYPE  = 'image   '           / LegacySurveys image type                       \n",
      "PRODTYPE= 'image   '           / NOAO image type                                \n",
      "MAGZERO =                 22.5 / Magnitude zeropoint                            \n",
      "BUNIT   = 'nanomaggy'          / AB mag = 22.5 - 2.5*log10(nanomaggy)           \n",
      "COSKY_G = -7.88914476288483E-05 / Sky level estimated (+subtracted) from coadd  \n"
     ]
    },
    {
     "data": {
      "image/png": "[encoded data removed]",
      "text/plain": [
       "<Figure size 800x800 with 1 Axes>"
      ]
     },
     "metadata": {},
     "output_type": "display_data"
    }
   ],
   "source": [
    "# test_image = fits.open(\"/mnt/c/Users/creat/Downloads/cutout_190.1086_1.2005.fits\")\n",
    "\n",
    "url = \"https://portal.nersc.gov/cfs/cosmo/data/legacysurvey/dr10/south/coadd/\"\n",
    "section = \"000\"\n",
    "brick = \"0001m002\"\n",
    "filters = \"g\"\n",
    "image_string = url + f\"{section}/{brick}/legacysurvey-{brick}-image-{filters}.fits.fz\"\n",
    "print(image_string)\n",
    "\n",
    "test_image = fits.open(image_string)\n",
    "print(test_image.info())\n",
    "print(repr(test_image[1].header))\n",
    "\n",
    "wcs = WCS(test_image[1].header)\n",
    "\n",
    "zimage = test_image[1].data\n",
    "\n",
    "fig = plt.figure(figsize=(8,8))\n",
    "ax = plt.subplot(111, projection=wcs)\n",
    "lon = ax.coords['ra']\n",
    "lat = ax.coords['dec']\n",
    "ax.imshow(zimage, norm='linear')\n",
    "\n",
    "\n",
    "plt.tight_layout()"
   ]
  },
  {
   "cell_type": "markdown",
   "metadata": {},
   "source": [
    "Background Noise for Source Extraction"
   ]
  },
  {
   "cell_type": "code",
   "execution_count": 3,
   "metadata": {},
   "outputs": [
    {
     "name": "stdout",
     "output_type": "stream",
     "text": [
      "0.0017128840554505587\n",
      "[[0.00162032 0.00161948 0.00161863 ... 0.00163253 0.00163355 0.00163457]\n",
      " [0.00161929 0.00161848 0.00161766 ... 0.00163351 0.0016345  0.00163549]\n",
      " [0.00161822 0.00161743 0.00161664 ... 0.00163449 0.00163545 0.00163642]\n",
      " ...\n",
      " [0.00173416 0.00173462 0.00173507 ... 0.00078353 0.0007831  0.00078267]\n",
      " [0.00173889 0.00173932 0.00173975 ... 0.0007823  0.00078185 0.00078139]\n",
      " [0.00174364 0.00174405 0.00174446 ... 0.00078106 0.00078058 0.00078011]]\n"
     ]
    }
   ],
   "source": [
    "bkg=sep.Background(zimage)\n",
    "#Single Number Average\n",
    "sigm_gb=bkg.globalrms\n",
    "print(sigm_gb)\n",
    "bkg_rms=bkg.rms()\n",
    "#As a 2-d Numpy Array\n",
    "print(bkg_rms)"
   ]
  },
  {
   "cell_type": "markdown",
   "metadata": {},
   "source": [
    "Threshold"
   ]
  },
  {
   "cell_type": "code",
   "execution_count": 4,
   "metadata": {},
   "outputs": [
    {
     "name": "stdout",
     "output_type": "stream",
     "text": [
      "Threshold is 1549.461445008231\n"
     ]
    }
   ],
   "source": [
    "limiting_mag=21\n",
    "mag_zero=test_image[1].header['MAGZERO']\n",
    "flux=10**((limiting_mag-mag_zero)/(-2.5)) #This does not take into account PSF\n",
    "a=flux/(1.5*sigm_gb)\n",
    "print(\"Threshold is\",a)"
   ]
  },
  {
   "cell_type": "markdown",
   "metadata": {},
   "source": [
    "Threshold Function"
   ]
  },
  {
   "cell_type": "code",
   "execution_count": 5,
   "metadata": {},
   "outputs": [],
   "source": [
    "def threshold_func(limit_mag,zero_mag,sigma_gb):\n",
    "    threshold=(1/(1.5*sigma_gb))*(10**((zero_mag-limit_mag)/2.5))\n",
    "    return threshold"
   ]
  },
  {
   "cell_type": "markdown",
   "metadata": {},
   "source": [
    "Test the Function Works using This Image"
   ]
  },
  {
   "cell_type": "code",
   "execution_count": 6,
   "metadata": {},
   "outputs": [
    {
     "data": {
      "text/plain": [
       "1549.461445008231"
      ]
     },
     "execution_count": 6,
     "metadata": {},
     "output_type": "execute_result"
    }
   ],
   "source": [
    "threshold_func(limiting_mag,mag_zero,sigm_gb)"
   ]
  },
  {
   "cell_type": "code",
   "execution_count": null,
   "metadata": {},
   "outputs": [],
   "source": []
  }
 ],
 "metadata": {
  "kernelspec": {
   "display_name": "Python 3",
   "language": "python",
   "name": "python3"
  },
  "language_info": {
   "codemirror_mode": {
    "name": "ipython",
    "version": 3
   },
   "file_extension": ".py",
   "mimetype": "text/x-python",
   "name": "python",
   "nbconvert_exporter": "python",
   "pygments_lexer": "ipython3",
   "version": "3.9.6"
  }
 },
 "nbformat": 4,
 "nbformat_minor": 2
}
